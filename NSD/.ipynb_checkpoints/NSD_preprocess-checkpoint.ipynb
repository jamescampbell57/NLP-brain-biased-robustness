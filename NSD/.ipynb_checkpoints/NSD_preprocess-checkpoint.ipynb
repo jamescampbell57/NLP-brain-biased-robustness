{
 "cells": [
  {
   "cell_type": "code",
   "execution_count": 1,
   "id": "7a46f26d",
   "metadata": {
    "scrolled": true
   },
   "outputs": [
    {
     "name": "stdout",
     "output_type": "stream",
     "text": [
      "--2022-04-27 19:36:00--  http://images.cocodataset.org/annotations/annotations_trainval2017.zip\n",
      "Resolving images.cocodataset.org (images.cocodataset.org)... 52.217.204.249\n",
      "Connecting to images.cocodataset.org (images.cocodataset.org)|52.217.204.249|:80... connected.\n",
      "HTTP request sent, awaiting response... 200 OK\n",
      "Length: 252907541 (241M) [application/zip]\n",
      "Saving to: ‘annotations_trainval2017.zip’\n",
      "\n",
      "annotations_trainva 100%[===================>] 241.19M  68.9MB/s    in 3.5s    \n",
      "\n",
      "2022-04-27 19:36:04 (68.9 MB/s) - ‘annotations_trainval2017.zip’ saved [252907541/252907541]\n",
      "\n"
     ]
    }
   ],
   "source": [
    "#Run from within NSD directory\n",
    "!wget http://images.cocodataset.org/annotations/annotations_trainval2017.zip"
   ]
  },
  {
   "cell_type": "code",
   "execution_count": 3,
   "id": "b22e4c8a",
   "metadata": {
    "scrolled": false
   },
   "outputs": [
    {
     "name": "stdout",
     "output_type": "stream",
     "text": [
      "Archive:  annotations_trainval2017.zip\n",
      "  inflating: annotations/instances_train2017.json  \n",
      "  inflating: annotations/instances_val2017.json  \n",
      "  inflating: annotations/captions_train2017.json  \n",
      "  inflating: annotations/captions_val2017.json  \n",
      "  inflating: annotations/person_keypoints_train2017.json  \n",
      "  inflating: annotations/person_keypoints_val2017.json  \n"
     ]
    }
   ],
   "source": [
    "!unzip annotations_trainval2017.zip"
   ]
  },
  {
   "cell_type": "code",
   "execution_count": 7,
   "id": "0d1c31d8",
   "metadata": {},
   "outputs": [],
   "source": [
    "import numpy as np\n",
    "import scipy.io\n",
    "import matplotlib.pyplot as plt\n",
    "import h5py\n",
    "from pycocotools.coco import COCO\n",
    "import time\n",
    "import csv"
   ]
  },
  {
   "cell_type": "code",
   "execution_count": 16,
   "id": "6f2db05a",
   "metadata": {},
   "outputs": [
    {
     "name": "stdout",
     "output_type": "stream",
     "text": [
      "loading annotations into memory...\n",
      "Done (t=26.66s)\n",
      "creating index...\n",
      "index created!\n",
      "loading annotations into memory...\n",
      "Done (t=0.66s)\n",
      "creating index...\n",
      "index created!\n",
      "loading annotations into memory...\n",
      "Done (t=1.09s)\n",
      "creating index...\n",
      "index created!\n",
      "loading annotations into memory...\n",
      "Done (t=0.05s)\n",
      "creating index...\n",
      "index created!\n"
     ]
    }
   ],
   "source": [
    "coco3 = COCO('annotations/captions_train2017.json')\n",
    "coco4 = COCO('annotations/captions_val2017.json')\n",
    "\n",
    "def load_csv(csv_file):\n",
    "    file = open(csv_file)\n",
    "    csvreader = csv.reader(file)\n",
    "    header = next(csvreader)\n",
    "    rows = []\n",
    "    for row in csvreader:\n",
    "        rows.append(row)\n",
    "    file.close()\n",
    "    return rows\n",
    "\n",
    "nsd_to_coco = load_csv('nsd_stim_info_merged.csv')\n",
    "exp_design = scipy.io.loadmat('nsd_expdesign.mat')\n",
    "ordering = exp_design['masterordering'].flatten() - 1 #fix indexing\n",
    "\n",
    "data_size = 22500 #trials[subject-1] #can use more than 22500 trials if seems promising\n",
    "ordering_data = ordering[:data_size]\n",
    "subjectim = exp_design['subjectim'] - 1\n",
    "\n",
    "#f = h5py.File('S'+str(subject)+'_stimuli_227.h5py','r')\n",
    "#images = f['stimuli']\n",
    "\n",
    "#def index_to_image(my_index):\n",
    "#    index = ordering[my_index]\n",
    "#    image = images[index,:,:,:]\n",
    "#    return np.transpose(image, (1,2,0))\n",
    "\n",
    "\n",
    "def index_to_captions(my_index, subject):\n",
    "    index = ordering_data[my_index]\n",
    "    nsd_id = subjectim[subject-1,index]\n",
    "    coco_id = nsd_to_coco[nsd_id][1]\n",
    "    if int(nsd_id) < 2950:\n",
    "        annotation_ids = coco4.getAnnIds(int(coco_id))\n",
    "        annotations = coco4.loadAnns(annotation_ids)\n",
    "    else:\n",
    "        annotation_ids = coco3.getAnnIds(int(coco_id))\n",
    "        annotations = coco3.loadAnns(annotation_ids)\n",
    "    captions = [item['caption'] for item in annotations]\n",
    "    return captions    "
   ]
  },
  {
   "cell_type": "code",
   "execution_count": 23,
   "id": "78a94918",
   "metadata": {
    "scrolled": true
   },
   "outputs": [],
   "source": [
    "NSD_fmri = np.empty((22500,23,8))\n",
    "for subject in range(8):\n",
    "    X = scipy.io.loadmat('X'+str(subject+1)+'.mat')\n",
    "    NSD_fmri[:,:,subject] = X['X']"
   ]
  },
  {
   "cell_type": "code",
   "execution_count": 29,
   "id": "a28c99a8",
   "metadata": {},
   "outputs": [],
   "source": [
    "NSD_fmri = np.empty((22500,23,8))\n",
    "for subject in range(8):\n",
    "    X = scipy.io.loadmat('X'+str(subject+1)+'.mat')\n",
    "    NSD_fmri[:,:,subject] = X['X']\n",
    "    \n",
    "dataset = []\n",
    "for subject in range(8):\n",
    "    for my_index in range(22500):\n",
    "        descriptions = index_to_captions(my_index, subject+1)\n",
    "        brain_vec = NSD_fmri[my_index,:,subject]\n",
    "        for description in descriptions:\n",
    "            example = (description, brain_vec)\n",
    "            dataset.append(example)\n",
    "\n",
    "#Can play around with data format depending on how you structure input to the model\n",
    "#dataset is a list of ('sentence',23-dim numpy brain vector)"
   ]
  }
 ],
 "metadata": {
  "kernelspec": {
   "display_name": "Python 3 (ipykernel)",
   "language": "python",
   "name": "python3"
  },
  "language_info": {
   "codemirror_mode": {
    "name": "ipython",
    "version": 3
   },
   "file_extension": ".py",
   "mimetype": "text/x-python",
   "name": "python",
   "nbconvert_exporter": "python",
   "pygments_lexer": "ipython3",
   "version": "3.8.10"
  }
 },
 "nbformat": 4,
 "nbformat_minor": 5
}
