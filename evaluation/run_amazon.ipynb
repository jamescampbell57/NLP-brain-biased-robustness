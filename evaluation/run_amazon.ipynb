{
 "cells": [
  {
   "cell_type": "code",
   "execution_count": 1,
   "id": "e9e22934",
   "metadata": {},
   "outputs": [],
   "source": [
    "import torch\n",
    "import torch.nn as nn\n",
    "from torch.utils.data import DataLoader\n",
    "from transformers import AutoTokenizer\n",
    "from transformers import BertModel\n",
    "from datasets import load_dataset\n",
    "\n",
    "from torch.optim import AdamW\n",
    "from transformers import get_scheduler\n",
    "from tqdm.auto import tqdm"
   ]
  },
  {
   "cell_type": "markdown",
   "id": "f25b1733",
   "metadata": {},
   "source": [
    "We split the data into five categories of clothing (Clothes, Women Clothing, Men Clothing, Baby Clothing, Shoes) and two categories of entertainment products (Music, Movies)."
   ]
  },
  {
   "cell_type": "markdown",
   "id": "991b7f63",
   "metadata": {},
   "source": [
    "Please pick one among the available configs: ['Wireless_v1_00', 'Watches_v1_00', 'Video_Games_v1_00', 'Video_DVD_v1_00', 'Video_v1_00', 'Toys_v1_00', 'Tools_v1_00', 'Sports_v1_00', 'Software_v1_00', 'Shoes_v1_00', 'Pet_Products_v1_00', 'Personal_Care_Appliances_v1_00', 'PC_v1_00', 'Outdoors_v1_00', 'Office_Products_v1_00', 'Musical_Instruments_v1_00', 'Music_v1_00', 'Mobile_Electronics_v1_00', 'Mobile_Apps_v1_00', 'Major_Appliances_v1_00', 'Luggage_v1_00', 'Lawn_and_Garden_v1_00', 'Kitchen_v1_00', 'Jewelry_v1_00', 'Home_Improvement_v1_00', 'Home_Entertainment_v1_00', 'Home_v1_00', 'Health_Personal_Care_v1_00', 'Grocery_v1_00', 'Gift_Card_v1_00', 'Furniture_v1_00', 'Electronics_v1_00', 'Digital_Video_Games_v1_00', 'Digital_Video_Download_v1_00', 'Digital_Software_v1_00', 'Digital_Music_Purchase_v1_00', 'Digital_Ebook_Purchase_v1_00', 'Camera_v1_00', 'Books_v1_00', 'Beauty_v1_00', 'Baby_v1_00', 'Automotive_v1_00', 'Apparel_v1_00', 'Digital_Ebook_Purchase_v1_01', 'Books_v1_01', 'Books_v1_02']\n",
    "Example of usage:\n",
    "\t`load_dataset('amazon_us_reviews', 'Wireless_v1_00')`"
   ]
  },
  {
   "cell_type": "code",
   "execution_count": 2,
   "id": "d58fa98a",
   "metadata": {
    "scrolled": false
   },
   "outputs": [
    {
     "name": "stderr",
     "output_type": "stream",
     "text": [
      "Reusing dataset amazon_us_reviews (/home/ubuntu/.cache/huggingface/datasets/amazon_us_reviews/Baby_v1_00/0.1.0/17b2481be59723469538adeb8fd0a68b0ba363bbbdd71090e72c325ee6c7e563)\n"
     ]
    },
    {
     "data": {
      "application/vnd.jupyter.widget-view+json": {
       "model_id": "e984498436684d579211d9b0657b6947",
       "version_major": 2,
       "version_minor": 0
      },
      "text/plain": [
       "  0%|          | 0/1 [00:00<?, ?it/s]"
      ]
     },
     "metadata": {},
     "output_type": "display_data"
    },
    {
     "name": "stderr",
     "output_type": "stream",
     "text": [
      "Reusing dataset amazon_us_reviews (/home/ubuntu/.cache/huggingface/datasets/amazon_us_reviews/Shoes_v1_00/0.1.0/17b2481be59723469538adeb8fd0a68b0ba363bbbdd71090e72c325ee6c7e563)\n"
     ]
    },
    {
     "data": {
      "application/vnd.jupyter.widget-view+json": {
       "model_id": "2e81b7742ceb4deebf6f50443c09d8a7",
       "version_major": 2,
       "version_minor": 0
      },
      "text/plain": [
       "  0%|          | 0/1 [00:00<?, ?it/s]"
      ]
     },
     "metadata": {},
     "output_type": "display_data"
    },
    {
     "name": "stderr",
     "output_type": "stream",
     "text": [
      "Reusing dataset amazon_us_reviews (/home/ubuntu/.cache/huggingface/datasets/amazon_us_reviews/Apparel_v1_00/0.1.0/17b2481be59723469538adeb8fd0a68b0ba363bbbdd71090e72c325ee6c7e563)\n"
     ]
    },
    {
     "data": {
      "application/vnd.jupyter.widget-view+json": {
       "model_id": "11155e6ebb774216afc5cb821fbb7920",
       "version_major": 2,
       "version_minor": 0
      },
      "text/plain": [
       "  0%|          | 0/1 [00:00<?, ?it/s]"
      ]
     },
     "metadata": {},
     "output_type": "display_data"
    },
    {
     "name": "stderr",
     "output_type": "stream",
     "text": [
      "Reusing dataset amazon_us_reviews (/home/ubuntu/.cache/huggingface/datasets/amazon_us_reviews/Music_v1_00/0.1.0/17b2481be59723469538adeb8fd0a68b0ba363bbbdd71090e72c325ee6c7e563)\n"
     ]
    },
    {
     "data": {
      "application/vnd.jupyter.widget-view+json": {
       "model_id": "b228b4eaec0040d1bf2a2d0b2d4e530b",
       "version_major": 2,
       "version_minor": 0
      },
      "text/plain": [
       "  0%|          | 0/1 [00:00<?, ?it/s]"
      ]
     },
     "metadata": {},
     "output_type": "display_data"
    },
    {
     "name": "stderr",
     "output_type": "stream",
     "text": [
      "Reusing dataset amazon_us_reviews (/home/ubuntu/.cache/huggingface/datasets/amazon_us_reviews/Video_v1_00/0.1.0/17b2481be59723469538adeb8fd0a68b0ba363bbbdd71090e72c325ee6c7e563)\n"
     ]
    },
    {
     "data": {
      "application/vnd.jupyter.widget-view+json": {
       "model_id": "555d69c8202c44e7b2017520a584c01a",
       "version_major": 2,
       "version_minor": 0
      },
      "text/plain": [
       "  0%|          | 0/1 [00:00<?, ?it/s]"
      ]
     },
     "metadata": {},
     "output_type": "display_data"
    }
   ],
   "source": [
    "#data_path = '/home/ubuntu/NLP-brain-biased-robustness/data/amazon/'\n",
    "#amazon_baby = load_dataset(data_path+'Baby_v1_00/0.1.0/17b2481be59723469538adeb8fd0a68b0ba363bbbdd71090e72c325ee6c7e563/')\n",
    "\n",
    "amazon_baby = load_dataset('amazon_us_reviews','Baby_v1_00')\n",
    "amazon_shoes = load_dataset('amazon_us_reviews','Shoes_v1_00')\n",
    "amazon_clothes = load_dataset('amazon_us_reviews','Apparel_v1_00')\n",
    "amazon_music = load_dataset('amazon_us_reviews','Music_v1_00')\n",
    "amazon_video = load_dataset('amazon_us_reviews','Video_v1_00')"
   ]
  },
  {
   "cell_type": "code",
   "execution_count": 17,
   "id": "eb5d2df1",
   "metadata": {},
   "outputs": [],
   "source": [
    "baby_small = amazon_baby['train'].select(range(200000, len(amazon_baby['train']))).shuffle(seed=42).select(range(50000))\n",
    "#shoes_small = amazon_shoes['train'].shuffle(seed=42).select(range(50000))\n",
    "#clothes_small = amazon_clothes['train'].shuffle(seed=42).select(range(50000))\n",
    "#music_small = amazon_music['train'].shuffle(seed=42).select(range(50000))\n",
    "#video_small = amazon_video['train'].shuffle(seed=42).select(range(50000))"
   ]
  },
  {
   "cell_type": "code",
   "execution_count": 18,
   "id": "dce0319e",
   "metadata": {},
   "outputs": [
    {
     "name": "stdout",
     "output_type": "stream",
     "text": [
      "50000\n",
      "4366916\n",
      "5906333\n",
      "4751577\n",
      "380604\n"
     ]
    }
   ],
   "source": [
    "print(len(baby_small))\n",
    "print(len(amazon_shoes['train']))\n",
    "print(len(amazon_clothes['train']))\n",
    "print(len(amazon_music['train']))\n",
    "print(len(amazon_video['train']))"
   ]
  },
  {
   "cell_type": "code",
   "execution_count": 14,
   "id": "cdff9a19",
   "metadata": {},
   "outputs": [
    {
     "data": {
      "application/vnd.jupyter.widget-view+json": {
       "model_id": "1a02591f56684e2ab50dcf56807d23f5",
       "version_major": 2,
       "version_minor": 0
      },
      "text/plain": [
       "  0%|          | 0/1 [00:00<?, ?ba/s]"
      ]
     },
     "metadata": {},
     "output_type": "display_data"
    },
    {
     "name": "stderr",
     "output_type": "stream",
     "text": [
      "Loading cached processed dataset at /home/ubuntu/.cache/huggingface/datasets/amazon_us_reviews/Shoes_v1_00/0.1.0/17b2481be59723469538adeb8fd0a68b0ba363bbbdd71090e72c325ee6c7e563/cache-b77ed832ba4cebdd.arrow\n",
      "Loading cached processed dataset at /home/ubuntu/.cache/huggingface/datasets/amazon_us_reviews/Apparel_v1_00/0.1.0/17b2481be59723469538adeb8fd0a68b0ba363bbbdd71090e72c325ee6c7e563/cache-f0036eb1a85141c8.arrow\n",
      "Loading cached processed dataset at /home/ubuntu/.cache/huggingface/datasets/amazon_us_reviews/Music_v1_00/0.1.0/17b2481be59723469538adeb8fd0a68b0ba363bbbdd71090e72c325ee6c7e563/cache-cbb0c975ed8618a4.arrow\n",
      "Loading cached processed dataset at /home/ubuntu/.cache/huggingface/datasets/amazon_us_reviews/Video_v1_00/0.1.0/17b2481be59723469538adeb8fd0a68b0ba363bbbdd71090e72c325ee6c7e563/cache-dae713baf90b8c74.arrow\n"
     ]
    }
   ],
   "source": [
    "\n",
    "tokenizer = AutoTokenizer.from_pretrained(\"bert-base-cased\")\n",
    "\n",
    "#tokenize function\n",
    "def tokenize_data(examples):\n",
    "    return tokenizer(examples['review_body'], padding=\"max_length\", truncation=True)\n",
    "\n",
    "#pre-tokenize entire dataset\n",
    "tokenized_baby = baby_small.map(tokenize_data, batched=True)\n",
    "tokenized_shoes = shoes_small.map(tokenize_data, batched=True)\n",
    "tokenized_clothes = clothes_small.map(tokenize_data, batched=True)\n",
    "tokenized_music = music_small.map(tokenize_data, batched=True)\n",
    "tokenized_video = video_small.map(tokenize_data, batched=True)\n",
    "\n",
    "delete_list = ['marketplace', 'customer_id', 'review_id', 'product_id', 'product_parent', 'product_title', 'product_category', 'helpful_votes', 'total_votes', 'vine', 'verified_purchase', 'review_headline', 'review_body', 'review_date']\n",
    "tokenized_baby = tokenized_baby.remove_columns(delete_list)\n",
    "tokenized_baby = tokenized_baby.rename_column(\"star_rating\", \"labels\")\n",
    "tokenized_baby.set_format(\"torch\")\n",
    "\n",
    "tokenized_shoes = tokenized_shoes.remove_columns(delete_list)\n",
    "tokenized_shoes = tokenized_shoes.rename_column(\"star_rating\", \"labels\")\n",
    "tokenized_shoes.set_format(\"torch\")\n",
    "\n",
    "tokenized_clothes = tokenized_clothes.remove_columns(delete_list)\n",
    "tokenized_clothes = tokenized_clothes.rename_column(\"star_rating\", \"labels\")\n",
    "tokenized_clothes.set_format(\"torch\")\n",
    "\n",
    "tokenized_music = tokenized_music.remove_columns(delete_list)\n",
    "tokenized_music = tokenized_music.rename_column(\"star_rating\", \"labels\")\n",
    "tokenized_music.set_format(\"torch\")\n",
    "\n",
    "tokenized_video = tokenized_video.remove_columns(delete_list)\n",
    "tokenized_video = tokenized_video.rename_column(\"star_rating\", \"labels\")\n",
    "tokenized_video.set_format(\"torch\")\n",
    "\n",
    "\n",
    "baby_dataloader = DataLoader(tokenized_baby, shuffle=True, batch_size=8)\n",
    "shoes_dataloader = DataLoader(tokenized_shoes, shuffle=True, batch_size=8)\n",
    "clothes_dataloader = DataLoader(tokenized_clothes, shuffle=True, batch_size=8)\n",
    "music_dataloader = DataLoader(tokenized_music, shuffle=True, batch_size=8)\n",
    "video_dataloader = DataLoader(tokenized_video, shuffle=True, batch_size=8)"
   ]
  },
  {
   "cell_type": "code",
   "execution_count": 15,
   "id": "60d892cd",
   "metadata": {},
   "outputs": [],
   "source": [
    "import torch.nn.functional as F\n",
    "\n",
    "class PlaceHolderBERT(nn.Module):\n",
    "    def __init__(self, num_out=5, sigmoid=False, return_CLS_representation=False):\n",
    "        super().__init__()\n",
    "        #self.tokenizer = AutoTokenizer.from_pretrained('bert-base-cased')\n",
    "        self.bert = BertModel.from_pretrained('bert-base-cased')\n",
    "        self.linear = nn.Linear(768,num_out)\n",
    "        self.return_CLS_representation = return_CLS_representation\n",
    "        self.sigmoid_bool = sigmoid\n",
    "        self.sigmoid = nn.Sigmoid()\n",
    "    def forward(self, x):\n",
    "        #embeddings = self.tokenizer(x, return_tensors='pt', padding=True)\n",
    "        #embeddings.to(device)\n",
    "        representations = self.bert(**x).last_hidden_state\n",
    "        cls_representation = representations[:,0,:]\n",
    "        pred = self.linear(cls_representation)\n",
    "        if self.return_CLS_representation:\n",
    "            return cls_representation\n",
    "        if self.sigmoid_bool:\n",
    "            return self.sigmoid(pred)\n",
    "        return pred\n",
    "    \n",
    "    \n",
    "def train(model, dataloader, num_epochs=1): #can scrap keyword\n",
    "    #optimizer as usual\n",
    "    optimizer = AdamW(model.parameters(), lr=5e-5)\n",
    "    loss_function = torch.nn.MSELoss()\n",
    "    #learning rate scheduler\n",
    "    num_training_steps = num_epochs * len(dataloader)\n",
    "    lr_scheduler = get_scheduler(name=\"linear\", optimizer=optimizer, num_warmup_steps=0, num_training_steps=num_training_steps)\n",
    "\n",
    "    device = torch.device(\"cuda\") if torch.cuda.is_available() else torch.device(\"cpu\")\n",
    "    model.to(device)\n",
    "\n",
    "    #auto logging; progress bar\n",
    "    progress_bar = tqdm(range(num_training_steps))\n",
    "\n",
    "    #training loop\n",
    "    model.train()\n",
    "    for epoch in range(num_epochs):\n",
    "        for batch in dataloader: #tryin unpacking text from 'labels' as in model development\n",
    "            #batch = {k: v.to(device) for k, v in batch.items()}\n",
    "            features = {k: v.to(device) for k, v in batch.items() if k != 'labels'}\n",
    "            preds = model(features)\n",
    "            targets = F.one_hot((batch['labels']-1).to(torch.int64), num_classes=5).to(device)\n",
    "            loss = loss_function(preds, targets.float()) #replace .loss\n",
    "            loss.backward()\n",
    "\n",
    "            optimizer.step()\n",
    "            lr_scheduler.step()\n",
    "            optimizer.zero_grad()\n",
    "            progress_bar.update(1)\n",
    "            \n",
    "\n",
    "def evaluate(model, dataloader):\n",
    "    device = torch.device(\"cuda\") if torch.cuda.is_available() else torch.device(\"cpu\")\n",
    "    model.to(device)\n",
    "    model.eval()\n",
    "    num_correct = 0\n",
    "    num_samples = 0\n",
    "    for batch in dataloader:\n",
    "        #batch = {k: v.to(device) for k, v in batch.items()}\n",
    "        features = {k: v.to(device) for k, v in batch.items() if k != 'labels'}\n",
    "        with torch.no_grad():\n",
    "            preds = model(features)\n",
    "            preds = torch.argmax(preds, axis=1)\n",
    "            labels = F.one_hot((batch['labels']-1).to(torch.int64), num_classes=5).to(device)\n",
    "            labels = torch.argmax(labels, axis=1)\n",
    "            num_correct += (preds==labels).sum()\n",
    "            num_samples += preds.size(0)\n",
    "    return float(num_correct)/float(num_samples)*100 "
   ]
  },
  {
   "cell_type": "code",
   "execution_count": 16,
   "id": "7cf17a3b",
   "metadata": {
    "scrolled": true
   },
   "outputs": [
    {
     "name": "stderr",
     "output_type": "stream",
     "text": [
      "Some weights of the model checkpoint at bert-base-cased were not used when initializing BertModel: ['cls.predictions.transform.LayerNorm.weight', 'cls.predictions.transform.dense.bias', 'cls.predictions.transform.dense.weight', 'cls.predictions.bias', 'cls.seq_relationship.weight', 'cls.seq_relationship.bias', 'cls.predictions.transform.LayerNorm.bias', 'cls.predictions.decoder.weight']\n",
      "- This IS expected if you are initializing BertModel from the checkpoint of a model trained on another task or with another architecture (e.g. initializing a BertForSequenceClassification model from a BertForPreTraining model).\n",
      "- This IS NOT expected if you are initializing BertModel from the checkpoint of a model that you expect to be exactly identical (initializing a BertForSequenceClassification model from a BertForSequenceClassification model).\n"
     ]
    },
    {
     "data": {
      "application/vnd.jupyter.widget-view+json": {
       "model_id": "41c140d19413469894e6651b0b16e9ab",
       "version_major": 2,
       "version_minor": 0
      },
      "text/plain": [
       "  0%|          | 0/63 [00:00<?, ?it/s]"
      ]
     },
     "metadata": {},
     "output_type": "display_data"
    }
   ],
   "source": [
    "model = PlaceHolderBERT()\n",
    "train(model, baby_dataloader)"
   ]
  },
  {
   "cell_type": "code",
   "execution_count": 17,
   "id": "04225967",
   "metadata": {},
   "outputs": [
    {
     "data": {
      "text/plain": [
       "62.4"
      ]
     },
     "execution_count": 17,
     "metadata": {},
     "output_type": "execute_result"
    }
   ],
   "source": [
    "evaluate(model, baby_dataloader)"
   ]
  }
 ],
 "metadata": {
  "kernelspec": {
   "display_name": "Python 3 (ipykernel)",
   "language": "python",
   "name": "python3"
  },
  "language_info": {
   "codemirror_mode": {
    "name": "ipython",
    "version": 3
   },
   "file_extension": ".py",
   "mimetype": "text/x-python",
   "name": "python",
   "nbconvert_exporter": "python",
   "pygments_lexer": "ipython3",
   "version": "3.8.10"
  }
 },
 "nbformat": 4,
 "nbformat_minor": 5
}
