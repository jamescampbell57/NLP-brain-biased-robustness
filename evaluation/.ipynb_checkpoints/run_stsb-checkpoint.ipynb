{
 "cells": [
  {
   "cell_type": "code",
   "execution_count": 1,
   "id": "b21bc20a",
   "metadata": {},
   "outputs": [],
   "source": [
    "import torch\n",
    "import torch.nn as nn\n",
    "from torch.utils.data import DataLoader\n",
    "from transformers import AutoTokenizer\n",
    "from transformers import BertModel\n",
    "from datasets import load_dataset\n",
    "\n",
    "from torch.optim import AdamW\n",
    "from transformers import get_scheduler\n",
    "from tqdm.auto import tqdm"
   ]
  },
  {
   "cell_type": "code",
   "execution_count": 2,
   "id": "015f3ebb",
   "metadata": {},
   "outputs": [],
   "source": [
    "import csv\n",
    "data_path = '/home/ubuntu/NLP-brain-biased-robustness/data/stsb/stsbenchmark/'\n",
    "\n",
    "#wget https://data.deepai.org/Stsbenchmark.zip\n",
    "\n",
    "def read_csv(csv_file):\n",
    "    file = open(csv_file)\n",
    "    csvreader = csv.reader(file, delimiter=\"\\t\")\n",
    "    header = next(csvreader)\n",
    "    rows = []\n",
    "    for row in csvreader:\n",
    "        rows.append(row)\n",
    "    file.close()\n",
    "    return rows"
   ]
  },
  {
   "cell_type": "code",
   "execution_count": 3,
   "id": "3a55bbe0",
   "metadata": {},
   "outputs": [],
   "source": [
    "train_set = read_csv(data_path+'sts-train.csv')\n",
    "dev_set = read_csv(data_path+'sts-dev.csv')\n",
    "test_set = read_csv(data_path+'sts-test.csv')"
   ]
  },
  {
   "cell_type": "code",
   "execution_count": 4,
   "id": "a7bb4d97",
   "metadata": {
    "scrolled": true
   },
   "outputs": [],
   "source": [
    "def split_data():\n",
    "    headlines = []\n",
    "    images = []\n",
    "    MSRpar = []\n",
    "    MSRvid = []\n",
    "    for dataset in [train_set, dev_set, test_set]:\n",
    "        for i in range(len(dataset)):\n",
    "            if dataset[i][1] == 'headlines':\n",
    "                headlines.append(dataset[i])\n",
    "            if dataset[i][1] == 'images':\n",
    "                images.append(dataset[i])\n",
    "            if dataset[i][1] == 'MSRpar':\n",
    "                MSRpar.append(dataset[i])\n",
    "            if dataset[i][1] == 'MSRvid':\n",
    "                MSRvid.append(dataset[i])\n",
    "    return headlines, images, MSRpar, MSRvid"
   ]
  },
  {
   "cell_type": "code",
   "execution_count": 5,
   "id": "10b4acde",
   "metadata": {},
   "outputs": [],
   "source": [
    "headlines, images, MSRpar, MSRvid = split_data()"
   ]
  },
  {
   "cell_type": "code",
   "execution_count": 53,
   "id": "5fd4ce87",
   "metadata": {
    "scrolled": true
   },
   "outputs": [],
   "source": [
    "def create_dataset(split):\n",
    "    dataset = []\n",
    "    for example in split:\n",
    "        if not len(example) < 7:\n",
    "            data = {}\n",
    "            data['sentence_1'] = example[5]\n",
    "            data['sentence_2'] = example[6]\n",
    "            data['labels'] = float(example[4])\n",
    "            dataset.append(data)\n",
    "    return dataset\n",
    "\n",
    "headlines_dataset = create_dataset(headlines)\n",
    "images_dataset = create_dataset(images)\n",
    "MSRpar_dataset = create_dataset(MSRpar)\n",
    "MSRvid_dataset = create_dataset(MSRvid)\n",
    "\n",
    "headlines_dataloader = DataLoader(headlines_dataset)\n",
    "images_dataloader = DataLoader(images_dataset)\n",
    "MSRpar_dataloader = DataLoader(MSRpar_dataset)\n",
    "MSRvid_dataloader = DataLoader(MSRvid_dataset)"
   ]
  },
  {
   "cell_type": "code",
   "execution_count": 95,
   "id": "81e1161c",
   "metadata": {},
   "outputs": [],
   "source": [
    "import torch\n",
    "import torch.nn as nn\n",
    "from torch.utils.data import DataLoader\n",
    "from transformers import AutoTokenizer\n",
    "from transformers import BertModel\n",
    "from datasets import load_dataset\n",
    "\n",
    "from torch.optim import AdamW\n",
    "from transformers import get_scheduler\n",
    "from tqdm.auto import tqdm\n",
    "\n",
    "\n",
    "class PlaceHolderBERT(nn.Module):\n",
    "    def __init__(self):\n",
    "        super().__init__()\n",
    "        self.tokenizer = AutoTokenizer.from_pretrained('bert-base-cased')\n",
    "        self.bert = BertModel.from_pretrained('bert-base-cased')\n",
    "        self.device = torch.device(\"cuda\") if torch.cuda.is_available() else torch.device(\"cpu\")\n",
    "    def forward(self, x):\n",
    "        embeddings = self.tokenizer(x, return_tensors='pt', padding=True, truncation=True)\n",
    "        embeddings.to(self.device)\n",
    "        representations = self.bert(**embeddings).last_hidden_state\n",
    "        cls_representation = representations[:,0,:]\n",
    "        return cls_representation\n",
    "    \n",
    "    \n",
    "def train(model, dataloader, num_epochs=1): #can scrap keyword\n",
    "    #optimizer as usual\n",
    "    optimizer = AdamW(model.parameters(), lr=5e-5)\n",
    "    loss_function = torch.nn.MSELoss()\n",
    "    #learning rate scheduler\n",
    "    num_training_steps = num_epochs * len(dataloader)\n",
    "    lr_scheduler = get_scheduler(name=\"linear\", optimizer=optimizer, num_warmup_steps=0, num_training_steps=num_training_steps)\n",
    "\n",
    "    device = torch.device(\"cuda\") if torch.cuda.is_available() else torch.device(\"cpu\")\n",
    "    model.to(device)\n",
    "\n",
    "    #auto logging; progress bar\n",
    "    progress_bar = tqdm(range(num_training_steps))\n",
    "    \n",
    "    cos = nn.CosineSimilarity(dim=1, eps=1e-6)\n",
    "\n",
    "    #training loop\n",
    "    model.train()\n",
    "    for epoch in range(num_epochs):\n",
    "        for batch in dataloader: #tryin unpacking text from 'labels' as in model development\n",
    "            #batch = {k: v.to(device) for k, v in batch.items()}\n",
    "            #features = {k: v for k, v in batch.items() if k != 'labels'}\n",
    "            vec_1 = model(batch['sentence_1'])\n",
    "            vec_2 = model(batch['sentence_2'])\n",
    "            cosine_similarity_times_5 = cos(vec_1, vec_2) * 5\n",
    "            targets = batch['labels'].float().to(device)\n",
    "            loss = loss_function(cosine_similarity_times_5, targets) #replace .loss\n",
    "            loss.backward()\n",
    "\n",
    "            optimizer.step()\n",
    "            lr_scheduler.step()\n",
    "            optimizer.zero_grad()\n",
    "            progress_bar.update(1)\n",
    "            \n",
    "\n",
    "def evaluate(model, dataloader):\n",
    "    device = torch.device(\"cuda\") if torch.cuda.is_available() else torch.device(\"cpu\")\n",
    "    model.to(device)\n",
    "    model.eval()\n",
    "    cos = nn.CosineSimilarity(dim=1, eps=1e-6)\n",
    "    cosine_similarities = []\n",
    "    gold = []\n",
    "    for batch in dataloader:\n",
    "        with torch.no_grad():\n",
    "            vec_1 = model(batch['sentence_1'])\n",
    "            vec_2 = model(batch['sentence_2'])\n",
    "            cosine_similarity = cos(vec_1, vec_2)\n",
    "            golds = batch['labels'].float()\n",
    "            for idx, similarity in enumerate(cosine_similarity):\n",
    "                cosine_similarities.append(similarity)\n",
    "                gold.append(golds[idx])\n",
    "    torch_cosines = torch.tensor(cosine_similarities)\n",
    "    torch_gold = torch.tensor(gold)\n",
    "    \n",
    "    torch_cosines = torch_cosines.reshape((1,torch_cosines.shape[0]))\n",
    "    torch_gold = torch_gold.reshape((1,torch_gold.shape[0]))\n",
    "    \n",
    "    combined = torch.cat((torch_cosines, torch_gold), axis=0)\n",
    "    \n",
    "    return torch.corrcoef(combined)\n"
   ]
  },
  {
   "cell_type": "code",
   "execution_count": 58,
   "id": "6228aa85",
   "metadata": {
    "scrolled": false
   },
   "outputs": [
    {
     "name": "stderr",
     "output_type": "stream",
     "text": [
      "Some weights of the model checkpoint at bert-base-cased were not used when initializing BertModel: ['cls.predictions.bias', 'cls.predictions.transform.dense.weight', 'cls.seq_relationship.bias', 'cls.predictions.transform.dense.bias', 'cls.predictions.transform.LayerNorm.bias', 'cls.predictions.decoder.weight', 'cls.predictions.transform.LayerNorm.weight', 'cls.seq_relationship.weight']\n",
      "- This IS expected if you are initializing BertModel from the checkpoint of a model trained on another task or with another architecture (e.g. initializing a BertForSequenceClassification model from a BertForPreTraining model).\n",
      "- This IS NOT expected if you are initializing BertModel from the checkpoint of a model that you expect to be exactly identical (initializing a BertForSequenceClassification model from a BertForSequenceClassification model).\n"
     ]
    },
    {
     "data": {
      "application/vnd.jupyter.widget-view+json": {
       "model_id": "28b0eb174ba941f08bc06942a8815d09",
       "version_major": 2,
       "version_minor": 0
      },
      "text/plain": [
       "  0%|          | 0/2249 [00:00<?, ?it/s]"
      ]
     },
     "metadata": {},
     "output_type": "display_data"
    }
   ],
   "source": [
    "model = PlaceHolderBERT()\n",
    "train(model, headlines_dataloader)"
   ]
  },
  {
   "cell_type": "code",
   "execution_count": 96,
   "id": "6d0e7848",
   "metadata": {
    "scrolled": true
   },
   "outputs": [
    {
     "data": {
      "text/plain": [
       "tensor([[1.0000, 0.8946],\n",
       "        [0.8946, 1.0000]])"
      ]
     },
     "execution_count": 96,
     "metadata": {},
     "output_type": "execute_result"
    }
   ],
   "source": [
    "evaluate(model, headlines_dataloader) #still have to do train/test splits"
   ]
  },
  {
   "cell_type": "code",
   "execution_count": 97,
   "id": "d9f06841",
   "metadata": {
    "scrolled": true
   },
   "outputs": [
    {
     "data": {
      "text/plain": [
       "tensor([[1.0000, 0.8254],\n",
       "        [0.8254, 1.0000]])"
      ]
     },
     "execution_count": 97,
     "metadata": {},
     "output_type": "execute_result"
    }
   ],
   "source": [
    "evaluate(model, images_dataloader)"
   ]
  },
  {
   "cell_type": "code",
   "execution_count": 98,
   "id": "3c78cb34",
   "metadata": {},
   "outputs": [
    {
     "data": {
      "text/plain": [
       "tensor([[1.0000, 0.5131],\n",
       "        [0.5131, 1.0000]])"
      ]
     },
     "execution_count": 98,
     "metadata": {},
     "output_type": "execute_result"
    }
   ],
   "source": [
    "evaluate(model, MSRpar_dataloader)"
   ]
  },
  {
   "cell_type": "code",
   "execution_count": 99,
   "id": "1ae568e9",
   "metadata": {},
   "outputs": [
    {
     "data": {
      "text/plain": [
       "tensor([[1.0000, 0.8309],\n",
       "        [0.8309, 1.0000]])"
      ]
     },
     "execution_count": 99,
     "metadata": {},
     "output_type": "execute_result"
    }
   ],
   "source": [
    "evaluate(model, MSRvid_dataloader)"
   ]
  }
 ],
 "metadata": {
  "kernelspec": {
   "display_name": "Python 3 (ipykernel)",
   "language": "python",
   "name": "python3"
  },
  "language_info": {
   "codemirror_mode": {
    "name": "ipython",
    "version": 3
   },
   "file_extension": ".py",
   "mimetype": "text/x-python",
   "name": "python",
   "nbconvert_exporter": "python",
   "pygments_lexer": "ipython3",
   "version": "3.8.10"
  }
 },
 "nbformat": 4,
 "nbformat_minor": 5
}
