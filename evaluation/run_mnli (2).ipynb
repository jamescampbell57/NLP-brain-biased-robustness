{
 "cells": [
  {
   "cell_type": "code",
   "execution_count": 3,
   "id": "06476ae1",
   "metadata": {},
   "outputs": [],
   "source": [
    "import torch\n",
    "import torch.nn as nn\n",
    "from torch.utils.data import DataLoader\n",
    "from transformers import AutoTokenizer\n",
    "from transformers import BertModel\n",
    "from datasets import load_dataset\n",
    "\n",
    "from torch.optim import AdamW\n",
    "from transformers import get_scheduler\n",
    "from tqdm.auto import tqdm\n",
    "import os"
   ]
  },
  {
   "cell_type": "code",
   "execution_count": 6,
   "id": "eae186ef",
   "metadata": {},
   "outputs": [],
   "source": [
    "dataset_path = '/home/ubuntu/nlp-brain-biased-robustness/data/mnli'\n",
    "data_path = dataset_path+'/multinli_1.0'\n",
    "if not os.path.exists(data_path):\n",
    "    os.system('mkdir '+dataset_path)\n",
    "    os.system('wget https://cims.nyu.edu/~sbowman/multinli/multinli_1.0.zip -P '+dataset_path)\n",
    "    os.system(f'unzip /home/ubuntu/nlp-brain-biased-robustness/data/mnli/multinli_1.0.zip -d /home/ubuntu/nlp-brain-biased-robustness/data/mnli/')"
   ]
  },
  {
   "cell_type": "code",
   "execution_count": null,
   "id": "caf2bf1f",
   "metadata": {
    "scrolled": false
   },
   "outputs": [],
   "source": [
    "#mnli = load_dataset('glue','mnli')"
   ]
  },
  {
   "cell_type": "code",
   "execution_count": null,
   "id": "7c25e360",
   "metadata": {
    "scrolled": false
   },
   "outputs": [],
   "source": [
    "#mnli['train']"
   ]
  },
  {
   "cell_type": "code",
   "execution_count": 7,
   "id": "29701243",
   "metadata": {
    "scrolled": true
   },
   "outputs": [],
   "source": [
    "import csv\n",
    "data_path = '/home/ubuntu/nlp-brain-biased-robustness/data/mnli/multinli_1.0/'\n",
    "\n",
    "import sys\n",
    "maxInt = sys.maxsize\n",
    "\n",
    "while True:\n",
    "    # decrease the maxInt value by factor 10 \n",
    "    # as long as the OverflowError occurs.\n",
    "\n",
    "    try:\n",
    "        csv.field_size_limit(maxInt)\n",
    "        break\n",
    "    except OverflowError:\n",
    "        maxInt = int(maxInt/10)\n",
    "\n",
    "def load_data(data_file):\n",
    "    dataset = []\n",
    "    with open(data_path+data_file) as file:\n",
    "        tsv_file = csv.reader(file, delimiter=\"\\t\")\n",
    "        for line in tsv_file:\n",
    "            dataset.append(line)\n",
    "    return dataset\n",
    "\n",
    "\n",
    "train_set = load_data('multinli_1.0_train.txt')\n",
    "dev_matched = load_data('multinli_1.0_dev_matched.txt')\n",
    "dev_mismatched = load_data('multinli_1.0_dev_mismatched.txt')"
   ]
  },
  {
   "cell_type": "code",
   "execution_count": 8,
   "id": "aaf7d084",
   "metadata": {
    "scrolled": true
   },
   "outputs": [],
   "source": [
    "def split_data():\n",
    "    telephone = []\n",
    "    letters = []\n",
    "    facetoface = []\n",
    "\n",
    "    def extract(dataset):\n",
    "        for ex in dataset:\n",
    "            if ex[9] == 'telephone':\n",
    "                telephone.append(ex)\n",
    "            if ex[9] == 'letters':\n",
    "                letters.append(ex)\n",
    "            if ex[9] == 'facetoface':\n",
    "                facetoface.append(ex)\n",
    "                \n",
    "    extract(train_set)\n",
    "    extract(dev_matched)\n",
    "    extract(dev_mismatched)\n",
    "    return telephone, letters, facetoface\n",
    "\n",
    "telephone, letters, facetoface = split_data()"
   ]
  },
  {
   "cell_type": "code",
   "execution_count": 9,
   "id": "ae2a96a1",
   "metadata": {},
   "outputs": [],
   "source": [
    "def simplify_data(dataset):\n",
    "    simplified_dataset = []\n",
    "    for item in dataset:\n",
    "        i = 0\n",
    "        example = {}\n",
    "        example['sentence_1'] = item[5]\n",
    "        example['sentence_2'] = item[6]\n",
    "        if item[0] == 'entailment':\n",
    "            example['labels'] = [0,0,1]\n",
    "            i = 1\n",
    "        if item[0] == 'neutral':\n",
    "            example['labels'] = [0,1,0]\n",
    "            i = 1\n",
    "        if item[0] == 'contradiction':\n",
    "            example['labels'] = [1,0,0]\n",
    "            i =1\n",
    "        if i == 1:\n",
    "            simplified_dataset.append(example)\n",
    "    return simplified_dataset\n",
    "        \n",
    "train_set = simplify_data(train_set)[1:]\n",
    "dev_matched = simplify_data(dev_matched)[1:]\n",
    "dev_mismatched = simplify_data(dev_mismatched)[1:]\n",
    "\n",
    "telephone = simplify_data(telephone)\n",
    "letters = simplify_data(letters)\n",
    "facetoface = simplify_data(facetoface)"
   ]
  },
  {
   "cell_type": "code",
   "execution_count": 10,
   "id": "adb58eec",
   "metadata": {},
   "outputs": [],
   "source": [
    "telephone_dataset = []\n",
    "for data_point in telephone:\n",
    "    new_data_point = {}\n",
    "    new_sentence = data_point['sentence_1']+'. '+data_point['sentence_2']\n",
    "    new_data_point['sentence'] = new_sentence\n",
    "    new_data_point['labels'] = data_point['labels']\n",
    "    telephone_dataset.append(new_data_point)\n",
    "    \n",
    "letters_dataset = []\n",
    "for data_point in letters:\n",
    "    new_data_point = {}\n",
    "    new_sentence = data_point['sentence_1']+'. '+data_point['sentence_2']\n",
    "    new_data_point['sentence'] = new_sentence\n",
    "    new_data_point['labels'] = data_point['labels']\n",
    "    letters_dataset.append(new_data_point)\n",
    "    \n",
    "facetoface_dataset = []\n",
    "for data_point in facetoface:\n",
    "    new_data_point = {}\n",
    "    new_sentence = data_point['sentence_1']+'. '+data_point['sentence_2']\n",
    "    new_data_point['sentence'] = new_sentence\n",
    "    new_data_point['labels'] = data_point['labels']\n",
    "    facetoface_dataset.append(new_data_point)"
   ]
  },
  {
   "cell_type": "code",
   "execution_count": 12,
   "id": "8b9b6516",
   "metadata": {},
   "outputs": [
    {
     "data": {
      "text/plain": [
       "1974"
      ]
     },
     "execution_count": 12,
     "metadata": {},
     "output_type": "execute_result"
    }
   ],
   "source": [
    "len(facetoface_dataset)"
   ]
  },
  {
   "cell_type": "code",
   "execution_count": 11,
   "id": "2b4bd822",
   "metadata": {},
   "outputs": [],
   "source": [
    "#train_set_dataloader = DataLoader(train_set, shuffle=True, batch_size=8)\n",
    "#dev_matched_dataloader = DataLoader(dev_matched, shuffle=True, batch_size=8)\n",
    "#dev_mismatched_dataloader = DataLoader(dev_mismatched, shuffle=True, batch_size=8)\n",
    "\n",
    "telephone_dataloader = DataLoader(telephone_dataset[:15000], shuffle=True, batch_size=8)\n",
    "letters_dataloader = DataLoader(letters_dataset, shuffle=True, batch_size=8)\n",
    "facetoface_dataloader = DataLoader(facetoface_dataset, shuffle=True, batch_size=8)"
   ]
  },
  {
   "cell_type": "code",
   "execution_count": 12,
   "id": "3f6e5646",
   "metadata": {},
   "outputs": [],
   "source": [
    "import wandb\n",
    "\n",
    "def change_all_keys(pre_odict):\n",
    "    def change_key(odict, old, new):\n",
    "        for _ in range(len(odict)):\n",
    "            k, v = odict.popitem(False)\n",
    "            odict[new if old == k else k] = v\n",
    "            return odict\n",
    "    for key in pre_odict.keys():\n",
    "        if key[:5] == 'bert.':\n",
    "            post_odict = change_key(pre_odict, key, key[5:])\n",
    "            return change_all_keys(post_odict)\n",
    "        if key[:7] == 'linear.':\n",
    "            del pre_odict[key]\n",
    "            return change_all_keys(pre_odict)\n",
    "    return pre_odict\n",
    "\n",
    "class PlaceHolderBERT(nn.Module):\n",
    "    def __init__(self, brain=True):\n",
    "        super().__init__()\n",
    "        self.tokenizer = AutoTokenizer.from_pretrained('bert-base-cased')\n",
    "        self.bert = BertModel.from_pretrained('bert-base-cased')\n",
    "        if brain == True:\n",
    "            state_path = '/home/ubuntu/nlp-brain-biased-robustness/state_dicts/NSD_model_prime_prime_epoch_10'\n",
    "            pre_odict = torch.load(state_path)\n",
    "            filtered_odict = change_all_keys(pre_odict)\n",
    "            self.bert.load_state_dict(filtered_odict, strict=True)\n",
    "        self.linear = nn.Linear(768, 3)\n",
    "        self.device = torch.device(\"cuda\") if torch.cuda.is_available() else torch.device(\"cpu\")\n",
    "    def forward(self, x):\n",
    "        x_embeddings = self.tokenizer(x, return_tensors='pt', padding=True, truncation=True)\n",
    "        x_embeddings.to(self.device)\n",
    "        x_representations = self.bert(**x_embeddings).last_hidden_state\n",
    "        x_cls_representation = x_representations[:,0,:]\n",
    "        pred = self.linear(x_cls_representation)\n",
    "        return pred\n",
    "    \n",
    "    \n",
    "def train(model, dataloader, num_epochs=10): #can scrap keyword\n",
    "    wandb.init(project=\"preliminary results just in case\", entity=\"nlp-brain-biased-robustness\")\n",
    "    wandb.run.name = 'mnli bb bert fo real e 10'\n",
    "    wandb.config = {\n",
    "      \"learning_rate\": 5e-5,\n",
    "      \"epochs\": 10,\n",
    "      \"batch_size\": 8\n",
    "    }\n",
    "    #optimizer as usual\n",
    "    optimizer = AdamW(model.parameters(), lr=5e-5)\n",
    "    loss_function = torch.nn.MSELoss()\n",
    "    #learning rate scheduler\n",
    "    num_training_steps = num_epochs * len(dataloader)\n",
    "    lr_scheduler = get_scheduler(name=\"linear\", optimizer=optimizer, num_warmup_steps=0, num_training_steps=num_training_steps)\n",
    "\n",
    "    device = torch.device(\"cuda\") if torch.cuda.is_available() else torch.device(\"cpu\")\n",
    "    model.to(device)\n",
    "\n",
    "    #auto logging; progress bar\n",
    "    progress_bar = tqdm(range(num_training_steps))\n",
    "\n",
    "    #training loop\n",
    "    model.train()\n",
    "    for epoch in range(num_epochs):\n",
    "        for batch in dataloader: #tryin unpacking text from 'labels' as in model development\n",
    "            #batch = {k: v.to(device) for k, v in batch.items()}\n",
    "            #features = {k: v for k, v in batch.items() if k != 'labels'}\n",
    "            pred = model(batch['sentence'])\n",
    "            targets = torch.stack(tuple(batch['labels'])).to(device)\n",
    "            targets = torch.transpose(targets, 0, 1)\n",
    "            loss = loss_function(pred, targets.float())\n",
    "            loss.backward()\n",
    "\n",
    "            optimizer.step()\n",
    "            lr_scheduler.step()\n",
    "            optimizer.zero_grad()\n",
    "            progress_bar.update(1)\n",
    "        telephone_score = evaluate(model, telephone_dataloader)\n",
    "        print(telephone_score)\n",
    "        wandb.log({\"telephone\": telephone_score})\n",
    "        letters_score = evaluate(model, letters_dataloader)\n",
    "        print(letters_score)\n",
    "        wandb.log({\"letters\": letters_score})\n",
    "        facetoface_score = evaluate(model, facetoface_dataloader)\n",
    "        print(facetoface_score)\n",
    "        wandb.log({\"facetoface\": facetoface_score})\n",
    "            \n",
    "\n",
    "def evaluate(model, dataloader):\n",
    "    device = torch.device(\"cuda\") if torch.cuda.is_available() else torch.device(\"cpu\")\n",
    "    model.to(device)\n",
    "    model.eval()\n",
    "    num_correct = 0\n",
    "    num_samples = 0\n",
    "    for batch in dataloader:\n",
    "        with torch.no_grad():\n",
    "            pred = model(batch['sentence'])\n",
    "            pred = torch.argmax(pred, axis=1)\n",
    "            targets = torch.stack(tuple(batch['labels'])).to(device)\n",
    "            targets = torch.transpose(targets, 0, 1)\n",
    "            labels = torch.argmax(targets, axis=1)\n",
    "            num_correct += (pred==labels).sum()\n",
    "            num_samples += pred.size(0)\n",
    "    return float(num_correct)/float(num_samples)*100 \n"
   ]
  },
  {
   "cell_type": "code",
   "execution_count": null,
   "id": "79820996",
   "metadata": {
    "scrolled": false
   },
   "outputs": [
    {
     "name": "stderr",
     "output_type": "stream",
     "text": [
      "Some weights of the model checkpoint at bert-base-cased were not used when initializing BertModel: ['cls.predictions.transform.LayerNorm.bias', 'cls.predictions.transform.dense.bias', 'cls.predictions.bias', 'cls.seq_relationship.bias', 'cls.predictions.decoder.weight', 'cls.predictions.transform.LayerNorm.weight', 'cls.predictions.transform.dense.weight', 'cls.seq_relationship.weight']\n",
      "- This IS expected if you are initializing BertModel from the checkpoint of a model trained on another task or with another architecture (e.g. initializing a BertForSequenceClassification model from a BertForPreTraining model).\n",
      "- This IS NOT expected if you are initializing BertModel from the checkpoint of a model that you expect to be exactly identical (initializing a BertForSequenceClassification model from a BertForSequenceClassification model).\n",
      "\u001b[34m\u001b[1mwandb\u001b[0m: Currently logged in as: \u001b[33mjgc239\u001b[0m (\u001b[33mnlp-brain-biased-robustness\u001b[0m). Use \u001b[1m`wandb login --relogin`\u001b[0m to force relogin\n"
     ]
    },
    {
     "data": {
      "text/html": [
       "Tracking run with wandb version 0.12.16"
      ],
      "text/plain": [
       "<IPython.core.display.HTML object>"
      ]
     },
     "metadata": {},
     "output_type": "display_data"
    },
    {
     "data": {
      "text/html": [
       "Run data is saved locally in <code>/home/ubuntu/nlp-brain-biased-robustness/evaluation/wandb/run-20220522_135435-3ratlwrv</code>"
      ],
      "text/plain": [
       "<IPython.core.display.HTML object>"
      ]
     },
     "metadata": {},
     "output_type": "display_data"
    },
    {
     "data": {
      "text/html": [
       "Syncing run <strong><a href=\"https://wandb.ai/nlp-brain-biased-robustness/preliminary%20results%20just%20in%20case/runs/3ratlwrv\" target=\"_blank\">confused-dew-29</a></strong> to <a href=\"https://wandb.ai/nlp-brain-biased-robustness/preliminary%20results%20just%20in%20case\" target=\"_blank\">Weights & Biases</a> (<a href=\"https://wandb.me/run\" target=\"_blank\">docs</a>)<br/>"
      ],
      "text/plain": [
       "<IPython.core.display.HTML object>"
      ]
     },
     "metadata": {},
     "output_type": "display_data"
    },
    {
     "data": {
      "application/vnd.jupyter.widget-view+json": {
       "model_id": "3d0b1f94b0b94e4e95b567034c01a606",
       "version_major": 2,
       "version_minor": 0
      },
      "text/plain": [
       "  0%|          | 0/18750 [00:00<?, ?it/s]"
      ]
     },
     "metadata": {},
     "output_type": "display_data"
    },
    {
     "name": "stdout",
     "output_type": "stream",
     "text": [
      "69.5\n",
      "67.42539200809307\n",
      "61.043566362715296\n",
      "88.53333333333333\n",
      "66.86899342438038\n",
      "64.58966565349544\n",
      "95.48666666666666\n",
      "65.14921598381386\n",
      "62.00607902735562\n",
      "97.67333333333333\n",
      "63.63176530096105\n",
      "63.0192502532928\n",
      "98.48666666666666\n",
      "66.51492159838138\n",
      "63.37386018237082\n",
      "99.03999999999999\n",
      "67.77946383409206\n",
      "62.76595744680851\n",
      "99.45333333333333\n",
      "66.81841173495194\n",
      "64.08308004052685\n",
      "99.60666666666667\n",
      "66.61608497723824\n",
      "63.47517730496454\n"
     ]
    }
   ],
   "source": [
    "model = PlaceHolderBERT()\n",
    "train(model, telephone_dataloader)"
   ]
  },
  {
   "cell_type": "code",
   "execution_count": 15,
   "id": "8a5c1694",
   "metadata": {},
   "outputs": [
    {
     "data": {
      "text/plain": [
       "42.806484295846"
      ]
     },
     "execution_count": 15,
     "metadata": {},
     "output_type": "execute_result"
    }
   ],
   "source": [
    "evaluate(model, facetoface_dataloader)"
   ]
  }
 ],
 "metadata": {
  "kernelspec": {
   "display_name": "Python 3 (ipykernel)",
   "language": "python",
   "name": "python3"
  },
  "language_info": {
   "codemirror_mode": {
    "name": "ipython",
    "version": 3
   },
   "file_extension": ".py",
   "mimetype": "text/x-python",
   "name": "python",
   "nbconvert_exporter": "python",
   "pygments_lexer": "ipython3",
   "version": "3.8.10"
  }
 },
 "nbformat": 4,
 "nbformat_minor": 5
}
