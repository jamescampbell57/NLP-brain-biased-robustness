{
 "cells": [
  {
   "cell_type": "code",
   "execution_count": 1,
   "id": "06476ae1",
   "metadata": {},
   "outputs": [],
   "source": [
    "import torch\n",
    "import torch.nn as nn\n",
    "from torch.utils.data import DataLoader\n",
    "from transformers import AutoTokenizer\n",
    "from transformers import BertModel\n",
    "from datasets import load_dataset\n",
    "\n",
    "from torch.optim import AdamW\n",
    "from transformers import get_scheduler\n",
    "from tqdm.auto import tqdm"
   ]
  },
  {
   "cell_type": "code",
   "execution_count": null,
   "id": "caf2bf1f",
   "metadata": {
    "scrolled": false
   },
   "outputs": [],
   "source": [
    "#mnli = load_dataset('glue','mnli')"
   ]
  },
  {
   "cell_type": "code",
   "execution_count": null,
   "id": "7c25e360",
   "metadata": {
    "scrolled": false
   },
   "outputs": [],
   "source": [
    "#mnli['train']"
   ]
  },
  {
   "cell_type": "code",
   "execution_count": 2,
   "id": "29701243",
   "metadata": {
    "scrolled": true
   },
   "outputs": [],
   "source": [
    "import csv\n",
    "data_path = '/home/ubuntu/NLP-brain-biased-robustness/data/mnli/multinli_1.0/'\n",
    "\n",
    "import sys\n",
    "maxInt = sys.maxsize\n",
    "\n",
    "while True:\n",
    "    # decrease the maxInt value by factor 10 \n",
    "    # as long as the OverflowError occurs.\n",
    "\n",
    "    try:\n",
    "        csv.field_size_limit(maxInt)\n",
    "        break\n",
    "    except OverflowError:\n",
    "        maxInt = int(maxInt/10)\n",
    "\n",
    "def load_data(data_file):\n",
    "    dataset = []\n",
    "    with open(data_path+data_file) as file:\n",
    "        tsv_file = csv.reader(file, delimiter=\"\\t\")\n",
    "        for line in tsv_file:\n",
    "            dataset.append(line)\n",
    "    return dataset\n",
    "\n",
    "\n",
    "train_set = load_data('multinli_1.0_train.txt')\n",
    "dev_matched = load_data('multinli_1.0_dev_matched.txt')\n",
    "dev_mismatched = load_data('multinli_1.0_dev_mismatched.txt')"
   ]
  },
  {
   "cell_type": "code",
   "execution_count": 3,
   "id": "aaf7d084",
   "metadata": {
    "scrolled": true
   },
   "outputs": [],
   "source": [
    "def split_data():\n",
    "    telephone = []\n",
    "    letters = []\n",
    "    facetoface = []\n",
    "\n",
    "    def extract(dataset):\n",
    "        for ex in dataset:\n",
    "            if ex[9] == 'telephone':\n",
    "                telephone.append(ex)\n",
    "            if ex[9] == 'letters':\n",
    "                letters.append(ex)\n",
    "            if ex[9] == 'facetoface':\n",
    "                facetoface.append(ex)\n",
    "                \n",
    "    extract(train_set)\n",
    "    extract(dev_matched)\n",
    "    extract(dev_mismatched)\n",
    "    return telephone, letters, facetoface\n",
    "\n",
    "telephone, letters, facetoface = split_data()"
   ]
  },
  {
   "cell_type": "code",
   "execution_count": 5,
   "id": "ae2a96a1",
   "metadata": {},
   "outputs": [],
   "source": [
    "def simplify_data(dataset):\n",
    "    simplified_dataset = []\n",
    "    for item in dataset:\n",
    "        i = 0\n",
    "        example = {}\n",
    "        example['sentence_1'] = item[5]\n",
    "        example['sentence_2'] = item[6]\n",
    "        if item[0] == 'entailment':\n",
    "            example['labels'] = [0,0,1]\n",
    "            i = 1\n",
    "        if item[0] == 'neutral':\n",
    "            example['labels'] = [0,1,0]\n",
    "            i = 1\n",
    "        if item[0] == 'contradiction':\n",
    "            example['labels'] = [1,0,0]\n",
    "            i =1\n",
    "        if i == 1:\n",
    "            simplified_dataset.append(example)\n",
    "    return simplified_dataset\n",
    "        \n",
    "train_set = simplify_data(train_set)[1:]\n",
    "dev_matched = simplify_data(dev_matched)[1:]\n",
    "dev_mismatched = simplify_data(dev_mismatched)[1:]\n",
    "\n",
    "telephone = simplify_data(telephone)\n",
    "letters = simplify_data(letters)\n",
    "facetoface = simplify_data(facetoface)"
   ]
  },
  {
   "cell_type": "code",
   "execution_count": null,
   "id": "adb58eec",
   "metadata": {},
   "outputs": [],
   "source": [
    "telephone[0]"
   ]
  },
  {
   "cell_type": "code",
   "execution_count": 6,
   "id": "2b4bd822",
   "metadata": {},
   "outputs": [],
   "source": [
    "train_set_dataloader = DataLoader(train_set, shuffle=True, batch_size=8)\n",
    "dev_matched_dataloader = DataLoader(dev_matched, shuffle=True, batch_size=8)\n",
    "dev_mismatched_dataloader = DataLoader(dev_mismatched, shuffle=True, batch_size=8)\n",
    "\n",
    "telephone_dataloader = DataLoader(telephone, shuffle=True, batch_size=8)\n",
    "letters_dataloader = DataLoader(letters, shuffle=True, batch_size=8)\n",
    "facetoface_dataloader = DataLoader(facetoface, shuffle=True, batch_size=8)"
   ]
  },
  {
   "cell_type": "code",
   "execution_count": 14,
   "id": "3f6e5646",
   "metadata": {},
   "outputs": [],
   "source": [
    "class PlaceHolderBERT(nn.Module):\n",
    "    def __init__(self):\n",
    "        super().__init__()\n",
    "        self.tokenizer = AutoTokenizer.from_pretrained('bert-base-cased')\n",
    "        self.bert = BertModel.from_pretrained('bert-base-cased')\n",
    "        self.linear = nn.Linear(768*2, 3)\n",
    "        self.device = torch.device(\"cuda\") if torch.cuda.is_available() else torch.device(\"cpu\")\n",
    "    def forward(self, x, y):\n",
    "        x_embeddings = self.tokenizer(x, return_tensors='pt', padding=True, truncation=True)\n",
    "        y_embeddings = self.tokenizer(y, return_tensors='pt', padding=True, truncation=True)\n",
    "        x_embeddings.to(self.device)\n",
    "        y_embeddings.to(self.device)\n",
    "        x_representations = self.bert(**x_embeddings).last_hidden_state\n",
    "        x_cls_representation = x_representations[:,0,:]\n",
    "        y_representations = self.bert(**y_embeddings).last_hidden_state\n",
    "        y_cls_representation = y_representations[:,0,:]\n",
    "        input_vec = torch.cat((x_cls_representation, y_cls_representation), axis=1)\n",
    "        pred = self.linear(input_vec)\n",
    "        return pred\n",
    "    \n",
    "    \n",
    "def train(model, dataloader, num_epochs=1): #can scrap keyword\n",
    "    #optimizer as usual\n",
    "    optimizer = AdamW(model.parameters(), lr=5e-5)\n",
    "    loss_function = torch.nn.MSELoss()\n",
    "    #learning rate scheduler\n",
    "    num_training_steps = num_epochs * len(dataloader)\n",
    "    lr_scheduler = get_scheduler(name=\"linear\", optimizer=optimizer, num_warmup_steps=0, num_training_steps=num_training_steps)\n",
    "\n",
    "    device = torch.device(\"cuda\") if torch.cuda.is_available() else torch.device(\"cpu\")\n",
    "    model.to(device)\n",
    "\n",
    "    #auto logging; progress bar\n",
    "    progress_bar = tqdm(range(num_training_steps))\n",
    "\n",
    "    #training loop\n",
    "    model.train()\n",
    "    for epoch in range(num_epochs):\n",
    "        for batch in dataloader: #tryin unpacking text from 'labels' as in model development\n",
    "            #batch = {k: v.to(device) for k, v in batch.items()}\n",
    "            #features = {k: v for k, v in batch.items() if k != 'labels'}\n",
    "            pred = model(batch['sentence_1'], batch['sentence_2'])\n",
    "            targets = torch.stack(tuple(batch['labels'])).to(device)\n",
    "            targets = torch.transpose(targets, 0, 1)\n",
    "            loss = loss_function(pred, targets.float())\n",
    "            loss.backward()\n",
    "\n",
    "            optimizer.step()\n",
    "            lr_scheduler.step()\n",
    "            optimizer.zero_grad()\n",
    "            progress_bar.update(1)\n",
    "            \n",
    "\n",
    "def evaluate(model, dataloader):\n",
    "    device = torch.device(\"cuda\") if torch.cuda.is_available() else torch.device(\"cpu\")\n",
    "    model.to(device)\n",
    "    model.eval()\n",
    "    num_correct = 0\n",
    "    num_samples = 0\n",
    "    for batch in dataloader:\n",
    "        with torch.no_grad():\n",
    "            pred = model(batch['sentence_1'], batch['sentence_2'])\n",
    "            pred = torch.argmax(pred, axis=1)\n",
    "            targets = torch.stack(tuple(batch['labels'])).to(device)\n",
    "            targets = torch.transpose(targets, 0, 1)\n",
    "            labels = torch.argmax(targets, axis=1)\n",
    "            num_correct += (pred==labels).sum()\n",
    "            num_samples += pred.size(0)\n",
    "    return float(num_correct)/float(num_samples)*100 \n"
   ]
  },
  {
   "cell_type": "code",
   "execution_count": 17,
   "id": "79820996",
   "metadata": {
    "scrolled": false
   },
   "outputs": [
    {
     "name": "stderr",
     "output_type": "stream",
     "text": [
      "Some weights of the model checkpoint at bert-base-cased were not used when initializing BertModel: ['cls.seq_relationship.weight', 'cls.predictions.bias', 'cls.predictions.transform.LayerNorm.weight', 'cls.predictions.transform.dense.weight', 'cls.seq_relationship.bias', 'cls.predictions.transform.LayerNorm.bias', 'cls.predictions.decoder.weight', 'cls.predictions.transform.dense.bias']\n",
      "- This IS expected if you are initializing BertModel from the checkpoint of a model trained on another task or with another architecture (e.g. initializing a BertForSequenceClassification model from a BertForPreTraining model).\n",
      "- This IS NOT expected if you are initializing BertModel from the checkpoint of a model that you expect to be exactly identical (initializing a BertForSequenceClassification model from a BertForSequenceClassification model).\n"
     ]
    },
    {
     "data": {
      "application/vnd.jupyter.widget-view+json": {
       "model_id": "24d9f3c7384c42b49652778197e0fb43",
       "version_major": 2,
       "version_minor": 0
      },
      "text/plain": [
       "  0%|          | 0/248 [00:00<?, ?it/s]"
      ]
     },
     "metadata": {},
     "output_type": "display_data"
    }
   ],
   "source": [
    "model = PlaceHolderBERT()\n",
    "train(model, letters_dataloader)"
   ]
  },
  {
   "cell_type": "code",
   "execution_count": 15,
   "id": "8a5c1694",
   "metadata": {},
   "outputs": [
    {
     "data": {
      "text/plain": [
       "42.806484295846"
      ]
     },
     "execution_count": 15,
     "metadata": {},
     "output_type": "execute_result"
    }
   ],
   "source": [
    "evaluate(model, facetoface_dataloader)"
   ]
  }
 ],
 "metadata": {
  "kernelspec": {
   "display_name": "Python 3 (ipykernel)",
   "language": "python",
   "name": "python3"
  },
  "language_info": {
   "codemirror_mode": {
    "name": "ipython",
    "version": 3
   },
   "file_extension": ".py",
   "mimetype": "text/x-python",
   "name": "python",
   "nbconvert_exporter": "python",
   "pygments_lexer": "ipython3",
   "version": "3.8.10"
  }
 },
 "nbformat": 4,
 "nbformat_minor": 5
}
