{
 "cells": [
  {
   "cell_type": "code",
   "execution_count": null,
   "id": "electric-edition",
   "metadata": {},
   "outputs": [],
   "source": [
    "import nlpbbb as bbb\n",
    "import pprint"
   ]
  },
  {
   "cell_type": "code",
   "execution_count": null,
   "id": "0999f8c7",
   "metadata": {},
   "outputs": [],
   "source": [
    "settings = {\n",
    "    \"experiment\":{\n",
    "        \"batchsize\": [1, 2, 4]\n",
    "    },\n",
    "    \"dataset\": {\n",
    "        \"seed\": [1, 3, 5],\n",
    "    },\n",
    "    \"misc\": {\n",
    "        \"save\": [True]\n",
    "    }\n",
    "}"
   ]
  },
  {
   "cell_type": "code",
   "execution_count": null,
   "id": "b97e9b74",
   "metadata": {},
   "outputs": [],
   "source": [
    "config_dicts = bbb.setup.create_gridsearch(settings, merge_default=True)"
   ]
  },
  {
   "cell_type": "code",
   "execution_count": null,
   "id": "ec406b51",
   "metadata": {},
   "outputs": [],
   "source": [
    "pprint.pprint(config_dicts)"
   ]
  },
  {
   "cell_type": "code",
   "execution_count": null,
   "id": "0fa0606e",
   "metadata": {},
   "outputs": [],
   "source": [
    "bbb.setup.run_submitit_job_array(config_dicts)"
   ]
  }
 ],
 "metadata": {
  "kernelspec": {
   "display_name": "universeg",
   "language": "python",
   "name": "universeg"
  },
  "language_info": {
   "codemirror_mode": {
    "name": "ipython",
    "version": 3
   },
   "file_extension": ".py",
   "mimetype": "text/x-python",
   "name": "python",
   "nbconvert_exporter": "python",
   "pygments_lexer": "ipython3",
   "version": "3.8.5"
  }
 },
 "nbformat": 4,
 "nbformat_minor": 5
}
