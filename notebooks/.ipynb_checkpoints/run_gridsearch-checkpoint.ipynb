{
 "cells": [
  {
   "cell_type": "code",
   "execution_count": null,
   "id": "electric-edition",
   "metadata": {},
   "outputs": [],
   "source": [
    "import nlpbbb as bbb\n",
    "import pprint"
   ]
  },
  {
   "cell_type": "code",
   "execution_count": null,
   "id": "0999f8c7",
   "metadata": {},
   "outputs": [],
   "source": [
    "settings = {\n",
    "    \"training\":{\n",
    "        \"lr\": [0.001, 0.003, 0.0001, 0.0003]\n",
    "    },\n",
    "    \"model\": {\n",
    "        \"num_feat\": [64, 128],\n",
    "        \"num_reps\": [2, 3]\n",
    "    },\n",
    "    \"misc\": {\n",
    "        \"save\": [True],\n",
    "        \"show_output\": [False]\n",
    "    }\n",
    "}"
   ]
  },
  {
   "cell_type": "code",
   "execution_count": null,
   "id": "b97e9b74",
   "metadata": {},
   "outputs": [],
   "source": [
    "config_dicts = bbb.setup.create_gridsearch(settings, merge_default=True)"
   ]
  },
  {
   "cell_type": "code",
   "execution_count": null,
   "id": "ec406b51",
   "metadata": {},
   "outputs": [],
   "source": [
    "pprint.pprint(config_dicts)"
   ]
  },
  {
   "cell_type": "code",
   "execution_count": null,
   "id": "0fa0606e",
   "metadata": {},
   "outputs": [],
   "source": [
    "bbb.setup.run_submitit_job_array(config_dicts)"
   ]
  }
 ],
 "metadata": {
  "kernelspec": {
   "display_name": "universeg",
   "language": "python",
   "name": "universeg"
  },
  "language_info": {
   "codemirror_mode": {
    "name": "ipython",
    "version": 3
   },
   "file_extension": ".py",
   "mimetype": "text/x-python",
   "name": "python",
   "nbconvert_exporter": "python",
   "pygments_lexer": "ipython3",
   "version": "3.8.5"
  }
 },
 "nbformat": 4,
 "nbformat_minor": 5
}
