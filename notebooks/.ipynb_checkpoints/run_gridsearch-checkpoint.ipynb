{
 "cells": [
  {
   "cell_type": "code",
   "execution_count": 1,
   "id": "electric-edition",
   "metadata": {},
   "outputs": [],
   "source": [
    "import nlpbbb as bbb\n",
    "import pprint"
   ]
  },
  {
   "cell_type": "code",
   "execution_count": 2,
   "id": "0999f8c7",
   "metadata": {},
   "outputs": [],
   "source": [
    "settings = {\n",
    "    \"experiment\":{\n",
    "        \"lr\": [0.001, 0.0005, 0.0003, 0.0001, 0.00005]\n",
    "    },\n",
    "    \"misc\": {\n",
    "        \"save\": [True]\n",
    "    }\n",
    "}"
   ]
  },
  {
   "cell_type": "code",
   "execution_count": 3,
   "id": "b97e9b74",
   "metadata": {},
   "outputs": [],
   "source": [
    "config_dicts = bbb.setup.create_gridsearch(settings, default_name=\"HarryPotter_DEFAULT\", merge_default=True)"
   ]
  },
  {
   "cell_type": "code",
   "execution_count": 4,
   "id": "ec406b51",
   "metadata": {},
   "outputs": [],
   "source": [
    "#pprint.pprint(config_dicts)"
   ]
  },
  {
   "cell_type": "code",
   "execution_count": 5,
   "id": "0fa0606e",
   "metadata": {},
   "outputs": [
    {
     "name": "stderr",
     "output_type": "stream",
     "text": [
      "sacct: error: slurm_persist_conn_open_without_init: failed to open persistent connection to host:slurmdbd:6819: Connection timed out\n",
      "sacct: error: Sending PersistInit msg: Connection timed out\n",
      "sacct: error: Problem talking to the database: Connection timed out\n",
      "submitit WARNING (2022-05-16 05:30:37,627) - Call #1 - Bypassing sacct error Command '['sacct', '-o', 'JobID,State,NodeList', '--parsable2', '-j', '571949', '-j', '571950', '-j', '571948', '-j', '571947']' returned non-zero exit status 1., status may be inaccurate.\n"
     ]
    },
    {
     "name": "stdout",
     "output_type": "stream",
     "text": [
      "submitit WARNING (2022-05-16 05:30:37,627) - Call #1 - Bypassing sacct error Command '['sacct', '-o', 'JobID,State,NodeList', '--parsable2', '-j', '571949', '-j', '571950', '-j', '571948', '-j', '571947']' returned non-zero exit status 1., status may be inaccurate.\n"
     ]
    },
    {
     "data": {
      "text/plain": [
       "[SlurmJob<job_id=571947, task_id=0, state=\"UNKNOWN\">,\n",
       " SlurmJob<job_id=571948, task_id=0, state=\"UNKNOWN\">,\n",
       " SlurmJob<job_id=571949, task_id=0, state=\"UNKNOWN\">,\n",
       " SlurmJob<job_id=571950, task_id=0, state=\"UNKNOWN\">]"
      ]
     },
     "execution_count": 5,
     "metadata": {},
     "output_type": "execute_result"
    }
   ],
   "source": [
    "bbb.setup.run_submitit_job_array(config_dicts, timeout=(6 * 60), mem=16)"
   ]
  }
 ],
 "metadata": {
  "kernelspec": {
   "display_name": "nlpbbb",
   "language": "python",
   "name": "nlpbbb"
  },
  "language_info": {
   "codemirror_mode": {
    "name": "ipython",
    "version": 3
   },
   "file_extension": ".py",
   "mimetype": "text/x-python",
   "name": "python",
   "nbconvert_exporter": "python",
   "pygments_lexer": "ipython3",
   "version": "3.7.5"
  }
 },
 "nbformat": 4,
 "nbformat_minor": 5
}
