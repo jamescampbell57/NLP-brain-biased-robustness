{
 "cells": [
  {
   "cell_type": "code",
   "execution_count": 1,
   "id": "electric-edition",
   "metadata": {},
   "outputs": [],
   "source": [
    "import nlpbbb as bbb\n",
    "import pprint"
   ]
  },
  {
   "cell_type": "code",
   "execution_count": 2,
   "id": "0999f8c7",
   "metadata": {},
   "outputs": [],
   "source": [
    "settings = {\n",
    "    \"experiment\":{\n",
    "        \"lr\": [0.0001],\n",
    "        \"epochs\": [100],\n",
    "        \"batchsize\": [8],\n",
    "        \"val_frequency\": [5]\n",
    "    },\n",
    "    \"model\":{\n",
    "        \"brain_biased\": [False]\n",
    "    },\n",
    "    \"misc\": {\n",
    "        \"save\": [False]\n",
    "    }\n",
    "}"
   ]
  },
  {
   "cell_type": "code",
   "execution_count": 3,
   "id": "37c614f6",
   "metadata": {},
   "outputs": [],
   "source": [
    "#[\"results/models/05.16.22/model_type:BrainBiasedBert$lr:5e-05/epoch:16/train_info\",\n",
    "#                      \"results/models/05.16.22/model_type:BrainBiasedBert$lr:5e-05/epoch:8/train_info\"]"
   ]
  },
  {
   "cell_type": "code",
   "execution_count": 4,
   "id": "7756db45",
   "metadata": {},
   "outputs": [],
   "source": [
    "base_exps = [\"Amazon_BABY\", \"MNLI_DEFAULT\", \"SST2_DEFAULT2\", \"YELP_ITALIAN\"]"
   ]
  },
  {
   "cell_type": "code",
   "execution_count": 5,
   "id": "b97e9b74",
   "metadata": {},
   "outputs": [],
   "source": [
    "#config_dicts = bbb.setup.create_gridsearch(settings, default_name=\"HarryPotter_DEFAULT\", merge_default=True)"
   ]
  },
  {
   "cell_type": "code",
   "execution_count": 6,
   "id": "0fa0606e",
   "metadata": {},
   "outputs": [
    {
     "name": "stdout",
     "output_type": "stream",
     "text": [
      "config:Amazon_BABY~lr:0.0001~epochs:100~batchsize:8~val_frequency:5~brain_biased:False\n",
      "config:MNLI_DEFAULT~lr:0.0001~epochs:100~batchsize:8~val_frequency:5~brain_biased:False\n",
      "config:SST2_DEFAULT2~lr:0.0001~epochs:100~batchsize:8~val_frequency:5~brain_biased:False\n"
     ]
    }
   ],
   "source": [
    "run_dicts = []\n",
    "for be in base_exps:\n",
    "    config_dicts = bbb.setup.create_gridsearch(settings, default_name=be, merge_default=True)\n",
    "    for cd in config_dicts:\n",
    "        run_dicts.append(cd)\n",
    "    #bbb.setup.run_submitit_job_array(config_dicts, timeout=(12 * 60), mem=16)"
   ]
  },
  {
   "cell_type": "code",
   "execution_count": 7,
   "id": "3223bdb5",
   "metadata": {},
   "outputs": [],
   "source": [
    "#pprint.pprint(run_dicts[0])"
   ]
  },
  {
   "cell_type": "code",
   "execution_count": 8,
   "id": "903a87d2",
   "metadata": {
    "scrolled": false
   },
   "outputs": [
    {
     "name": "stderr",
     "output_type": "stream",
     "text": [
      "Reusing dataset glue (/home/vib9/.cache/huggingface/datasets/glue/sst2/1.0.0/dacbe3125aa31d7f70367a07a8a9e72a5a0bfeb5fc42e75c9db75b96da6053ad)\n"
     ]
    },
    {
     "data": {
      "application/vnd.jupyter.widget-view+json": {
       "model_id": "7a67ea1ab90b44dc9899a53d28ca4c1e",
       "version_major": 2,
       "version_minor": 0
      },
      "text/plain": [
       "  0%|          | 0/3 [00:00<?, ?it/s]"
      ]
     },
     "metadata": {},
     "output_type": "display_data"
    },
    {
     "name": "stderr",
     "output_type": "stream",
     "text": [
      "Loading cached processed dataset at /home/vib9/.cache/huggingface/datasets/glue/sst2/1.0.0/dacbe3125aa31d7f70367a07a8a9e72a5a0bfeb5fc42e75c9db75b96da6053ad/cache-48959ab92bbe692c.arrow\n",
      "Loading cached processed dataset at /home/vib9/.cache/huggingface/datasets/glue/sst2/1.0.0/dacbe3125aa31d7f70367a07a8a9e72a5a0bfeb5fc42e75c9db75b96da6053ad/cache-9201e0b74832147f.arrow\n",
      "Loading cached processed dataset at /home/vib9/.cache/huggingface/datasets/glue/sst2/1.0.0/dacbe3125aa31d7f70367a07a8a9e72a5a0bfeb5fc42e75c9db75b96da6053ad/cache-48d1bc01d17113b4.arrow\n",
      "Loading cached shuffled indices for dataset at /home/vib9/.cache/huggingface/datasets/glue/sst2/1.0.0/dacbe3125aa31d7f70367a07a8a9e72a5a0bfeb5fc42e75c9db75b96da6053ad/cache-d5b60aba72a086a0.arrow\n",
      "Reusing dataset imdb (/home/vib9/.cache/huggingface/datasets/imdb/plain_text/1.0.0/2fdd8b9bcadd6e7055e742a706876ba43f19faee861df134affd7a3f60fc38a1)\n"
     ]
    },
    {
     "data": {
      "application/vnd.jupyter.widget-view+json": {
       "model_id": "0c35953861d54fd6bb03ad9366211784",
       "version_major": 2,
       "version_minor": 0
      },
      "text/plain": [
       "  0%|          | 0/3 [00:00<?, ?it/s]"
      ]
     },
     "metadata": {},
     "output_type": "display_data"
    },
    {
     "name": "stderr",
     "output_type": "stream",
     "text": [
      "Loading cached processed dataset at /home/vib9/.cache/huggingface/datasets/imdb/plain_text/1.0.0/2fdd8b9bcadd6e7055e742a706876ba43f19faee861df134affd7a3f60fc38a1/cache-d9d84ca28350b2fb.arrow\n",
      "Loading cached processed dataset at /home/vib9/.cache/huggingface/datasets/imdb/plain_text/1.0.0/2fdd8b9bcadd6e7055e742a706876ba43f19faee861df134affd7a3f60fc38a1/cache-5dd6ec7b2743e0d4.arrow\n",
      "Loading cached processed dataset at /home/vib9/.cache/huggingface/datasets/imdb/plain_text/1.0.0/2fdd8b9bcadd6e7055e742a706876ba43f19faee861df134affd7a3f60fc38a1/cache-f1a905626a74b7d8.arrow\n",
      "Loading cached shuffled indices for dataset at /home/vib9/.cache/huggingface/datasets/imdb/plain_text/1.0.0/2fdd8b9bcadd6e7055e742a706876ba43f19faee861df134affd7a3f60fc38a1/cache-b3266771ef04b5f6.arrow\n",
      "Reusing dataset glue (/home/vib9/.cache/huggingface/datasets/glue/sst2/1.0.0/dacbe3125aa31d7f70367a07a8a9e72a5a0bfeb5fc42e75c9db75b96da6053ad)\n"
     ]
    },
    {
     "data": {
      "application/vnd.jupyter.widget-view+json": {
       "model_id": "fea348b840fc4cb9a0abbfeb74611170",
       "version_major": 2,
       "version_minor": 0
      },
      "text/plain": [
       "  0%|          | 0/3 [00:00<?, ?it/s]"
      ]
     },
     "metadata": {},
     "output_type": "display_data"
    },
    {
     "name": "stderr",
     "output_type": "stream",
     "text": [
      "Loading cached processed dataset at /home/vib9/.cache/huggingface/datasets/glue/sst2/1.0.0/dacbe3125aa31d7f70367a07a8a9e72a5a0bfeb5fc42e75c9db75b96da6053ad/cache-48959ab92bbe692c.arrow\n",
      "Loading cached processed dataset at /home/vib9/.cache/huggingface/datasets/glue/sst2/1.0.0/dacbe3125aa31d7f70367a07a8a9e72a5a0bfeb5fc42e75c9db75b96da6053ad/cache-9201e0b74832147f.arrow\n",
      "Loading cached processed dataset at /home/vib9/.cache/huggingface/datasets/glue/sst2/1.0.0/dacbe3125aa31d7f70367a07a8a9e72a5a0bfeb5fc42e75c9db75b96da6053ad/cache-48d1bc01d17113b4.arrow\n",
      "Loading cached shuffled indices for dataset at /home/vib9/.cache/huggingface/datasets/glue/sst2/1.0.0/dacbe3125aa31d7f70367a07a8a9e72a5a0bfeb5fc42e75c9db75b96da6053ad/cache-93fdf25629c407e5.arrow\n",
      "Some weights of the model checkpoint at bert-base-cased were not used when initializing BertModel: ['cls.predictions.transform.LayerNorm.bias', 'cls.seq_relationship.bias', 'cls.predictions.decoder.weight', 'cls.predictions.transform.LayerNorm.weight', 'cls.seq_relationship.weight', 'cls.predictions.transform.dense.weight', 'cls.predictions.transform.dense.bias', 'cls.predictions.bias']\n",
      "- This IS expected if you are initializing BertModel from the checkpoint of a model trained on another task or with another architecture (e.g. initializing a BertForSequenceClassification model from a BertForPreTraining model).\n",
      "- This IS NOT expected if you are initializing BertModel from the checkpoint of a model that you expect to be exactly identical (initializing a BertForSequenceClassification model from a BertForSequenceClassification model).\n",
      "Training Epoch 1/100:   0%|                                           | 0/67352 [00:00<?, ?batch/s]"
     ]
    },
    {
     "name": "stdout",
     "output_type": "stream",
     "text": [
      "tensor([[0.3962],\n",
      "        [0.6200],\n",
      "        [0.7545],\n",
      "        [0.2115],\n",
      "        [0.2190],\n",
      "        [0.5384],\n",
      "        [0.8081],\n",
      "        [0.5029]], device='cuda:0', grad_fn=<AddmmBackward0>)\n",
      "torch.Size([8, 1])\n"
     ]
    },
    {
     "name": "stderr",
     "output_type": "stream",
     "text": [
      "/home/vib9/anaconda3/envs/nlpbbb/lib/python3.7/site-packages/torch/nn/modules/loss.py:529: UserWarning: Using a target size (torch.Size([8])) that is different to the input size (torch.Size([8, 1])). This will likely lead to incorrect results due to broadcasting. Please ensure they have the same size.\n",
      "  return F.mse_loss(input, target, reduction=self.reduction)\n",
      "Training Epoch 1/100:   0%|       | 8/67352 [00:00<1:34:31, 11.87batch/s, train loss (batch)=0.292]"
     ]
    },
    {
     "name": "stdout",
     "output_type": "stream",
     "text": [
      "tensor([[1.4827],\n",
      "        [1.6057],\n",
      "        [1.4829],\n",
      "        [1.3997],\n",
      "        [1.6616],\n",
      "        [1.5786],\n",
      "        [1.3793],\n",
      "        [1.4372]], device='cuda:0', grad_fn=<AddmmBackward0>)\n",
      "torch.Size([8, 1])\n"
     ]
    },
    {
     "name": "stderr",
     "output_type": "stream",
     "text": [
      "Training Epoch 1/100:   0%|       | 16/67352 [00:01<1:14:37, 15.04batch/s, train loss (batch)=1.27]"
     ]
    },
    {
     "name": "stdout",
     "output_type": "stream",
     "text": [
      "tensor([[0.9682],\n",
      "        [0.8174],\n",
      "        [0.5235],\n",
      "        [0.9284],\n",
      "        [0.6402],\n",
      "        [0.8701],\n",
      "        [0.7116],\n",
      "        [0.7121]], device='cuda:0', grad_fn=<AddmmBackward0>)\n",
      "torch.Size([8, 1])\n"
     ]
    },
    {
     "name": "stderr",
     "output_type": "stream",
     "text": [
      "Training Epoch 1/100:   0%|      | 24/67352 [00:01<1:08:48, 16.31batch/s, train loss (batch)=0.276]"
     ]
    },
    {
     "name": "stdout",
     "output_type": "stream",
     "text": [
      "tensor([[0.2239],\n",
      "        [0.4795],\n",
      "        [0.1611],\n",
      "        [0.5782],\n",
      "        [0.4149],\n",
      "        [0.3306],\n",
      "        [0.2063],\n",
      "        [0.4259]], device='cuda:0', grad_fn=<AddmmBackward0>)\n",
      "torch.Size([8, 1])\n"
     ]
    },
    {
     "name": "stderr",
     "output_type": "stream",
     "text": [
      "Training Epoch 1/100:   0%|      | 32/67352 [00:01<1:05:59, 17.00batch/s, train loss (batch)=0.328]"
     ]
    },
    {
     "name": "stdout",
     "output_type": "stream",
     "text": [
      "tensor([[0.0043],\n",
      "        [0.1867],\n",
      "        [0.1314],\n",
      "        [0.2013],\n",
      "        [0.2963],\n",
      "        [0.3442],\n",
      "        [0.3223],\n",
      "        [0.0374]], device='cuda:0', grad_fn=<AddmmBackward0>)\n",
      "torch.Size([8, 1])\n"
     ]
    },
    {
     "name": "stderr",
     "output_type": "stream",
     "text": [
      "Training Epoch 1/100:   0%|      | 40/67352 [00:02<1:03:58, 17.53batch/s, train loss (batch)=0.283]"
     ]
    },
    {
     "name": "stdout",
     "output_type": "stream",
     "text": [
      "tensor([[ 0.3191],\n",
      "        [-0.2097],\n",
      "        [ 0.5902],\n",
      "        [ 0.4043],\n",
      "        [ 0.2447],\n",
      "        [ 0.3819],\n",
      "        [ 0.6170],\n",
      "        [ 0.2523]], device='cuda:0', grad_fn=<AddmmBackward0>)\n",
      "torch.Size([8, 1])\n"
     ]
    },
    {
     "name": "stderr",
     "output_type": "stream",
     "text": [
      "Training Epoch 1/100:   0%|      | 48/67352 [00:02<1:03:20, 17.71batch/s, train loss (batch)=0.382]"
     ]
    },
    {
     "name": "stdout",
     "output_type": "stream",
     "text": [
      "tensor([[0.4714],\n",
      "        [0.6189],\n",
      "        [0.7228],\n",
      "        [0.3705],\n",
      "        [0.6284],\n",
      "        [0.4786],\n",
      "        [0.7896],\n",
      "        [0.6612]], device='cuda:0', grad_fn=<AddmmBackward0>)\n",
      "torch.Size([8, 1])\n"
     ]
    },
    {
     "name": "stderr",
     "output_type": "stream",
     "text": [
      "Training Epoch 1/100:   0%|      | 56/67352 [00:03<1:02:06, 18.06batch/s, train loss (batch)=0.253]"
     ]
    },
    {
     "name": "stdout",
     "output_type": "stream",
     "text": [
      "tensor([[0.6780],\n",
      "        [0.8262],\n",
      "        [0.7595],\n",
      "        [0.6381],\n",
      "        [0.9578],\n",
      "        [0.9532],\n",
      "        [0.6389],\n",
      "        [0.7706]], device='cuda:0', grad_fn=<AddmmBackward0>)\n",
      "torch.Size([8, 1])\n"
     ]
    },
    {
     "name": "stderr",
     "output_type": "stream",
     "text": [
      "Training Epoch 1/100:   0%|      | 64/67352 [00:03<1:01:22, 18.27batch/s, train loss (batch)=0.203]"
     ]
    },
    {
     "name": "stdout",
     "output_type": "stream",
     "text": [
      "tensor([[1.2056],\n",
      "        [0.9505],\n",
      "        [0.7923],\n",
      "        [0.9071],\n",
      "        [1.1261],\n",
      "        [0.8196],\n",
      "        [0.7524],\n",
      "        [0.8102]], device='cuda:0', grad_fn=<AddmmBackward0>)\n",
      "torch.Size([8, 1])\n"
     ]
    },
    {
     "name": "stderr",
     "output_type": "stream",
     "text": [
      "Training Epoch 1/100:   0%|      | 72/67352 [00:04<1:00:39, 18.49batch/s, train loss (batch)=0.241]"
     ]
    },
    {
     "name": "stdout",
     "output_type": "stream",
     "text": [
      "tensor([[1.0435],\n",
      "        [0.8551],\n",
      "        [1.0733],\n",
      "        [1.1154],\n",
      "        [0.8966],\n",
      "        [0.9172],\n",
      "        [0.7714],\n",
      "        [1.1268]], device='cuda:0', grad_fn=<AddmmBackward0>)\n",
      "torch.Size([8, 1])\n"
     ]
    },
    {
     "name": "stderr",
     "output_type": "stream",
     "text": [
      "Training Epoch 1/100:   0%|      | 80/67352 [00:04<1:00:36, 18.50batch/s, train loss (batch)=0.253]"
     ]
    },
    {
     "name": "stdout",
     "output_type": "stream",
     "text": [
      "tensor([[0.8978],\n",
      "        [0.6635],\n",
      "        [0.9642],\n",
      "        [0.7664],\n",
      "        [0.9234],\n",
      "        [0.9425],\n",
      "        [0.7696],\n",
      "        [0.8282]], device='cuda:0', grad_fn=<AddmmBackward0>)\n",
      "torch.Size([8, 1])\n"
     ]
    },
    {
     "name": "stderr",
     "output_type": "stream",
     "text": [
      "Training Epoch 1/100:   0%|        | 88/67352 [00:04<59:29, 18.84batch/s, train loss (batch)=0.378]"
     ]
    },
    {
     "name": "stdout",
     "output_type": "stream",
     "text": [
      "tensor([[0.9063],\n",
      "        [0.8808],\n",
      "        [0.5774],\n",
      "        [0.8277],\n",
      "        [0.7533],\n",
      "        [0.6201],\n",
      "        [0.6757],\n",
      "        [0.8092]], device='cuda:0', grad_fn=<AddmmBackward0>)\n",
      "torch.Size([8, 1])\n"
     ]
    },
    {
     "name": "stderr",
     "output_type": "stream",
     "text": [
      "Training Epoch 1/100:   0%|        | 96/67352 [00:05<59:52, 18.72batch/s, train loss (batch)=0.329]"
     ]
    },
    {
     "name": "stdout",
     "output_type": "stream",
     "text": [
      "tensor([[0.5445],\n",
      "        [0.7437],\n",
      "        [0.5640],\n",
      "        [0.6267],\n",
      "        [0.4936],\n",
      "        [0.5497],\n",
      "        [0.5194],\n",
      "        [0.7713]], device='cuda:0', grad_fn=<AddmmBackward0>)\n",
      "torch.Size([8, 1])\n"
     ]
    },
    {
     "name": "stderr",
     "output_type": "stream",
     "text": [
      "Training Epoch 1/100:   0%|       | 104/67352 [00:05<58:37, 19.12batch/s, train loss (batch)=0.194]"
     ]
    },
    {
     "name": "stdout",
     "output_type": "stream",
     "text": [
      "tensor([[ 0.5842],\n",
      "        [ 0.6781],\n",
      "        [ 0.6800],\n",
      "        [ 0.9565],\n",
      "        [-0.4251],\n",
      "        [-0.1127],\n",
      "        [ 0.4703],\n",
      "        [-1.3164]], device='cuda:0', grad_fn=<AddmmBackward0>)\n",
      "torch.Size([8, 1])\n"
     ]
    },
    {
     "name": "stderr",
     "output_type": "stream",
     "text": [
      "Training Epoch 1/100:   0%|       | 112/67352 [00:06<59:07, 18.95batch/s, train loss (batch)=0.774]"
     ]
    },
    {
     "name": "stdout",
     "output_type": "stream",
     "text": [
      "tensor([[ 0.4456],\n",
      "        [ 0.3886],\n",
      "        [ 0.5914],\n",
      "        [ 0.2283],\n",
      "        [ 0.5557],\n",
      "        [ 0.4828],\n",
      "        [-0.2548],\n",
      "        [-0.0202]], device='cuda:0', grad_fn=<AddmmBackward0>)\n",
      "torch.Size([8, 1])\n"
     ]
    },
    {
     "name": "stderr",
     "output_type": "stream",
     "text": [
      "Training Epoch 1/100:   0%|       | 120/67352 [00:06<58:28, 19.16batch/s, train loss (batch)=0.269]"
     ]
    },
    {
     "name": "stdout",
     "output_type": "stream",
     "text": [
      "tensor([[0.3659],\n",
      "        [0.4187],\n",
      "        [0.5315],\n",
      "        [0.3093],\n",
      "        [0.6662],\n",
      "        [0.3995],\n",
      "        [0.1409],\n",
      "        [0.4138]], device='cuda:0', grad_fn=<AddmmBackward0>)\n",
      "torch.Size([8, 1])\n"
     ]
    },
    {
     "name": "stderr",
     "output_type": "stream",
     "text": [
      "Training Epoch 1/100:   0%|        | 128/67352 [00:07<58:27, 19.17batch/s, train loss (batch)=0.28]"
     ]
    },
    {
     "name": "stdout",
     "output_type": "stream",
     "text": [
      "tensor([[0.7842],\n",
      "        [0.9014],\n",
      "        [0.6447],\n",
      "        [0.7752],\n",
      "        [0.7683],\n",
      "        [0.5861],\n",
      "        [0.4791],\n",
      "        [0.9827]], device='cuda:0', grad_fn=<AddmmBackward0>)\n",
      "torch.Size([8, 1])\n"
     ]
    },
    {
     "name": "stderr",
     "output_type": "stream",
     "text": [
      "Training Epoch 1/100:   0%|       | 136/67352 [00:07<58:08, 19.27batch/s, train loss (batch)=0.331]"
     ]
    },
    {
     "name": "stdout",
     "output_type": "stream",
     "text": [
      "tensor([[1.0194],\n",
      "        [0.8814],\n",
      "        [0.8826],\n",
      "        [0.8333],\n",
      "        [1.1035],\n",
      "        [1.0343],\n",
      "        [0.2487],\n",
      "        [0.8141]], device='cuda:0', grad_fn=<AddmmBackward0>)\n",
      "torch.Size([8, 1])\n"
     ]
    },
    {
     "name": "stderr",
     "output_type": "stream",
     "text": [
      "Training Epoch 1/100:   0%|       | 144/67352 [00:07<57:34, 19.46batch/s, train loss (batch)=0.347]"
     ]
    },
    {
     "name": "stdout",
     "output_type": "stream",
     "text": [
      "tensor([[ 0.6959],\n",
      "        [ 0.1620],\n",
      "        [ 0.8829],\n",
      "        [ 0.9140],\n",
      "        [ 0.4550],\n",
      "        [ 0.4385],\n",
      "        [ 0.4344],\n",
      "        [-0.1220]], device='cuda:0', grad_fn=<AddmmBackward0>)\n",
      "torch.Size([8, 1])\n"
     ]
    },
    {
     "name": "stderr",
     "output_type": "stream",
     "text": [
      "Training Epoch 1/100:   0%|       | 152/67352 [00:08<57:39, 19.42batch/s, train loss (batch)=0.372]"
     ]
    },
    {
     "name": "stdout",
     "output_type": "stream",
     "text": [
      "tensor([[0.4690],\n",
      "        [0.4987],\n",
      "        [0.4746],\n",
      "        [0.2515],\n",
      "        [0.5098],\n",
      "        [0.4135],\n",
      "        [0.2890],\n",
      "        [0.7042]], device='cuda:0', grad_fn=<AddmmBackward0>)\n",
      "torch.Size([8, 1])\n"
     ]
    },
    {
     "name": "stderr",
     "output_type": "stream",
     "text": [
      "Training Epoch 1/100:   0%|       | 160/67352 [00:08<57:21, 19.53batch/s, train loss (batch)=0.294]"
     ]
    },
    {
     "name": "stdout",
     "output_type": "stream",
     "text": [
      "tensor([[0.8457],\n",
      "        [0.8345],\n",
      "        [0.4844],\n",
      "        [0.5332],\n",
      "        [0.7612],\n",
      "        [0.8483],\n",
      "        [0.0542],\n",
      "        [0.6044]], device='cuda:0', grad_fn=<AddmmBackward0>)\n",
      "torch.Size([8, 1])\n"
     ]
    },
    {
     "name": "stderr",
     "output_type": "stream",
     "text": [
      "Training Epoch 1/100:   0%|       | 168/67352 [00:09<56:57, 19.66batch/s, train loss (batch)=0.269]"
     ]
    },
    {
     "name": "stdout",
     "output_type": "stream",
     "text": [
      "tensor([[0.3750],\n",
      "        [0.6354],\n",
      "        [0.3940],\n",
      "        [0.7782],\n",
      "        [0.4601],\n",
      "        [0.4247],\n",
      "        [0.5617],\n",
      "        [0.6036]], device='cuda:0', grad_fn=<AddmmBackward0>)\n",
      "torch.Size([8, 1])\n"
     ]
    },
    {
     "name": "stderr",
     "output_type": "stream",
     "text": [
      "Training Epoch 1/100:   0%|       | 176/67352 [00:09<56:51, 19.69batch/s, train loss (batch)=0.268]"
     ]
    },
    {
     "name": "stdout",
     "output_type": "stream",
     "text": [
      "tensor([[0.7680],\n",
      "        [0.6549],\n",
      "        [0.6586],\n",
      "        [0.7243],\n",
      "        [0.4531],\n",
      "        [0.7242],\n",
      "        [0.6204],\n",
      "        [0.5338]], device='cuda:0', grad_fn=<AddmmBackward0>)\n",
      "torch.Size([8, 1])\n"
     ]
    },
    {
     "name": "stderr",
     "output_type": "stream",
     "text": [
      "Training Epoch 1/100:   0%|       | 184/67352 [00:09<57:21, 19.51batch/s, train loss (batch)=0.244]"
     ]
    },
    {
     "name": "stdout",
     "output_type": "stream",
     "text": [
      "tensor([[0.6685],\n",
      "        [0.7510],\n",
      "        [0.6358],\n",
      "        [0.6526],\n",
      "        [0.6227],\n",
      "        [0.6266],\n",
      "        [0.6422],\n",
      "        [0.5196]], device='cuda:0', grad_fn=<AddmmBackward0>)\n",
      "torch.Size([8, 1])\n"
     ]
    },
    {
     "name": "stderr",
     "output_type": "stream",
     "text": [
      "Training Epoch 1/100:   0%|       | 192/67352 [00:10<57:28, 19.47batch/s, train loss (batch)=0.308]"
     ]
    },
    {
     "name": "stdout",
     "output_type": "stream",
     "text": [
      "tensor([[0.5342],\n",
      "        [0.6530],\n",
      "        [0.7440],\n",
      "        [0.4763],\n",
      "        [0.6223],\n",
      "        [0.6338],\n",
      "        [0.7318],\n",
      "        [0.6673]], device='cuda:0', grad_fn=<AddmmBackward0>)\n",
      "torch.Size([8, 1])\n"
     ]
    },
    {
     "name": "stderr",
     "output_type": "stream",
     "text": [
      "Training Epoch 1/100:   0%|       | 200/67352 [00:10<57:32, 19.45batch/s, train loss (batch)=0.308]"
     ]
    },
    {
     "name": "stdout",
     "output_type": "stream",
     "text": [
      "tensor([[0.5889],\n",
      "        [0.5771],\n",
      "        [0.4227],\n",
      "        [0.6482],\n",
      "        [0.5373],\n",
      "        [0.4978],\n",
      "        [0.3693],\n",
      "        [0.6357]], device='cuda:0', grad_fn=<AddmmBackward0>)\n",
      "torch.Size([8, 1])\n"
     ]
    },
    {
     "name": "stderr",
     "output_type": "stream",
     "text": [
      "Training Epoch 1/100:   0%|       | 208/67352 [00:11<57:36, 19.43batch/s, train loss (batch)=0.251]"
     ]
    },
    {
     "name": "stdout",
     "output_type": "stream",
     "text": [
      "tensor([[0.6081],\n",
      "        [0.5722],\n",
      "        [0.6739],\n",
      "        [0.5106],\n",
      "        [0.4410],\n",
      "        [0.5781],\n",
      "        [0.4754],\n",
      "        [0.4064]], device='cuda:0', grad_fn=<AddmmBackward0>)\n",
      "torch.Size([8, 1])\n"
     ]
    },
    {
     "name": "stderr",
     "output_type": "stream",
     "text": [
      "Training Epoch 1/100:   0%|        | 216/67352 [00:11<57:10, 19.57batch/s, train loss (batch)=0.25]"
     ]
    },
    {
     "name": "stdout",
     "output_type": "stream",
     "text": [
      "tensor([[0.6971],\n",
      "        [0.5141],\n",
      "        [0.6683],\n",
      "        [0.5251],\n",
      "        [0.6593],\n",
      "        [0.5606],\n",
      "        [0.3538],\n",
      "        [0.5048]], device='cuda:0', grad_fn=<AddmmBackward0>)\n",
      "torch.Size([8, 1])\n"
     ]
    },
    {
     "name": "stderr",
     "output_type": "stream",
     "text": [
      "Training Epoch 1/100:   0%|        | 224/67352 [00:11<57:09, 19.58batch/s, train loss (batch)=0.25]"
     ]
    },
    {
     "name": "stdout",
     "output_type": "stream",
     "text": [
      "tensor([[0.5301],\n",
      "        [0.7243],\n",
      "        [0.5030],\n",
      "        [0.6205],\n",
      "        [0.6918],\n",
      "        [0.6638],\n",
      "        [0.5148],\n",
      "        [0.6366]], device='cuda:0', grad_fn=<AddmmBackward0>)\n",
      "torch.Size([8, 1])\n"
     ]
    },
    {
     "name": "stderr",
     "output_type": "stream",
     "text": [
      "Training Epoch 1/100:   0%|       | 232/67352 [00:12<56:56, 19.65batch/s, train loss (batch)=0.296]"
     ]
    },
    {
     "name": "stdout",
     "output_type": "stream",
     "text": [
      "tensor([[0.3440],\n",
      "        [0.5607],\n",
      "        [0.6308],\n",
      "        [0.5684],\n",
      "        [0.6043],\n",
      "        [0.5722],\n",
      "        [0.8226],\n",
      "        [0.6763]], device='cuda:0', grad_fn=<AddmmBackward0>)\n",
      "torch.Size([8, 1])\n"
     ]
    },
    {
     "name": "stderr",
     "output_type": "stream",
     "text": [
      "Training Epoch 1/100:   0%|       | 240/67352 [00:12<56:53, 19.66batch/s, train loss (batch)=0.251]"
     ]
    },
    {
     "name": "stdout",
     "output_type": "stream",
     "text": [
      "tensor([[0.4569],\n",
      "        [0.3114],\n",
      "        [0.5874],\n",
      "        [0.4525],\n",
      "        [0.4914],\n",
      "        [0.4689],\n",
      "        [0.5894],\n",
      "        [0.6104]], device='cuda:0', grad_fn=<AddmmBackward0>)\n",
      "torch.Size([8, 1])\n"
     ]
    },
    {
     "name": "stderr",
     "output_type": "stream",
     "text": [
      "Training Epoch 1/100:   0%|       | 248/67352 [00:13<56:41, 19.73batch/s, train loss (batch)=0.257]"
     ]
    },
    {
     "name": "stdout",
     "output_type": "stream",
     "text": [
      "tensor([[0.5650],\n",
      "        [0.3140],\n",
      "        [0.5262],\n",
      "        [0.3686],\n",
      "        [0.5192],\n",
      "        [0.5109],\n",
      "        [0.3398],\n",
      "        [0.3623]], device='cuda:0', grad_fn=<AddmmBackward0>)\n",
      "torch.Size([8, 1])\n"
     ]
    },
    {
     "name": "stderr",
     "output_type": "stream",
     "text": [
      "Training Epoch 1/100:   0%|       | 256/67352 [00:13<56:15, 19.88batch/s, train loss (batch)=0.232]"
     ]
    },
    {
     "name": "stdout",
     "output_type": "stream",
     "text": [
      "tensor([[0.5195],\n",
      "        [0.5540],\n",
      "        [0.4529],\n",
      "        [0.3632],\n",
      "        [0.3121],\n",
      "        [0.4469],\n",
      "        [0.5081],\n",
      "        [0.5133]], device='cuda:0', grad_fn=<AddmmBackward0>)\n",
      "torch.Size([8, 1])\n"
     ]
    },
    {
     "name": "stderr",
     "output_type": "stream",
     "text": [
      "Training Epoch 1/100:   0%|       | 264/67352 [00:13<56:40, 19.73batch/s, train loss (batch)=0.268]"
     ]
    },
    {
     "name": "stdout",
     "output_type": "stream",
     "text": [
      "tensor([[0.2791],\n",
      "        [0.1478],\n",
      "        [0.5387],\n",
      "        [0.3293],\n",
      "        [0.4516],\n",
      "        [0.4179],\n",
      "        [0.5614],\n",
      "        [0.3125]], device='cuda:0', grad_fn=<AddmmBackward0>)\n",
      "torch.Size([8, 1])\n"
     ]
    },
    {
     "name": "stderr",
     "output_type": "stream",
     "text": [
      "Training Epoch 1/100:   0%|       | 272/67352 [00:14<56:47, 19.69batch/s, train loss (batch)=0.281]"
     ]
    },
    {
     "name": "stdout",
     "output_type": "stream",
     "text": [
      "tensor([[0.2180],\n",
      "        [0.1340],\n",
      "        [0.3264],\n",
      "        [0.3165],\n",
      "        [0.1553],\n",
      "        [0.4501],\n",
      "        [0.0007],\n",
      "        [0.2921]], device='cuda:0', grad_fn=<AddmmBackward0>)\n",
      "torch.Size([8, 1])\n"
     ]
    },
    {
     "name": "stderr",
     "output_type": "stream",
     "text": [
      "Training Epoch 1/100:   0%|       | 280/67352 [00:14<56:27, 19.80batch/s, train loss (batch)=0.336]"
     ]
    },
    {
     "name": "stdout",
     "output_type": "stream",
     "text": [
      "tensor([[0.4236],\n",
      "        [0.4728],\n",
      "        [0.5221],\n",
      "        [0.4645],\n",
      "        [0.4475],\n",
      "        [0.3047],\n",
      "        [0.1165],\n",
      "        [0.6763]], device='cuda:0', grad_fn=<AddmmBackward0>)\n",
      "torch.Size([8, 1])\n"
     ]
    },
    {
     "name": "stderr",
     "output_type": "stream",
     "text": [
      "Training Epoch 1/100:   0%|       | 288/67352 [00:15<56:13, 19.88batch/s, train loss (batch)=0.261]"
     ]
    },
    {
     "name": "stdout",
     "output_type": "stream",
     "text": [
      "tensor([[ 0.5160],\n",
      "        [ 0.3853],\n",
      "        [ 0.6871],\n",
      "        [ 0.3011],\n",
      "        [ 0.4479],\n",
      "        [-0.0636],\n",
      "        [ 0.5458],\n",
      "        [ 0.3681]], device='cuda:0', grad_fn=<AddmmBackward0>)\n",
      "torch.Size([8, 1])\n"
     ]
    },
    {
     "name": "stderr",
     "output_type": "stream",
     "text": [
      "Training Epoch 1/100:   0%|       | 296/67352 [00:15<56:02, 19.94batch/s, train loss (batch)=0.329]"
     ]
    },
    {
     "name": "stdout",
     "output_type": "stream",
     "text": [
      "tensor([[0.6598],\n",
      "        [0.3819],\n",
      "        [0.8205],\n",
      "        [0.5073],\n",
      "        [0.4179],\n",
      "        [0.4413],\n",
      "        [0.6276],\n",
      "        [0.4305]], device='cuda:0', grad_fn=<AddmmBackward0>)\n",
      "torch.Size([8, 1])\n"
     ]
    },
    {
     "name": "stderr",
     "output_type": "stream",
     "text": [
      "Training Epoch 1/100:   0%|       | 304/67352 [00:16<56:36, 19.74batch/s, train loss (batch)=0.263]"
     ]
    },
    {
     "name": "stdout",
     "output_type": "stream",
     "text": [
      "tensor([[0.5391],\n",
      "        [0.4769],\n",
      "        [0.5444],\n",
      "        [0.6146],\n",
      "        [0.4876],\n",
      "        [0.7257],\n",
      "        [0.6036],\n",
      "        [0.6089]], device='cuda:0', grad_fn=<AddmmBackward0>)\n",
      "torch.Size([8, 1])\n"
     ]
    },
    {
     "name": "stderr",
     "output_type": "stream",
     "text": [
      "Training Epoch 1/100:   0%|       | 312/67352 [00:16<56:10, 19.89batch/s, train loss (batch)=0.261]"
     ]
    },
    {
     "name": "stdout",
     "output_type": "stream",
     "text": [
      "tensor([[0.5870],\n",
      "        [0.3621],\n",
      "        [0.7129],\n",
      "        [0.5310],\n",
      "        [0.5171],\n",
      "        [0.5470],\n",
      "        [0.8262],\n",
      "        [0.5264]], device='cuda:0', grad_fn=<AddmmBackward0>)\n",
      "torch.Size([8, 1])\n"
     ]
    },
    {
     "name": "stderr",
     "output_type": "stream",
     "text": [
      "Training Epoch 1/100:   0%|       | 320/67352 [00:16<56:09, 19.89batch/s, train loss (batch)=0.273]"
     ]
    },
    {
     "name": "stdout",
     "output_type": "stream",
     "text": [
      "tensor([[0.8568],\n",
      "        [0.6276],\n",
      "        [0.6091],\n",
      "        [0.5923],\n",
      "        [0.6525],\n",
      "        [0.6314],\n",
      "        [0.6200],\n",
      "        [0.5998]], device='cuda:0', grad_fn=<AddmmBackward0>)\n",
      "torch.Size([8, 1])\n"
     ]
    },
    {
     "name": "stderr",
     "output_type": "stream",
     "text": [
      "Training Epoch 1/100:   0%|       | 328/67352 [00:17<56:07, 19.90batch/s, train loss (batch)=0.279]"
     ]
    },
    {
     "name": "stdout",
     "output_type": "stream",
     "text": [
      "tensor([[0.6386],\n",
      "        [0.6064],\n",
      "        [0.5619],\n",
      "        [0.6844],\n",
      "        [0.3428],\n",
      "        [0.4498],\n",
      "        [0.4379],\n",
      "        [0.6638]], device='cuda:0', grad_fn=<AddmmBackward0>)\n",
      "torch.Size([8, 1])\n"
     ]
    },
    {
     "name": "stderr",
     "output_type": "stream",
     "text": [
      "Training Epoch 1/100:   0%|       | 336/67352 [00:17<56:13, 19.87batch/s, train loss (batch)=0.266]"
     ]
    },
    {
     "name": "stdout",
     "output_type": "stream",
     "text": [
      "tensor([[0.3401],\n",
      "        [0.2707],\n",
      "        [0.5728],\n",
      "        [0.3966],\n",
      "        [0.6595],\n",
      "        [0.6888],\n",
      "        [0.5963],\n",
      "        [0.2815]], device='cuda:0', grad_fn=<AddmmBackward0>)\n",
      "torch.Size([8, 1])\n"
     ]
    },
    {
     "name": "stderr",
     "output_type": "stream",
     "text": [
      "Training Epoch 1/100:   1%|       | 344/67352 [00:18<56:12, 19.87batch/s, train loss (batch)=0.264]"
     ]
    },
    {
     "name": "stdout",
     "output_type": "stream",
     "text": [
      "tensor([[0.3760],\n",
      "        [0.6188],\n",
      "        [0.6409],\n",
      "        [0.5598],\n",
      "        [0.5825],\n",
      "        [0.4107],\n",
      "        [0.6049],\n",
      "        [0.6216]], device='cuda:0', grad_fn=<AddmmBackward0>)\n",
      "torch.Size([8, 1])\n"
     ]
    },
    {
     "name": "stderr",
     "output_type": "stream",
     "text": [
      "Training Epoch 1/100:   1%|       | 352/67352 [00:18<55:56, 19.96batch/s, train loss (batch)=0.275]"
     ]
    },
    {
     "name": "stdout",
     "output_type": "stream",
     "text": [
      "tensor([[0.5317],\n",
      "        [0.5659],\n",
      "        [0.4881],\n",
      "        [0.5622],\n",
      "        [0.7329],\n",
      "        [0.5630],\n",
      "        [0.5909],\n",
      "        [0.3632]], device='cuda:0', grad_fn=<AddmmBackward0>)\n",
      "torch.Size([8, 1])\n"
     ]
    },
    {
     "name": "stderr",
     "output_type": "stream",
     "text": [
      "Training Epoch 1/100:   1%|       | 360/67352 [00:18<56:20, 19.82batch/s, train loss (batch)=0.249]"
     ]
    },
    {
     "name": "stdout",
     "output_type": "stream",
     "text": [
      "tensor([[0.7043],\n",
      "        [0.3978],\n",
      "        [0.3922],\n",
      "        [0.5878],\n",
      "        [0.3305],\n",
      "        [0.3715],\n",
      "        [0.3252],\n",
      "        [0.4254]], device='cuda:0', grad_fn=<AddmmBackward0>)\n",
      "torch.Size([8, 1])\n"
     ]
    },
    {
     "name": "stderr",
     "output_type": "stream",
     "text": [
      "Training Epoch 1/100:   1%|       | 368/67352 [00:19<56:12, 19.86batch/s, train loss (batch)=0.269]"
     ]
    },
    {
     "name": "stdout",
     "output_type": "stream",
     "text": [
      "tensor([[0.4444],\n",
      "        [0.5384],\n",
      "        [0.5173],\n",
      "        [0.4391],\n",
      "        [0.4496],\n",
      "        [0.5063],\n",
      "        [0.4027],\n",
      "        [0.4758]], device='cuda:0', grad_fn=<AddmmBackward0>)\n",
      "torch.Size([8, 1])\n"
     ]
    },
    {
     "name": "stderr",
     "output_type": "stream",
     "text": [
      "Training Epoch 1/100:   1%|        | 376/67352 [00:19<55:48, 20.00batch/s, train loss (batch)=0.26]"
     ]
    },
    {
     "name": "stdout",
     "output_type": "stream",
     "text": [
      "tensor([[0.5911],\n",
      "        [0.3752],\n",
      "        [0.6115],\n",
      "        [0.3951],\n",
      "        [0.2793],\n",
      "        [0.3398],\n",
      "        [0.3857],\n",
      "        [0.5503]], device='cuda:0', grad_fn=<AddmmBackward0>)\n",
      "torch.Size([8, 1])\n"
     ]
    },
    {
     "name": "stderr",
     "output_type": "stream",
     "text": [
      "Training Epoch 1/100:   1%|       | 384/67352 [00:20<55:50, 19.99batch/s, train loss (batch)=0.297]"
     ]
    },
    {
     "name": "stdout",
     "output_type": "stream",
     "text": [
      "tensor([[0.4837],\n",
      "        [0.3242],\n",
      "        [0.5727],\n",
      "        [0.6463],\n",
      "        [0.5071],\n",
      "        [0.5411],\n",
      "        [0.4849],\n",
      "        [0.5019]], device='cuda:0', grad_fn=<AddmmBackward0>)\n",
      "torch.Size([8, 1])\n"
     ]
    },
    {
     "name": "stderr",
     "output_type": "stream",
     "text": [
      "Training Epoch 1/100:   1%|       | 392/67352 [00:20<55:58, 19.94batch/s, train loss (batch)=0.256]"
     ]
    },
    {
     "name": "stdout",
     "output_type": "stream",
     "text": [
      "tensor([[0.4975],\n",
      "        [0.3648],\n",
      "        [0.1052],\n",
      "        [0.4169],\n",
      "        [0.5052],\n",
      "        [0.6510],\n",
      "        [0.5556],\n",
      "        [0.4778]], device='cuda:0', grad_fn=<AddmmBackward0>)\n",
      "torch.Size([8, 1])\n"
     ]
    },
    {
     "name": "stderr",
     "output_type": "stream",
     "text": [
      "Training Epoch 1/100:   1%|       | 400/67352 [00:20<55:50, 19.98batch/s, train loss (batch)=0.289]"
     ]
    },
    {
     "name": "stdout",
     "output_type": "stream",
     "text": [
      "tensor([[0.6778],\n",
      "        [0.7656],\n",
      "        [0.6715],\n",
      "        [0.5867],\n",
      "        [0.6850],\n",
      "        [0.6470],\n",
      "        [0.6492],\n",
      "        [0.5012]], device='cuda:0', grad_fn=<AddmmBackward0>)\n",
      "torch.Size([8, 1])\n"
     ]
    },
    {
     "name": "stderr",
     "output_type": "stream",
     "text": [
      "Training Epoch 1/100:   1%|       | 408/67352 [00:21<55:44, 20.01batch/s, train loss (batch)=0.277]"
     ]
    },
    {
     "name": "stdout",
     "output_type": "stream",
     "text": [
      "tensor([[0.6530],\n",
      "        [0.5988],\n",
      "        [0.6154],\n",
      "        [0.4396],\n",
      "        [0.7055],\n",
      "        [0.6184],\n",
      "        [0.6108],\n",
      "        [0.7495]], device='cuda:0', grad_fn=<AddmmBackward0>)\n",
      "torch.Size([8, 1])\n"
     ]
    },
    {
     "name": "stderr",
     "output_type": "stream",
     "text": [
      "Training Epoch 1/100:   1%|       | 416/67352 [00:21<55:39, 20.04batch/s, train loss (batch)=0.211]"
     ]
    },
    {
     "name": "stdout",
     "output_type": "stream",
     "text": [
      "tensor([[0.6314],\n",
      "        [0.6298],\n",
      "        [0.5927],\n",
      "        [0.5284],\n",
      "        [0.6132],\n",
      "        [0.4183],\n",
      "        [0.7035],\n",
      "        [0.3988]], device='cuda:0', grad_fn=<AddmmBackward0>)\n",
      "torch.Size([8, 1])\n"
     ]
    },
    {
     "name": "stderr",
     "output_type": "stream",
     "text": [
      "Training Epoch 1/100:   1%|       | 424/67352 [00:22<55:30, 20.09batch/s, train loss (batch)=0.248]"
     ]
    },
    {
     "name": "stdout",
     "output_type": "stream",
     "text": [
      "tensor([[0.4643],\n",
      "        [0.7497],\n",
      "        [0.6757],\n",
      "        [0.4964],\n",
      "        [0.7104],\n",
      "        [0.4575],\n",
      "        [0.6682],\n",
      "        [0.6525]], device='cuda:0', grad_fn=<AddmmBackward0>)\n",
      "torch.Size([8, 1])\n"
     ]
    },
    {
     "name": "stderr",
     "output_type": "stream",
     "text": [
      "Training Epoch 1/100:   1%|       | 432/67352 [00:22<55:35, 20.06batch/s, train loss (batch)=0.274]"
     ]
    },
    {
     "name": "stdout",
     "output_type": "stream",
     "text": [
      "tensor([[0.3985],\n",
      "        [0.6092],\n",
      "        [0.7664],\n",
      "        [0.6885],\n",
      "        [0.7242],\n",
      "        [0.6167],\n",
      "        [0.6503],\n",
      "        [0.8066]], device='cuda:0', grad_fn=<AddmmBackward0>)\n",
      "torch.Size([8, 1])\n"
     ]
    },
    {
     "name": "stderr",
     "output_type": "stream",
     "text": [
      "Training Epoch 1/100:   1%|        | 440/67352 [00:22<55:22, 20.14batch/s, train loss (batch)=0.17]"
     ]
    },
    {
     "name": "stdout",
     "output_type": "stream",
     "text": [
      "tensor([[0.6459],\n",
      "        [0.8253],\n",
      "        [0.7789],\n",
      "        [0.7602],\n",
      "        [0.6436],\n",
      "        [0.6472],\n",
      "        [0.9190],\n",
      "        [0.7069]], device='cuda:0', grad_fn=<AddmmBackward0>)\n",
      "torch.Size([8, 1])\n"
     ]
    },
    {
     "name": "stderr",
     "output_type": "stream",
     "text": [
      "Training Epoch 1/100:   1%|       | 448/67352 [00:23<55:31, 20.09batch/s, train loss (batch)=0.256]"
     ]
    },
    {
     "name": "stdout",
     "output_type": "stream",
     "text": [
      "tensor([[0.7233],\n",
      "        [0.6911],\n",
      "        [0.7808],\n",
      "        [0.7866],\n",
      "        [0.8140],\n",
      "        [0.8550],\n",
      "        [0.4385],\n",
      "        [0.6528]], device='cuda:0', grad_fn=<AddmmBackward0>)\n",
      "torch.Size([8, 1])\n"
     ]
    },
    {
     "name": "stderr",
     "output_type": "stream",
     "text": [
      "Training Epoch 1/100:   1%|       | 456/67352 [00:23<55:24, 20.12batch/s, train loss (batch)=0.367]"
     ]
    },
    {
     "name": "stdout",
     "output_type": "stream",
     "text": [
      "tensor([[0.7168],\n",
      "        [0.5734],\n",
      "        [0.7993],\n",
      "        [0.8879],\n",
      "        [0.8306],\n",
      "        [0.7129],\n",
      "        [0.6060],\n",
      "        [0.2638]], device='cuda:0', grad_fn=<AddmmBackward0>)\n",
      "torch.Size([8, 1])\n"
     ]
    },
    {
     "name": "stderr",
     "output_type": "stream",
     "text": [
      "Training Epoch 1/100:   1%|       | 464/67352 [00:23<55:28, 20.10batch/s, train loss (batch)=0.358]"
     ]
    },
    {
     "name": "stdout",
     "output_type": "stream",
     "text": [
      "tensor([[0.8102],\n",
      "        [0.5795],\n",
      "        [0.7127],\n",
      "        [0.7633],\n",
      "        [0.8078],\n",
      "        [0.6616],\n",
      "        [0.6486],\n",
      "        [0.9246]], device='cuda:0', grad_fn=<AddmmBackward0>)\n",
      "torch.Size([8, 1])\n"
     ]
    },
    {
     "name": "stderr",
     "output_type": "stream",
     "text": [
      "Training Epoch 1/100:   1%|       | 472/67352 [00:24<55:23, 20.12batch/s, train loss (batch)=0.198]"
     ]
    },
    {
     "name": "stdout",
     "output_type": "stream",
     "text": [
      "tensor([[0.6654],\n",
      "        [0.6445],\n",
      "        [0.5106],\n",
      "        [0.7634],\n",
      "        [0.7207],\n",
      "        [0.6638],\n",
      "        [0.7890],\n",
      "        [0.7139]], device='cuda:0', grad_fn=<AddmmBackward0>)\n",
      "torch.Size([8, 1])\n"
     ]
    },
    {
     "name": "stderr",
     "output_type": "stream",
     "text": [
      "Training Epoch 1/100:   1%|        | 480/67352 [00:24<55:51, 19.95batch/s, train loss (batch)=0.29]"
     ]
    },
    {
     "name": "stdout",
     "output_type": "stream",
     "text": [
      "tensor([[0.7759],\n",
      "        [0.5634],\n",
      "        [0.5855],\n",
      "        [0.7234],\n",
      "        [0.7821],\n",
      "        [0.5897],\n",
      "        [0.7525],\n",
      "        [0.7902]], device='cuda:0', grad_fn=<AddmmBackward0>)\n",
      "torch.Size([8, 1])\n"
     ]
    },
    {
     "name": "stderr",
     "output_type": "stream",
     "text": [
      "Training Epoch 1/100:   1%|       | 488/67352 [00:25<55:48, 19.97batch/s, train loss (batch)=0.248]"
     ]
    },
    {
     "name": "stdout",
     "output_type": "stream",
     "text": [
      "tensor([[0.6979],\n",
      "        [0.7068],\n",
      "        [0.7206],\n",
      "        [0.8803],\n",
      "        [0.6360],\n",
      "        [0.4604],\n",
      "        [0.4367],\n",
      "        [0.6860]], device='cuda:0', grad_fn=<AddmmBackward0>)\n",
      "torch.Size([8, 1])\n"
     ]
    },
    {
     "name": "stderr",
     "output_type": "stream",
     "text": [
      "Training Epoch 1/100:   1%|       | 496/67352 [00:25<55:41, 20.01batch/s, train loss (batch)=0.292]"
     ]
    },
    {
     "name": "stdout",
     "output_type": "stream",
     "text": [
      "tensor([[0.7741],\n",
      "        [0.7267],\n",
      "        [0.4762],\n",
      "        [0.7899],\n",
      "        [0.6187],\n",
      "        [0.7860],\n",
      "        [0.6902],\n",
      "        [0.6336]], device='cuda:0', grad_fn=<AddmmBackward0>)\n",
      "torch.Size([8, 1])\n"
     ]
    },
    {
     "name": "stderr",
     "output_type": "stream",
     "text": [
      "Training Epoch 1/100:   1%|       | 504/67352 [00:25<55:24, 20.11batch/s, train loss (batch)=0.155]"
     ]
    },
    {
     "name": "stdout",
     "output_type": "stream",
     "text": [
      "tensor([[0.7165],\n",
      "        [0.7110],\n",
      "        [0.4534],\n",
      "        [0.6436],\n",
      "        [0.3005],\n",
      "        [0.5714],\n",
      "        [0.4031],\n",
      "        [0.5009]], device='cuda:0', grad_fn=<AddmmBackward0>)\n",
      "torch.Size([8, 1])\n"
     ]
    },
    {
     "name": "stderr",
     "output_type": "stream",
     "text": [
      "Training Epoch 1/100:   1%|       | 512/67352 [00:26<55:34, 20.04batch/s, train loss (batch)=0.262]"
     ]
    },
    {
     "name": "stdout",
     "output_type": "stream",
     "text": [
      "tensor([[0.5140],\n",
      "        [0.5678],\n",
      "        [0.4428],\n",
      "        [0.5358],\n",
      "        [0.5769],\n",
      "        [0.3380],\n",
      "        [0.4946],\n",
      "        [0.5956]], device='cuda:0', grad_fn=<AddmmBackward0>)\n",
      "torch.Size([8, 1])\n"
     ]
    },
    {
     "name": "stderr",
     "output_type": "stream",
     "text": [
      "Training Epoch 1/100:   1%|        | 520/67352 [00:26<55:40, 20.01batch/s, train loss (batch)=0.26]"
     ]
    },
    {
     "name": "stdout",
     "output_type": "stream",
     "text": [
      "tensor([[0.5609],\n",
      "        [0.4827],\n",
      "        [0.3353],\n",
      "        [0.6290],\n",
      "        [0.5101],\n",
      "        [0.7043],\n",
      "        [0.5232],\n",
      "        [0.3535]], device='cuda:0', grad_fn=<AddmmBackward0>)\n",
      "torch.Size([8, 1])\n"
     ]
    },
    {
     "name": "stderr",
     "output_type": "stream",
     "text": [
      "Training Epoch 1/100:   1%|       | 528/67352 [00:27<55:42, 19.99batch/s, train loss (batch)=0.264]"
     ]
    },
    {
     "name": "stdout",
     "output_type": "stream",
     "text": [
      "tensor([[0.4098],\n",
      "        [0.4917],\n",
      "        [0.4837],\n",
      "        [0.4066],\n",
      "        [0.5623],\n",
      "        [0.6270],\n",
      "        [0.3419],\n",
      "        [0.3570]], device='cuda:0', grad_fn=<AddmmBackward0>)\n",
      "torch.Size([8, 1])\n"
     ]
    },
    {
     "name": "stderr",
     "output_type": "stream",
     "text": [
      "Training Epoch 1/100:   1%|        | 536/67352 [00:27<55:49, 19.95batch/s, train loss (batch)=0.27]"
     ]
    },
    {
     "name": "stdout",
     "output_type": "stream",
     "text": [
      "tensor([[0.5426],\n",
      "        [0.6175],\n",
      "        [0.4695],\n",
      "        [0.5402],\n",
      "        [0.5109],\n",
      "        [0.5373],\n",
      "        [0.5104],\n",
      "        [0.5309]], device='cuda:0', grad_fn=<AddmmBackward0>)\n",
      "torch.Size([8, 1])\n"
     ]
    },
    {
     "name": "stderr",
     "output_type": "stream",
     "text": [
      "Training Epoch 1/100:   1%|       | 544/67352 [00:28<55:57, 19.90batch/s, train loss (batch)=0.253]"
     ]
    },
    {
     "name": "stdout",
     "output_type": "stream",
     "text": [
      "tensor([[0.7042],\n",
      "        [0.2509],\n",
      "        [0.2354],\n",
      "        [0.4163],\n",
      "        [0.5249],\n",
      "        [0.2842],\n",
      "        [0.5165],\n",
      "        [0.2651]], device='cuda:0', grad_fn=<AddmmBackward0>)\n",
      "torch.Size([8, 1])\n"
     ]
    },
    {
     "name": "stderr",
     "output_type": "stream",
     "text": [
      "Training Epoch 1/100:   1%|        | 552/67352 [00:28<55:41, 19.99batch/s, train loss (batch)=0.31]"
     ]
    },
    {
     "name": "stdout",
     "output_type": "stream",
     "text": [
      "tensor([[0.4272],\n",
      "        [0.4591],\n",
      "        [0.4435],\n",
      "        [0.2643],\n",
      "        [0.5620],\n",
      "        [0.5752],\n",
      "        [0.4877],\n",
      "        [0.5548]], device='cuda:0', grad_fn=<AddmmBackward0>)\n",
      "torch.Size([8, 1])\n"
     ]
    },
    {
     "name": "stderr",
     "output_type": "stream",
     "text": [
      "Training Epoch 1/100:   1%|       | 560/67352 [00:28<55:30, 20.05batch/s, train loss (batch)=0.267]"
     ]
    },
    {
     "name": "stdout",
     "output_type": "stream",
     "text": [
      "tensor([[0.6870],\n",
      "        [0.5250],\n",
      "        [0.4734],\n",
      "        [0.4246],\n",
      "        [0.5930],\n",
      "        [0.6021],\n",
      "        [0.3549],\n",
      "        [0.1833]], device='cuda:0', grad_fn=<AddmmBackward0>)\n",
      "torch.Size([8, 1])\n"
     ]
    },
    {
     "name": "stderr",
     "output_type": "stream",
     "text": [
      "Training Epoch 1/100:   1%|       | 568/67352 [00:29<55:35, 20.02batch/s, train loss (batch)=0.278]"
     ]
    },
    {
     "name": "stdout",
     "output_type": "stream",
     "text": [
      "tensor([[0.7448],\n",
      "        [0.5543],\n",
      "        [0.5512],\n",
      "        [0.4271],\n",
      "        [0.6774],\n",
      "        [0.6271],\n",
      "        [0.5279],\n",
      "        [0.6386]], device='cuda:0', grad_fn=<AddmmBackward0>)\n",
      "torch.Size([8, 1])\n"
     ]
    },
    {
     "name": "stderr",
     "output_type": "stream",
     "text": [
      "Training Epoch 1/100:   1%|       | 576/67352 [00:29<55:33, 20.03batch/s, train loss (batch)=0.291]"
     ]
    },
    {
     "name": "stdout",
     "output_type": "stream",
     "text": [
      "tensor([[0.5878],\n",
      "        [0.5943],\n",
      "        [0.6564],\n",
      "        [0.6817],\n",
      "        [0.6030],\n",
      "        [0.5161],\n",
      "        [0.4061],\n",
      "        [0.5582]], device='cuda:0', grad_fn=<AddmmBackward0>)\n",
      "torch.Size([8, 1])\n"
     ]
    },
    {
     "name": "stderr",
     "output_type": "stream",
     "text": [
      "Training Epoch 1/100:   1%|       | 584/67352 [00:29<55:27, 20.07batch/s, train loss (batch)=0.224]"
     ]
    },
    {
     "name": "stdout",
     "output_type": "stream",
     "text": [
      "tensor([[0.4285],\n",
      "        [0.3810],\n",
      "        [0.5873],\n",
      "        [0.5088],\n",
      "        [0.7412],\n",
      "        [0.7715],\n",
      "        [0.5035],\n",
      "        [0.4805]], device='cuda:0', grad_fn=<AddmmBackward0>)\n",
      "torch.Size([8, 1])\n"
     ]
    },
    {
     "name": "stderr",
     "output_type": "stream",
     "text": [
      "Training Epoch 1/100:   1%|       | 592/67352 [00:30<55:15, 20.14batch/s, train loss (batch)=0.282]"
     ]
    },
    {
     "name": "stdout",
     "output_type": "stream",
     "text": [
      "tensor([[0.7694],\n",
      "        [0.3474],\n",
      "        [0.5413],\n",
      "        [0.5781],\n",
      "        [0.5801],\n",
      "        [0.5817],\n",
      "        [0.3902],\n",
      "        [0.5555]], device='cuda:0', grad_fn=<AddmmBackward0>)\n",
      "torch.Size([8, 1])\n"
     ]
    },
    {
     "name": "stderr",
     "output_type": "stream",
     "text": [
      "Training Epoch 1/100:   1%|       | 600/67352 [00:30<55:23, 20.08batch/s, train loss (batch)=0.245]"
     ]
    },
    {
     "name": "stdout",
     "output_type": "stream",
     "text": [
      "tensor([[0.6585],\n",
      "        [0.3358],\n",
      "        [0.6684],\n",
      "        [0.2337],\n",
      "        [0.7185],\n",
      "        [0.6150],\n",
      "        [0.6725],\n",
      "        [0.6773]], device='cuda:0', grad_fn=<AddmmBackward0>)\n",
      "torch.Size([8, 1])\n"
     ]
    },
    {
     "name": "stderr",
     "output_type": "stream",
     "text": [
      "Training Epoch 1/100:   1%|       | 608/67352 [00:31<55:25, 20.07batch/s, train loss (batch)=0.302]"
     ]
    },
    {
     "name": "stdout",
     "output_type": "stream",
     "text": [
      "tensor([[0.5793],\n",
      "        [0.5504],\n",
      "        [0.4471],\n",
      "        [0.4356],\n",
      "        [0.5419],\n",
      "        [0.6453],\n",
      "        [0.7296],\n",
      "        [0.6699]], device='cuda:0', grad_fn=<AddmmBackward0>)\n",
      "torch.Size([8, 1])\n"
     ]
    },
    {
     "name": "stderr",
     "output_type": "stream",
     "text": [
      "Training Epoch 1/100:   1%|       | 616/67352 [00:31<55:15, 20.13batch/s, train loss (batch)=0.284]"
     ]
    },
    {
     "name": "stdout",
     "output_type": "stream",
     "text": [
      "tensor([[0.6935],\n",
      "        [0.5446],\n",
      "        [0.6735],\n",
      "        [0.2458],\n",
      "        [0.6082],\n",
      "        [0.4630],\n",
      "        [0.3698],\n",
      "        [0.6097]], device='cuda:0', grad_fn=<AddmmBackward0>)\n",
      "torch.Size([8, 1])\n"
     ]
    },
    {
     "name": "stderr",
     "output_type": "stream",
     "text": [
      "Training Epoch 1/100:   1%|       | 624/67352 [00:31<55:22, 20.09batch/s, train loss (batch)=0.272]"
     ]
    },
    {
     "name": "stdout",
     "output_type": "stream",
     "text": [
      "tensor([[0.5997],\n",
      "        [0.5816],\n",
      "        [0.1092],\n",
      "        [0.1252],\n",
      "        [0.4649],\n",
      "        [0.5354],\n",
      "        [0.6142],\n",
      "        [0.5449]], device='cuda:0', grad_fn=<AddmmBackward0>)\n",
      "torch.Size([8, 1])\n"
     ]
    },
    {
     "name": "stderr",
     "output_type": "stream",
     "text": [
      "Training Epoch 1/100:   1%|       | 632/67352 [00:32<55:13, 20.14batch/s, train loss (batch)=0.278]"
     ]
    },
    {
     "name": "stdout",
     "output_type": "stream",
     "text": [
      "tensor([[0.6894],\n",
      "        [0.4197],\n",
      "        [0.5203],\n",
      "        [0.6539],\n",
      "        [0.5398],\n",
      "        [0.3160],\n",
      "        [0.4551],\n",
      "        [0.6157]], device='cuda:0', grad_fn=<AddmmBackward0>)\n",
      "torch.Size([8, 1])\n"
     ]
    },
    {
     "name": "stderr",
     "output_type": "stream",
     "text": [
      "Training Epoch 1/100:   1%|       | 640/67352 [00:32<55:23, 20.07batch/s, train loss (batch)=0.265]"
     ]
    },
    {
     "name": "stdout",
     "output_type": "stream",
     "text": [
      "tensor([[0.3275],\n",
      "        [0.6117],\n",
      "        [0.2913],\n",
      "        [0.6117],\n",
      "        [0.5621],\n",
      "        [0.4341],\n",
      "        [0.5625],\n",
      "        [0.3535]], device='cuda:0', grad_fn=<AddmmBackward0>)\n",
      "torch.Size([8, 1])\n"
     ]
    },
    {
     "name": "stderr",
     "output_type": "stream",
     "text": [
      "Training Epoch 1/100:   1%|       | 648/67352 [00:33<55:35, 20.00batch/s, train loss (batch)=0.274]"
     ]
    },
    {
     "name": "stdout",
     "output_type": "stream",
     "text": [
      "tensor([[0.3344],\n",
      "        [0.4717],\n",
      "        [0.4939],\n",
      "        [0.3391],\n",
      "        [0.5768],\n",
      "        [0.3304],\n",
      "        [0.5636],\n",
      "        [0.5291]], device='cuda:0', grad_fn=<AddmmBackward0>)\n",
      "torch.Size([8, 1])\n"
     ]
    },
    {
     "name": "stderr",
     "output_type": "stream",
     "text": [
      "Training Epoch 1/100:   1%|       | 656/67352 [00:33<55:35, 20.00batch/s, train loss (batch)=0.262]"
     ]
    },
    {
     "name": "stdout",
     "output_type": "stream",
     "text": [
      "tensor([[0.4068],\n",
      "        [0.6975],\n",
      "        [0.2837],\n",
      "        [0.6142],\n",
      "        [0.3398],\n",
      "        [0.3288],\n",
      "        [0.5743],\n",
      "        [0.5092]], device='cuda:0', grad_fn=<AddmmBackward0>)\n",
      "torch.Size([8, 1])\n"
     ]
    },
    {
     "name": "stderr",
     "output_type": "stream",
     "text": [
      "Training Epoch 1/100:   1%|       | 664/67352 [00:33<55:36, 19.99batch/s, train loss (batch)=0.279]"
     ]
    },
    {
     "name": "stdout",
     "output_type": "stream",
     "text": [
      "tensor([[0.5029],\n",
      "        [0.5734],\n",
      "        [0.5705],\n",
      "        [0.6156],\n",
      "        [0.6710],\n",
      "        [0.4963],\n",
      "        [0.6014],\n",
      "        [0.6196]], device='cuda:0', grad_fn=<AddmmBackward0>)\n",
      "torch.Size([8, 1])\n"
     ]
    },
    {
     "name": "stderr",
     "output_type": "stream",
     "text": [
      "Training Epoch 1/100:   1%|        | 672/67352 [00:34<55:33, 20.01batch/s, train loss (batch)=0.26]"
     ]
    },
    {
     "name": "stdout",
     "output_type": "stream",
     "text": [
      "tensor([[0.5146],\n",
      "        [0.7198],\n",
      "        [0.4901],\n",
      "        [0.6673],\n",
      "        [0.5053],\n",
      "        [0.5207],\n",
      "        [0.6136],\n",
      "        [0.4908]], device='cuda:0', grad_fn=<AddmmBackward0>)\n",
      "torch.Size([8, 1])\n"
     ]
    },
    {
     "name": "stderr",
     "output_type": "stream",
     "text": [
      "Training Epoch 1/100:   1%|       | 680/67352 [00:34<55:22, 20.06batch/s, train loss (batch)=0.212]"
     ]
    },
    {
     "name": "stdout",
     "output_type": "stream",
     "text": [
      "tensor([[0.6947],\n",
      "        [0.7210],\n",
      "        [0.7965],\n",
      "        [0.6829],\n",
      "        [0.5729],\n",
      "        [0.7291],\n",
      "        [0.5256],\n",
      "        [0.7101]], device='cuda:0', grad_fn=<AddmmBackward0>)\n",
      "torch.Size([8, 1])\n"
     ]
    },
    {
     "name": "stderr",
     "output_type": "stream",
     "text": [
      "Training Epoch 1/100:   1%|       | 688/67352 [00:35<55:26, 20.04batch/s, train loss (batch)=0.199]"
     ]
    },
    {
     "name": "stdout",
     "output_type": "stream",
     "text": [
      "tensor([[0.7031],\n",
      "        [0.6410],\n",
      "        [0.6731],\n",
      "        [0.7513],\n",
      "        [0.6729],\n",
      "        [0.7018],\n",
      "        [0.7117],\n",
      "        [0.7708]], device='cuda:0', grad_fn=<AddmmBackward0>)\n",
      "torch.Size([8, 1])\n"
     ]
    },
    {
     "name": "stderr",
     "output_type": "stream",
     "text": [
      "Training Epoch 1/100:   1%|       | 696/67352 [00:35<55:26, 20.04batch/s, train loss (batch)=0.191]"
     ]
    },
    {
     "name": "stdout",
     "output_type": "stream",
     "text": [
      "tensor([[0.8557],\n",
      "        [0.8751],\n",
      "        [1.0071],\n",
      "        [0.8303],\n",
      "        [0.6792],\n",
      "        [0.8028],\n",
      "        [0.7876],\n",
      "        [0.7912]], device='cuda:0', grad_fn=<AddmmBackward0>)\n",
      "torch.Size([8, 1])\n"
     ]
    },
    {
     "name": "stderr",
     "output_type": "stream",
     "text": [
      "Training Epoch 1/100:   1%|       | 704/67352 [00:35<55:23, 20.05batch/s, train loss (batch)=0.201]"
     ]
    },
    {
     "name": "stdout",
     "output_type": "stream",
     "text": [
      "tensor([[0.7635],\n",
      "        [0.8095],\n",
      "        [0.8808],\n",
      "        [0.7640],\n",
      "        [0.7992],\n",
      "        [1.0047],\n",
      "        [0.7596],\n",
      "        [0.8917]], device='cuda:0', grad_fn=<AddmmBackward0>)\n",
      "torch.Size([8, 1])\n"
     ]
    },
    {
     "name": "stderr",
     "output_type": "stream",
     "text": [
      "Training Epoch 1/100:   1%|       | 712/67352 [00:36<55:22, 20.06batch/s, train loss (batch)=0.619]"
     ]
    },
    {
     "name": "stdout",
     "output_type": "stream",
     "text": [
      "tensor([[0.8447],\n",
      "        [0.7374],\n",
      "        [0.8186],\n",
      "        [0.7446],\n",
      "        [0.9341],\n",
      "        [0.7985],\n",
      "        [0.8289],\n",
      "        [0.7228]], device='cuda:0', grad_fn=<AddmmBackward0>)\n",
      "torch.Size([8, 1])\n"
     ]
    },
    {
     "name": "stderr",
     "output_type": "stream",
     "text": [
      "Training Epoch 1/100:   1%|       | 720/67352 [00:36<55:17, 20.08batch/s, train loss (batch)=0.119]"
     ]
    },
    {
     "name": "stdout",
     "output_type": "stream",
     "text": [
      "tensor([[0.5923],\n",
      "        [0.6718],\n",
      "        [0.7589],\n",
      "        [0.6632],\n",
      "        [0.7339],\n",
      "        [0.6473],\n",
      "        [0.6227],\n",
      "        [0.5435]], device='cuda:0', grad_fn=<AddmmBackward0>)\n",
      "torch.Size([8, 1])\n"
     ]
    },
    {
     "name": "stderr",
     "output_type": "stream",
     "text": [
      "Training Epoch 1/100:   1%|       | 728/67352 [00:37<55:24, 20.04batch/s, train loss (batch)=0.201]"
     ]
    },
    {
     "name": "stdout",
     "output_type": "stream",
     "text": [
      "tensor([[0.6195],\n",
      "        [0.6959],\n",
      "        [0.5857],\n",
      "        [0.7191],\n",
      "        [0.8314],\n",
      "        [0.8565],\n",
      "        [0.7554],\n",
      "        [0.5536]], device='cuda:0', grad_fn=<AddmmBackward0>)\n",
      "torch.Size([8, 1])\n"
     ]
    },
    {
     "name": "stderr",
     "output_type": "stream",
     "text": [
      "Training Epoch 1/100:   1%|        | 736/67352 [00:37<55:25, 20.03batch/s, train loss (batch)=0.15]"
     ]
    },
    {
     "name": "stdout",
     "output_type": "stream",
     "text": [
      "tensor([[0.6690],\n",
      "        [0.7442],\n",
      "        [0.6816],\n",
      "        [0.7342],\n",
      "        [0.6455],\n",
      "        [0.6762],\n",
      "        [0.6881],\n",
      "        [0.7085]], device='cuda:0', grad_fn=<AddmmBackward0>)\n",
      "torch.Size([8, 1])\n"
     ]
    },
    {
     "name": "stderr",
     "output_type": "stream",
     "text": [
      "Training Epoch 1/100:   1%|       | 744/67352 [00:37<55:58, 19.84batch/s, train loss (batch)=0.337]"
     ]
    },
    {
     "name": "stdout",
     "output_type": "stream",
     "text": [
      "tensor([[0.6606],\n",
      "        [0.6661],\n",
      "        [0.5426],\n",
      "        [0.4841],\n",
      "        [0.6026],\n",
      "        [0.3584],\n",
      "        [0.4600],\n",
      "        [0.6212]], device='cuda:0', grad_fn=<AddmmBackward0>)\n",
      "torch.Size([8, 1])\n"
     ]
    },
    {
     "name": "stderr",
     "output_type": "stream",
     "text": [
      "Training Epoch 1/100:   1%|        | 752/67352 [00:38<55:38, 19.95batch/s, train loss (batch)=0.25]"
     ]
    },
    {
     "name": "stdout",
     "output_type": "stream",
     "text": [
      "tensor([[0.6078],\n",
      "        [0.6447],\n",
      "        [0.7321],\n",
      "        [0.5551],\n",
      "        [0.7579],\n",
      "        [0.6412],\n",
      "        [0.7003],\n",
      "        [0.4575]], device='cuda:0', grad_fn=<AddmmBackward0>)\n",
      "torch.Size([8, 1])\n"
     ]
    },
    {
     "name": "stderr",
     "output_type": "stream",
     "text": [
      "Training Epoch 1/100:   1%|       | 760/67352 [00:38<55:24, 20.03batch/s, train loss (batch)=0.277]"
     ]
    },
    {
     "name": "stdout",
     "output_type": "stream",
     "text": [
      "tensor([[0.6017],\n",
      "        [0.6692],\n",
      "        [0.5642],\n",
      "        [0.6297],\n",
      "        [0.6481],\n",
      "        [0.4364],\n",
      "        [0.6760],\n",
      "        [0.5444]], device='cuda:0', grad_fn=<AddmmBackward0>)\n",
      "torch.Size([8, 1])\n"
     ]
    },
    {
     "name": "stderr",
     "output_type": "stream",
     "text": [
      "Training Epoch 1/100:   1%|       | 768/67352 [00:39<55:38, 19.94batch/s, train loss (batch)=0.289]"
     ]
    },
    {
     "name": "stdout",
     "output_type": "stream",
     "text": [
      "tensor([[0.8313],\n",
      "        [0.5017],\n",
      "        [0.3621],\n",
      "        [0.6373],\n",
      "        [0.3431],\n",
      "        [0.6082],\n",
      "        [0.5410],\n",
      "        [0.4164]], device='cuda:0', grad_fn=<AddmmBackward0>)\n",
      "torch.Size([8, 1])\n"
     ]
    },
    {
     "name": "stderr",
     "output_type": "stream",
     "text": [
      "Training Epoch 1/100:   1%|       | 776/67352 [00:39<55:45, 19.90batch/s, train loss (batch)=0.297]"
     ]
    },
    {
     "name": "stdout",
     "output_type": "stream",
     "text": [
      "tensor([[0.2217],\n",
      "        [0.2674],\n",
      "        [0.2439],\n",
      "        [0.4610],\n",
      "        [0.2991],\n",
      "        [0.3937],\n",
      "        [0.5036],\n",
      "        [0.5203]], device='cuda:0', grad_fn=<AddmmBackward0>)\n",
      "torch.Size([8, 1])\n"
     ]
    },
    {
     "name": "stderr",
     "output_type": "stream",
     "text": [
      "Training Epoch 1/100:   1%|       | 784/67352 [00:39<55:45, 19.90batch/s, train loss (batch)=0.315]"
     ]
    },
    {
     "name": "stdout",
     "output_type": "stream",
     "text": [
      "tensor([[0.4122],\n",
      "        [0.3646],\n",
      "        [0.4951],\n",
      "        [0.3851],\n",
      "        [0.3175],\n",
      "        [0.4482],\n",
      "        [0.3190],\n",
      "        [0.5345]], device='cuda:0', grad_fn=<AddmmBackward0>)\n",
      "torch.Size([8, 1])\n"
     ]
    },
    {
     "name": "stderr",
     "output_type": "stream",
     "text": [
      "Training Epoch 1/100:   1%|       | 792/67352 [00:40<55:47, 19.88batch/s, train loss (batch)=0.332]"
     ]
    },
    {
     "name": "stdout",
     "output_type": "stream",
     "text": [
      "tensor([[0.1889],\n",
      "        [0.0890],\n",
      "        [0.0298],\n",
      "        [0.5640],\n",
      "        [0.2866],\n",
      "        [0.4952],\n",
      "        [0.2629],\n",
      "        [0.4196]], device='cuda:0', grad_fn=<AddmmBackward0>)\n",
      "torch.Size([8, 1])\n"
     ]
    },
    {
     "name": "stderr",
     "output_type": "stream",
     "text": [
      "Training Epoch 1/100:   1%|       | 800/67352 [00:40<55:42, 19.91batch/s, train loss (batch)=0.377]"
     ]
    },
    {
     "name": "stdout",
     "output_type": "stream",
     "text": [
      "tensor([[0.5257],\n",
      "        [0.2248],\n",
      "        [0.3313],\n",
      "        [0.1551],\n",
      "        [0.3481],\n",
      "        [0.3891],\n",
      "        [0.5154],\n",
      "        [0.3769]], device='cuda:0', grad_fn=<AddmmBackward0>)\n",
      "torch.Size([8, 1])\n"
     ]
    },
    {
     "name": "stderr",
     "output_type": "stream",
     "text": [
      "Training Epoch 1/100:   1%|       | 808/67352 [00:41<55:33, 19.96batch/s, train loss (batch)=0.284]"
     ]
    },
    {
     "name": "stdout",
     "output_type": "stream",
     "text": [
      "tensor([[0.2668],\n",
      "        [0.5368],\n",
      "        [0.4779],\n",
      "        [0.5949],\n",
      "        [0.4065],\n",
      "        [0.6783],\n",
      "        [0.5049],\n",
      "        [0.5880]], device='cuda:0', grad_fn=<AddmmBackward0>)\n",
      "torch.Size([8, 1])\n"
     ]
    },
    {
     "name": "stderr",
     "output_type": "stream",
     "text": [
      "Training Epoch 1/100:   1%|       | 816/67352 [00:41<55:35, 19.95batch/s, train loss (batch)=0.259]"
     ]
    },
    {
     "name": "stdout",
     "output_type": "stream",
     "text": [
      "tensor([[0.5924],\n",
      "        [0.7142],\n",
      "        [0.6683],\n",
      "        [0.7762],\n",
      "        [0.8320],\n",
      "        [0.7194],\n",
      "        [1.1326],\n",
      "        [0.6187]], device='cuda:0', grad_fn=<AddmmBackward0>)\n",
      "torch.Size([8, 1])\n"
     ]
    },
    {
     "name": "stderr",
     "output_type": "stream",
     "text": [
      "Training Epoch 1/100:   1%|        | 824/67352 [00:41<55:27, 20.00batch/s, train loss (batch)=0.47]"
     ]
    },
    {
     "name": "stdout",
     "output_type": "stream",
     "text": [
      "tensor([[0.7601],\n",
      "        [0.6913],\n",
      "        [0.8625],\n",
      "        [0.4369],\n",
      "        [0.6765],\n",
      "        [0.4581],\n",
      "        [0.4894],\n",
      "        [0.7218]], device='cuda:0', grad_fn=<AddmmBackward0>)\n",
      "torch.Size([8, 1])\n"
     ]
    },
    {
     "name": "stderr",
     "output_type": "stream",
     "text": [
      "Training Epoch 1/100:   1%|       | 832/67352 [00:42<55:30, 19.97batch/s, train loss (batch)=0.256]"
     ]
    },
    {
     "name": "stdout",
     "output_type": "stream",
     "text": [
      "tensor([[0.5780],\n",
      "        [0.6569],\n",
      "        [0.7464],\n",
      "        [0.8232],\n",
      "        [0.5873],\n",
      "        [0.4380],\n",
      "        [0.6580],\n",
      "        [0.7204]], device='cuda:0', grad_fn=<AddmmBackward0>)\n",
      "torch.Size([8, 1])\n"
     ]
    },
    {
     "name": "stderr",
     "output_type": "stream",
     "text": [
      "Training Epoch 1/100:   1%|       | 840/67352 [00:42<55:34, 19.95batch/s, train loss (batch)=0.285]"
     ]
    },
    {
     "name": "stdout",
     "output_type": "stream",
     "text": [
      "tensor([[0.6999],\n",
      "        [0.5275],\n",
      "        [0.7812],\n",
      "        [0.6985],\n",
      "        [0.4234],\n",
      "        [0.7762],\n",
      "        [0.6294],\n",
      "        [0.5778]], device='cuda:0', grad_fn=<AddmmBackward0>)\n",
      "torch.Size([8, 1])\n"
     ]
    },
    {
     "name": "stderr",
     "output_type": "stream",
     "text": [
      "Training Epoch 1/100:   1%|       | 848/67352 [00:43<55:24, 20.01batch/s, train loss (batch)=0.283]"
     ]
    },
    {
     "name": "stdout",
     "output_type": "stream",
     "text": [
      "tensor([[0.5456],\n",
      "        [0.5227],\n",
      "        [0.6124],\n",
      "        [0.5426],\n",
      "        [0.2980],\n",
      "        [0.7547],\n",
      "        [0.5156],\n",
      "        [0.5893]], device='cuda:0', grad_fn=<AddmmBackward0>)\n",
      "torch.Size([8, 1])\n"
     ]
    },
    {
     "name": "stderr",
     "output_type": "stream",
     "text": [
      "Training Epoch 1/100:   1%|       | 856/67352 [00:43<55:22, 20.01batch/s, train loss (batch)=0.243]"
     ]
    },
    {
     "name": "stdout",
     "output_type": "stream",
     "text": [
      "tensor([[0.6055],\n",
      "        [0.5637],\n",
      "        [0.6126],\n",
      "        [0.5259],\n",
      "        [0.6010],\n",
      "        [0.7932],\n",
      "        [0.6669],\n",
      "        [0.4823]], device='cuda:0', grad_fn=<AddmmBackward0>)\n",
      "torch.Size([8, 1])\n"
     ]
    },
    {
     "name": "stderr",
     "output_type": "stream",
     "text": [
      "Training Epoch 1/100:   1%|       | 864/67352 [00:43<55:17, 20.04batch/s, train loss (batch)=0.243]"
     ]
    },
    {
     "name": "stdout",
     "output_type": "stream",
     "text": [
      "tensor([[0.6792],\n",
      "        [0.5787],\n",
      "        [0.4106],\n",
      "        [0.7120],\n",
      "        [0.4809],\n",
      "        [0.5818],\n",
      "        [0.8140],\n",
      "        [0.6276]], device='cuda:0', grad_fn=<AddmmBackward0>)\n",
      "torch.Size([8, 1])\n"
     ]
    },
    {
     "name": "stderr",
     "output_type": "stream",
     "text": [
      "Training Epoch 1/100:   1%|       | 872/67352 [00:44<55:17, 20.04batch/s, train loss (batch)=0.277]"
     ]
    },
    {
     "name": "stdout",
     "output_type": "stream",
     "text": [
      "tensor([[0.6931],\n",
      "        [0.3446],\n",
      "        [0.6222],\n",
      "        [0.5909],\n",
      "        [0.5513],\n",
      "        [0.6040],\n",
      "        [0.5315],\n",
      "        [0.7303]], device='cuda:0', grad_fn=<AddmmBackward0>)\n",
      "torch.Size([8, 1])\n"
     ]
    },
    {
     "name": "stderr",
     "output_type": "stream",
     "text": [
      "Training Epoch 1/100:   1%|       | 880/67352 [00:44<55:10, 20.08batch/s, train loss (batch)=0.227]"
     ]
    },
    {
     "name": "stdout",
     "output_type": "stream",
     "text": [
      "tensor([[0.5823],\n",
      "        [0.5080],\n",
      "        [0.6966],\n",
      "        [0.6000],\n",
      "        [0.7483],\n",
      "        [0.5839],\n",
      "        [0.7382],\n",
      "        [0.8026]], device='cuda:0', grad_fn=<AddmmBackward0>)\n",
      "torch.Size([8, 1])\n"
     ]
    },
    {
     "name": "stderr",
     "output_type": "stream",
     "text": [
      "Training Epoch 1/100:   1%|       | 888/67352 [00:45<55:08, 20.09batch/s, train loss (batch)=0.284]"
     ]
    },
    {
     "name": "stdout",
     "output_type": "stream",
     "text": [
      "tensor([[0.4759],\n",
      "        [0.6455],\n",
      "        [0.5453],\n",
      "        [0.8718],\n",
      "        [0.7771],\n",
      "        [0.7273],\n",
      "        [0.5517],\n",
      "        [0.4806]], device='cuda:0', grad_fn=<AddmmBackward0>)\n",
      "torch.Size([8, 1])\n"
     ]
    },
    {
     "name": "stderr",
     "output_type": "stream",
     "text": [
      "Training Epoch 1/100:   1%|       | 896/67352 [00:45<55:03, 20.12batch/s, train loss (batch)=0.287]"
     ]
    },
    {
     "name": "stdout",
     "output_type": "stream",
     "text": [
      "tensor([[0.5202],\n",
      "        [0.7024],\n",
      "        [0.5413],\n",
      "        [0.6286],\n",
      "        [0.6531],\n",
      "        [0.4039],\n",
      "        [0.4481],\n",
      "        [0.6456]], device='cuda:0', grad_fn=<AddmmBackward0>)\n",
      "torch.Size([8, 1])\n"
     ]
    },
    {
     "name": "stderr",
     "output_type": "stream",
     "text": [
      "Training Epoch 1/100:   1%|       | 904/67352 [00:45<55:03, 20.11batch/s, train loss (batch)=0.265]"
     ]
    },
    {
     "name": "stdout",
     "output_type": "stream",
     "text": [
      "tensor([[0.5872],\n",
      "        [0.6072],\n",
      "        [0.5921],\n",
      "        [0.6726],\n",
      "        [0.5687],\n",
      "        [0.6361],\n",
      "        [0.8850],\n",
      "        [0.7184]], device='cuda:0', grad_fn=<AddmmBackward0>)\n",
      "torch.Size([8, 1])\n"
     ]
    },
    {
     "name": "stderr",
     "output_type": "stream",
     "text": [
      "Training Epoch 1/100:   1%|       | 912/67352 [00:46<54:59, 20.14batch/s, train loss (batch)=0.285]"
     ]
    },
    {
     "name": "stdout",
     "output_type": "stream",
     "text": [
      "tensor([[0.5202],\n",
      "        [0.5355],\n",
      "        [0.5516],\n",
      "        [0.6904],\n",
      "        [0.4882],\n",
      "        [0.6816],\n",
      "        [0.4196],\n",
      "        [0.2736]], device='cuda:0', grad_fn=<AddmmBackward0>)\n",
      "torch.Size([8, 1])\n"
     ]
    },
    {
     "name": "stderr",
     "output_type": "stream",
     "text": [
      "Training Epoch 1/100:   1%|       | 920/67352 [00:46<55:10, 20.07batch/s, train loss (batch)=0.266]"
     ]
    },
    {
     "name": "stdout",
     "output_type": "stream",
     "text": [
      "tensor([[0.4910],\n",
      "        [0.4443],\n",
      "        [0.5205],\n",
      "        [0.5731],\n",
      "        [0.5912],\n",
      "        [0.3891],\n",
      "        [0.6204],\n",
      "        [0.5011]], device='cuda:0', grad_fn=<AddmmBackward0>)\n",
      "torch.Size([8, 1])\n"
     ]
    },
    {
     "name": "stderr",
     "output_type": "stream",
     "text": [
      "Training Epoch 1/100:   1%|       | 928/67352 [00:47<55:19, 20.01batch/s, train loss (batch)=0.256]"
     ]
    },
    {
     "name": "stdout",
     "output_type": "stream",
     "text": [
      "tensor([[0.4697],\n",
      "        [0.7030],\n",
      "        [0.5556],\n",
      "        [0.5711],\n",
      "        [0.6072],\n",
      "        [0.5676],\n",
      "        [0.4016],\n",
      "        [0.5927]], device='cuda:0', grad_fn=<AddmmBackward0>)\n",
      "torch.Size([8, 1])\n"
     ]
    },
    {
     "name": "stderr",
     "output_type": "stream",
     "text": [
      "Training Epoch 1/100:   1%|       | 936/67352 [00:47<55:11, 20.05batch/s, train loss (batch)=0.261]"
     ]
    },
    {
     "name": "stdout",
     "output_type": "stream",
     "text": [
      "tensor([[0.3104],\n",
      "        [0.3898],\n",
      "        [0.3618],\n",
      "        [0.2421],\n",
      "        [0.5310],\n",
      "        [0.5199],\n",
      "        [0.5027],\n",
      "        [0.3183]], device='cuda:0', grad_fn=<AddmmBackward0>)\n",
      "torch.Size([8, 1])\n"
     ]
    },
    {
     "name": "stderr",
     "output_type": "stream",
     "text": [
      "Training Epoch 1/100:   1%|       | 944/67352 [00:47<55:12, 20.05batch/s, train loss (batch)=0.271]"
     ]
    },
    {
     "name": "stdout",
     "output_type": "stream",
     "text": [
      "tensor([[0.3734],\n",
      "        [0.3286],\n",
      "        [0.2579],\n",
      "        [0.4071],\n",
      "        [0.5687],\n",
      "        [0.5512],\n",
      "        [0.4694],\n",
      "        [0.5399]], device='cuda:0', grad_fn=<AddmmBackward0>)\n",
      "torch.Size([8, 1])\n"
     ]
    },
    {
     "name": "stderr",
     "output_type": "stream",
     "text": [
      "Training Epoch 1/100:   1%|       | 952/67352 [00:48<55:02, 20.10batch/s, train loss (batch)=0.281]"
     ]
    },
    {
     "name": "stdout",
     "output_type": "stream",
     "text": [
      "tensor([[0.5288],\n",
      "        [0.4360],\n",
      "        [0.4564],\n",
      "        [0.5732],\n",
      "        [0.5771],\n",
      "        [0.4678],\n",
      "        [0.5064],\n",
      "        [0.6882]], device='cuda:0', grad_fn=<AddmmBackward0>)\n",
      "torch.Size([8, 1])\n"
     ]
    },
    {
     "name": "stderr",
     "output_type": "stream",
     "text": [
      "Training Epoch 1/100:   1%|       | 960/67352 [00:48<54:58, 20.13batch/s, train loss (batch)=0.271]"
     ]
    },
    {
     "name": "stdout",
     "output_type": "stream",
     "text": [
      "tensor([[0.3822],\n",
      "        [0.4288],\n",
      "        [0.2230],\n",
      "        [0.5543],\n",
      "        [0.5720],\n",
      "        [0.4763],\n",
      "        [0.3822],\n",
      "        [0.4226]], device='cuda:0', grad_fn=<AddmmBackward0>)\n",
      "torch.Size([8, 1])\n"
     ]
    },
    {
     "name": "stderr",
     "output_type": "stream",
     "text": [
      "Training Epoch 1/100:   1%|       | 968/67352 [00:49<55:01, 20.11batch/s, train loss (batch)=0.283]"
     ]
    },
    {
     "name": "stdout",
     "output_type": "stream",
     "text": [
      "tensor([[0.5698],\n",
      "        [0.4747],\n",
      "        [0.4002],\n",
      "        [0.5320],\n",
      "        [0.4081],\n",
      "        [0.4244],\n",
      "        [0.5085],\n",
      "        [0.4010]], device='cuda:0', grad_fn=<AddmmBackward0>)\n",
      "torch.Size([8, 1])\n"
     ]
    },
    {
     "name": "stderr",
     "output_type": "stream",
     "text": [
      "Training Epoch 1/100:   1%|       | 976/67352 [00:49<55:11, 20.05batch/s, train loss (batch)=0.246]"
     ]
    },
    {
     "name": "stdout",
     "output_type": "stream",
     "text": [
      "tensor([[0.3617],\n",
      "        [0.3568],\n",
      "        [0.5619],\n",
      "        [0.5950],\n",
      "        [0.4986],\n",
      "        [0.3947],\n",
      "        [0.2045],\n",
      "        [0.4096]], device='cuda:0', grad_fn=<AddmmBackward0>)\n",
      "torch.Size([8, 1])\n"
     ]
    },
    {
     "name": "stderr",
     "output_type": "stream",
     "text": [
      "Training Epoch 1/100:   1%|       | 984/67352 [00:49<55:09, 20.06batch/s, train loss (batch)=0.289]"
     ]
    },
    {
     "name": "stdout",
     "output_type": "stream",
     "text": [
      "tensor([[0.5030],\n",
      "        [0.4777],\n",
      "        [0.2574],\n",
      "        [0.3960],\n",
      "        [0.5412],\n",
      "        [0.4507],\n",
      "        [0.5197],\n",
      "        [0.4098]], device='cuda:0', grad_fn=<AddmmBackward0>)\n",
      "torch.Size([8, 1])\n"
     ]
    },
    {
     "name": "stderr",
     "output_type": "stream",
     "text": [
      "Training Epoch 1/100:   1%|       | 992/67352 [00:50<55:18, 20.00batch/s, train loss (batch)=0.219]"
     ]
    },
    {
     "name": "stdout",
     "output_type": "stream",
     "text": [
      "tensor([[0.4731],\n",
      "        [0.6018],\n",
      "        [0.4462],\n",
      "        [0.4927],\n",
      "        [0.4133],\n",
      "        [0.5144],\n",
      "        [0.3813],\n",
      "        [0.4690]], device='cuda:0', grad_fn=<AddmmBackward0>)\n",
      "torch.Size([8, 1])\n"
     ]
    },
    {
     "name": "stderr",
     "output_type": "stream",
     "text": [
      "Training Epoch 1/100:   1%|      | 1000/67352 [00:50<55:16, 20.01batch/s, train loss (batch)=0.235]"
     ]
    },
    {
     "name": "stdout",
     "output_type": "stream",
     "text": [
      "tensor([[0.3334],\n",
      "        [0.3186],\n",
      "        [0.4139],\n",
      "        [0.6388],\n",
      "        [0.2465],\n",
      "        [0.4180],\n",
      "        [0.4040],\n",
      "        [0.3906]], device='cuda:0', grad_fn=<AddmmBackward0>)\n",
      "torch.Size([8, 1])\n"
     ]
    },
    {
     "name": "stderr",
     "output_type": "stream",
     "text": [
      "Training Epoch 1/100:   1%|      | 1008/67352 [00:51<55:22, 19.97batch/s, train loss (batch)=0.299]"
     ]
    },
    {
     "name": "stdout",
     "output_type": "stream",
     "text": [
      "tensor([[0.4130],\n",
      "        [0.3411],\n",
      "        [0.4258],\n",
      "        [0.4582],\n",
      "        [0.1591],\n",
      "        [0.3360],\n",
      "        [0.2208],\n",
      "        [0.3010]], device='cuda:0', grad_fn=<AddmmBackward0>)\n",
      "torch.Size([8, 1])\n"
     ]
    },
    {
     "name": "stderr",
     "output_type": "stream",
     "text": [
      "Training Epoch 1/100:   2%|       | 1016/67352 [00:51<55:19, 19.98batch/s, train loss (batch)=0.33]"
     ]
    },
    {
     "name": "stdout",
     "output_type": "stream",
     "text": [
      "tensor([[0.3322],\n",
      "        [0.2295],\n",
      "        [0.4233],\n",
      "        [0.2098],\n",
      "        [0.3606],\n",
      "        [0.3633],\n",
      "        [0.3622],\n",
      "        [0.3200]], device='cuda:0', grad_fn=<AddmmBackward0>)\n",
      "torch.Size([8, 1])\n"
     ]
    },
    {
     "name": "stderr",
     "output_type": "stream",
     "text": [
      "Training Epoch 1/100:   2%|      | 1024/67352 [00:51<55:08, 20.05batch/s, train loss (batch)=0.285]"
     ]
    },
    {
     "name": "stdout",
     "output_type": "stream",
     "text": [
      "tensor([[0.1882],\n",
      "        [0.6747],\n",
      "        [0.4712],\n",
      "        [0.4328],\n",
      "        [0.4941],\n",
      "        [0.3172],\n",
      "        [0.4276],\n",
      "        [0.4486]], device='cuda:0', grad_fn=<AddmmBackward0>)\n",
      "torch.Size([8, 1])\n"
     ]
    },
    {
     "name": "stderr",
     "output_type": "stream",
     "text": [
      "Training Epoch 1/100:   2%|      | 1032/67352 [00:52<55:18, 19.98batch/s, train loss (batch)=0.289]"
     ]
    },
    {
     "name": "stdout",
     "output_type": "stream",
     "text": [
      "tensor([[0.3216],\n",
      "        [0.3894],\n",
      "        [0.4867],\n",
      "        [0.4729],\n",
      "        [0.4357],\n",
      "        [0.0647],\n",
      "        [0.2907],\n",
      "        [0.4146]], device='cuda:0', grad_fn=<AddmmBackward0>)\n",
      "torch.Size([8, 1])\n"
     ]
    },
    {
     "name": "stderr",
     "output_type": "stream",
     "text": [
      "Training Epoch 1/100:   2%|      | 1040/67352 [00:52<55:10, 20.03batch/s, train loss (batch)=0.356]"
     ]
    },
    {
     "name": "stdout",
     "output_type": "stream",
     "text": [
      "tensor([[0.3099],\n",
      "        [0.4275],\n",
      "        [0.3703],\n",
      "        [0.4393],\n",
      "        [0.4446],\n",
      "        [0.4825],\n",
      "        [0.4663],\n",
      "        [0.6072]], device='cuda:0', grad_fn=<AddmmBackward0>)\n",
      "torch.Size([8, 1])\n"
     ]
    },
    {
     "name": "stderr",
     "output_type": "stream",
     "text": [
      "Training Epoch 1/100:   2%|      | 1048/67352 [00:53<55:14, 20.01batch/s, train loss (batch)=0.246]"
     ]
    },
    {
     "name": "stdout",
     "output_type": "stream",
     "text": [
      "tensor([[0.5788],\n",
      "        [0.4700],\n",
      "        [0.6194],\n",
      "        [0.7283],\n",
      "        [0.6721],\n",
      "        [0.4547],\n",
      "        [0.7690],\n",
      "        [0.6537]], device='cuda:0', grad_fn=<AddmmBackward0>)\n",
      "torch.Size([8, 1])\n"
     ]
    },
    {
     "name": "stderr",
     "output_type": "stream",
     "text": [
      "Training Epoch 1/100:   2%|      | 1056/67352 [00:53<55:13, 20.01batch/s, train loss (batch)=0.305]"
     ]
    },
    {
     "name": "stdout",
     "output_type": "stream",
     "text": [
      "tensor([[0.7613],\n",
      "        [0.6276],\n",
      "        [0.7123],\n",
      "        [0.8659],\n",
      "        [0.6706],\n",
      "        [0.6350],\n",
      "        [0.3605],\n",
      "        [0.4914]], device='cuda:0', grad_fn=<AddmmBackward0>)\n",
      "torch.Size([8, 1])\n"
     ]
    },
    {
     "name": "stderr",
     "output_type": "stream",
     "text": [
      "Training Epoch 1/100:   2%|      | 1064/67352 [00:53<55:05, 20.06batch/s, train loss (batch)=0.256]"
     ]
    },
    {
     "name": "stdout",
     "output_type": "stream",
     "text": [
      "tensor([[0.7643],\n",
      "        [0.5541],\n",
      "        [0.6878],\n",
      "        [0.7346],\n",
      "        [0.7345],\n",
      "        [0.5188],\n",
      "        [0.5275],\n",
      "        [0.7470]], device='cuda:0', grad_fn=<AddmmBackward0>)\n",
      "torch.Size([8, 1])\n"
     ]
    },
    {
     "name": "stderr",
     "output_type": "stream",
     "text": [
      "Training Epoch 1/100:   2%|      | 1072/67352 [00:54<54:50, 20.14batch/s, train loss (batch)=0.364]"
     ]
    },
    {
     "name": "stdout",
     "output_type": "stream",
     "text": [
      "tensor([[0.7009],\n",
      "        [0.7799],\n",
      "        [0.7229],\n",
      "        [0.6689],\n",
      "        [0.6911],\n",
      "        [0.6915],\n",
      "        [0.6839],\n",
      "        [0.7804]], device='cuda:0', grad_fn=<AddmmBackward0>)\n",
      "torch.Size([8, 1])\n"
     ]
    },
    {
     "name": "stderr",
     "output_type": "stream",
     "text": [
      "Training Epoch 1/100:   2%|      | 1080/67352 [00:54<55:01, 20.07batch/s, train loss (batch)=0.298]"
     ]
    },
    {
     "name": "stdout",
     "output_type": "stream",
     "text": [
      "tensor([[0.7354],\n",
      "        [0.5884],\n",
      "        [0.6671],\n",
      "        [0.6841],\n",
      "        [0.6694],\n",
      "        [0.5177],\n",
      "        [0.3980],\n",
      "        [0.8119]], device='cuda:0', grad_fn=<AddmmBackward0>)\n",
      "torch.Size([8, 1])\n"
     ]
    },
    {
     "name": "stderr",
     "output_type": "stream",
     "text": [
      "Training Epoch 1/100:   2%|      | 1088/67352 [00:55<55:05, 20.04batch/s, train loss (batch)=0.216]"
     ]
    },
    {
     "name": "stdout",
     "output_type": "stream",
     "text": [
      "tensor([[0.6956],\n",
      "        [0.6699],\n",
      "        [0.5607],\n",
      "        [0.5477],\n",
      "        [0.4742],\n",
      "        [0.6965],\n",
      "        [0.5960],\n",
      "        [0.7069]], device='cuda:0', grad_fn=<AddmmBackward0>)\n",
      "torch.Size([8, 1])\n"
     ]
    },
    {
     "name": "stderr",
     "output_type": "stream",
     "text": [
      "Training Epoch 1/100:   2%|      | 1096/67352 [00:55<55:10, 20.01batch/s, train loss (batch)=0.359]"
     ]
    },
    {
     "name": "stdout",
     "output_type": "stream",
     "text": [
      "tensor([[0.4648],\n",
      "        [0.5837],\n",
      "        [0.2698],\n",
      "        [0.5596],\n",
      "        [0.6418],\n",
      "        [0.5220],\n",
      "        [0.5539],\n",
      "        [0.7080]], device='cuda:0', grad_fn=<AddmmBackward0>)\n",
      "torch.Size([8, 1])\n"
     ]
    },
    {
     "name": "stderr",
     "output_type": "stream",
     "text": [
      "Training Epoch 1/100:   2%|      | 1104/67352 [00:55<55:13, 19.99batch/s, train loss (batch)=0.257]"
     ]
    },
    {
     "name": "stdout",
     "output_type": "stream",
     "text": [
      "tensor([[0.4972],\n",
      "        [0.4852],\n",
      "        [0.5893],\n",
      "        [0.3965],\n",
      "        [0.5453],\n",
      "        [0.5262],\n",
      "        [0.5205],\n",
      "        [0.4780]], device='cuda:0', grad_fn=<AddmmBackward0>)\n",
      "torch.Size([8, 1])\n"
     ]
    },
    {
     "name": "stderr",
     "output_type": "stream",
     "text": [
      "Training Epoch 1/100:   2%|      | 1112/67352 [00:56<55:11, 20.00batch/s, train loss (batch)=0.254]"
     ]
    },
    {
     "name": "stdout",
     "output_type": "stream",
     "text": [
      "tensor([[0.2998],\n",
      "        [0.4618],\n",
      "        [0.4667],\n",
      "        [0.5197],\n",
      "        [0.4553],\n",
      "        [0.4306],\n",
      "        [0.5318],\n",
      "        [0.4719]], device='cuda:0', grad_fn=<AddmmBackward0>)\n",
      "torch.Size([8, 1])\n"
     ]
    },
    {
     "name": "stderr",
     "output_type": "stream",
     "text": [
      "Training Epoch 1/100:   2%|      | 1120/67352 [00:56<55:17, 19.97batch/s, train loss (batch)=0.256]"
     ]
    },
    {
     "name": "stdout",
     "output_type": "stream",
     "text": [
      "tensor([[0.4387],\n",
      "        [0.5768],\n",
      "        [0.2238],\n",
      "        [0.3581],\n",
      "        [0.5413],\n",
      "        [0.4571],\n",
      "        [0.4176],\n",
      "        [0.4521]], device='cuda:0', grad_fn=<AddmmBackward0>)\n",
      "torch.Size([8, 1])\n"
     ]
    },
    {
     "name": "stderr",
     "output_type": "stream",
     "text": [
      "Training Epoch 1/100:   2%|      | 1128/67352 [00:57<55:21, 19.94batch/s, train loss (batch)=0.315]"
     ]
    },
    {
     "name": "stdout",
     "output_type": "stream",
     "text": [
      "tensor([[0.4891],\n",
      "        [0.6074],\n",
      "        [0.4761],\n",
      "        [0.4680],\n",
      "        [0.2911],\n",
      "        [0.5440],\n",
      "        [0.4857],\n",
      "        [0.5476]], device='cuda:0', grad_fn=<AddmmBackward0>)\n",
      "torch.Size([8, 1])\n"
     ]
    },
    {
     "name": "stderr",
     "output_type": "stream",
     "text": [
      "Training Epoch 1/100:   2%|      | 1136/67352 [00:57<55:27, 19.90batch/s, train loss (batch)=0.258]"
     ]
    },
    {
     "name": "stdout",
     "output_type": "stream",
     "text": [
      "tensor([[0.3464],\n",
      "        [0.5278],\n",
      "        [0.3540],\n",
      "        [0.4085],\n",
      "        [0.3397],\n",
      "        [0.4114],\n",
      "        [0.4412],\n",
      "        [0.6155]], device='cuda:0', grad_fn=<AddmmBackward0>)\n",
      "torch.Size([8, 1])\n"
     ]
    },
    {
     "name": "stderr",
     "output_type": "stream",
     "text": [
      "Training Epoch 1/100:   2%|       | 1144/67352 [00:57<55:19, 19.94batch/s, train loss (batch)=0.28]"
     ]
    },
    {
     "name": "stdout",
     "output_type": "stream",
     "text": [
      "tensor([[0.3885],\n",
      "        [0.4859],\n",
      "        [0.6122],\n",
      "        [0.5083],\n",
      "        [0.5715],\n",
      "        [0.6438],\n",
      "        [0.4840],\n",
      "        [0.3523]], device='cuda:0', grad_fn=<AddmmBackward0>)\n",
      "torch.Size([8, 1])\n"
     ]
    },
    {
     "name": "stderr",
     "output_type": "stream",
     "text": [
      "Training Epoch 1/100:   2%|      | 1152/67352 [00:58<55:12, 19.98batch/s, train loss (batch)=0.256]"
     ]
    },
    {
     "name": "stdout",
     "output_type": "stream",
     "text": [
      "tensor([[0.4291],\n",
      "        [0.4387],\n",
      "        [0.5215],\n",
      "        [0.4728],\n",
      "        [0.5800],\n",
      "        [0.6046],\n",
      "        [0.5413],\n",
      "        [0.3519]], device='cuda:0', grad_fn=<AddmmBackward0>)\n",
      "torch.Size([8, 1])\n"
     ]
    },
    {
     "name": "stderr",
     "output_type": "stream",
     "text": [
      "Training Epoch 1/100:   2%|      | 1160/67352 [00:58<55:18, 19.95batch/s, train loss (batch)=0.251]"
     ]
    },
    {
     "name": "stdout",
     "output_type": "stream",
     "text": [
      "tensor([[0.4055],\n",
      "        [0.3791],\n",
      "        [0.5303],\n",
      "        [0.6305],\n",
      "        [0.5460],\n",
      "        [0.4573],\n",
      "        [0.4386],\n",
      "        [0.4514]], device='cuda:0', grad_fn=<AddmmBackward0>)\n",
      "torch.Size([8, 1])\n"
     ]
    },
    {
     "name": "stderr",
     "output_type": "stream",
     "text": [
      "Training Epoch 1/100:   2%|      | 1168/67352 [00:59<55:10, 19.99batch/s, train loss (batch)=0.272]"
     ]
    },
    {
     "name": "stdout",
     "output_type": "stream",
     "text": [
      "tensor([[0.6061],\n",
      "        [0.5585],\n",
      "        [0.6086],\n",
      "        [0.5132],\n",
      "        [0.5959],\n",
      "        [0.6076],\n",
      "        [0.6564],\n",
      "        [0.5311]], device='cuda:0', grad_fn=<AddmmBackward0>)\n",
      "torch.Size([8, 1])\n"
     ]
    },
    {
     "name": "stderr",
     "output_type": "stream",
     "text": [
      "Training Epoch 1/100:   2%|      | 1176/67352 [00:59<55:10, 19.99batch/s, train loss (batch)=0.301]"
     ]
    },
    {
     "name": "stdout",
     "output_type": "stream",
     "text": [
      "tensor([[0.4514],\n",
      "        [0.5320],\n",
      "        [0.5772],\n",
      "        [0.4838],\n",
      "        [0.5551],\n",
      "        [0.4851],\n",
      "        [0.4551],\n",
      "        [0.5185]], device='cuda:0', grad_fn=<AddmmBackward0>)\n",
      "torch.Size([8, 1])\n"
     ]
    },
    {
     "name": "stderr",
     "output_type": "stream",
     "text": [
      "Training Epoch 1/100:   2%|      | 1184/67352 [00:59<55:09, 20.00batch/s, train loss (batch)=0.252]"
     ]
    },
    {
     "name": "stdout",
     "output_type": "stream",
     "text": [
      "tensor([[0.5971],\n",
      "        [0.5449],\n",
      "        [0.1984],\n",
      "        [0.5841],\n",
      "        [0.6774],\n",
      "        [0.5730],\n",
      "        [0.5356],\n",
      "        [0.4856]], device='cuda:0', grad_fn=<AddmmBackward0>)\n",
      "torch.Size([8, 1])\n"
     ]
    },
    {
     "name": "stderr",
     "output_type": "stream",
     "text": [
      "Training Epoch 1/100:   2%|      | 1192/67352 [01:00<55:11, 19.98batch/s, train loss (batch)=0.262]"
     ]
    },
    {
     "name": "stdout",
     "output_type": "stream",
     "text": [
      "tensor([[0.5437],\n",
      "        [0.5306],\n",
      "        [0.5217],\n",
      "        [0.7352],\n",
      "        [0.5691],\n",
      "        [0.5841],\n",
      "        [0.5868],\n",
      "        [0.6036]], device='cuda:0', grad_fn=<AddmmBackward0>)\n",
      "torch.Size([8, 1])\n"
     ]
    },
    {
     "name": "stderr",
     "output_type": "stream",
     "text": [
      "Training Epoch 1/100:   2%|      | 1200/67352 [01:00<55:12, 19.97batch/s, train loss (batch)=0.282]"
     ]
    },
    {
     "name": "stdout",
     "output_type": "stream",
     "text": [
      "tensor([[0.5860],\n",
      "        [0.6925],\n",
      "        [0.8297],\n",
      "        [0.5750],\n",
      "        [0.5505],\n",
      "        [0.5403],\n",
      "        [0.3586],\n",
      "        [0.6429]], device='cuda:0', grad_fn=<AddmmBackward0>)\n",
      "torch.Size([8, 1])\n"
     ]
    },
    {
     "name": "stderr",
     "output_type": "stream",
     "text": [
      "Training Epoch 1/100:   2%|▏       | 1208/67352 [01:01<55:12, 19.97batch/s, train loss (batch)=0.3]"
     ]
    },
    {
     "name": "stdout",
     "output_type": "stream",
     "text": [
      "tensor([[0.5353],\n",
      "        [0.6145],\n",
      "        [0.6784],\n",
      "        [0.5870],\n",
      "        [0.5061],\n",
      "        [0.5355],\n",
      "        [0.4501],\n",
      "        [0.3577]], device='cuda:0', grad_fn=<AddmmBackward0>)\n",
      "torch.Size([8, 1])\n"
     ]
    },
    {
     "name": "stderr",
     "output_type": "stream",
     "text": [
      "Training Epoch 1/100:   2%|      | 1216/67352 [01:01<55:06, 20.00batch/s, train loss (batch)=0.251]"
     ]
    },
    {
     "name": "stdout",
     "output_type": "stream",
     "text": [
      "tensor([[0.5964],\n",
      "        [0.4161],\n",
      "        [0.5037],\n",
      "        [0.5159],\n",
      "        [0.4713],\n",
      "        [0.5381],\n",
      "        [0.4900],\n",
      "        [0.6053]], device='cuda:0', grad_fn=<AddmmBackward0>)\n",
      "torch.Size([8, 1])\n"
     ]
    },
    {
     "name": "stderr",
     "output_type": "stream",
     "text": [
      "Training Epoch 1/100:   2%|      | 1224/67352 [01:01<55:01, 20.03batch/s, train loss (batch)=0.254]"
     ]
    },
    {
     "name": "stdout",
     "output_type": "stream",
     "text": [
      "tensor([[0.5333],\n",
      "        [0.5878],\n",
      "        [0.7198],\n",
      "        [0.4683],\n",
      "        [0.7234],\n",
      "        [0.5064],\n",
      "        [0.4838],\n",
      "        [0.4620]], device='cuda:0', grad_fn=<AddmmBackward0>)\n",
      "torch.Size([8, 1])\n"
     ]
    },
    {
     "name": "stderr",
     "output_type": "stream",
     "text": [
      "Training Epoch 1/100:   2%|      | 1232/67352 [01:02<55:02, 20.02batch/s, train loss (batch)=0.264]"
     ]
    },
    {
     "name": "stdout",
     "output_type": "stream",
     "text": [
      "tensor([[0.5884],\n",
      "        [0.3741],\n",
      "        [0.4864],\n",
      "        [0.4234],\n",
      "        [0.4359],\n",
      "        [0.5268],\n",
      "        [0.2993],\n",
      "        [0.5370]], device='cuda:0', grad_fn=<AddmmBackward0>)\n",
      "torch.Size([8, 1])\n"
     ]
    },
    {
     "name": "stderr",
     "output_type": "stream",
     "text": [
      "Training Epoch 1/100:   2%|▏      | 1240/67352 [01:02<55:06, 20.00batch/s, train loss (batch)=0.27]"
     ]
    },
    {
     "name": "stdout",
     "output_type": "stream",
     "text": [
      "tensor([[0.3452],\n",
      "        [0.1133],\n",
      "        [0.6802],\n",
      "        [0.5505],\n",
      "        [0.5656],\n",
      "        [0.3990],\n",
      "        [0.4255],\n",
      "        [0.3925]], device='cuda:0', grad_fn=<AddmmBackward0>)\n",
      "torch.Size([8, 1])\n"
     ]
    },
    {
     "name": "stderr",
     "output_type": "stream",
     "text": [
      "Training Epoch 1/100:   2%|      | 1248/67352 [01:03<55:14, 19.95batch/s, train loss (batch)=0.297]"
     ]
    },
    {
     "name": "stdout",
     "output_type": "stream",
     "text": [
      "tensor([[0.4657],\n",
      "        [0.6651],\n",
      "        [0.5945],\n",
      "        [0.5680],\n",
      "        [0.5350],\n",
      "        [0.5598],\n",
      "        [0.6192],\n",
      "        [0.6048]], device='cuda:0', grad_fn=<AddmmBackward0>)\n",
      "torch.Size([8, 1])\n"
     ]
    },
    {
     "name": "stderr",
     "output_type": "stream",
     "text": [
      "Training Epoch 1/100:   2%|      | 1256/67352 [01:03<55:11, 19.96batch/s, train loss (batch)=0.221]"
     ]
    },
    {
     "name": "stdout",
     "output_type": "stream",
     "text": [
      "tensor([[0.5969],\n",
      "        [0.4709],\n",
      "        [0.6115],\n",
      "        [0.5494],\n",
      "        [0.4246],\n",
      "        [0.3145],\n",
      "        [0.5184],\n",
      "        [0.5255]], device='cuda:0', grad_fn=<AddmmBackward0>)\n",
      "torch.Size([8, 1])\n"
     ]
    },
    {
     "name": "stderr",
     "output_type": "stream",
     "text": [
      "Training Epoch 1/100:   2%|      | 1264/67352 [01:03<55:18, 19.91batch/s, train loss (batch)=0.258]"
     ]
    },
    {
     "name": "stdout",
     "output_type": "stream",
     "text": [
      "tensor([[0.4538],\n",
      "        [0.6217],\n",
      "        [0.5642],\n",
      "        [0.4901],\n",
      "        [0.6269],\n",
      "        [0.6293],\n",
      "        [0.5407],\n",
      "        [0.6004]], device='cuda:0', grad_fn=<AddmmBackward0>)\n",
      "torch.Size([8, 1])\n"
     ]
    },
    {
     "name": "stderr",
     "output_type": "stream",
     "text": [
      "Training Epoch 1/100:   2%|      | 1272/67352 [01:04<55:09, 19.97batch/s, train loss (batch)=0.242]"
     ]
    },
    {
     "name": "stdout",
     "output_type": "stream",
     "text": [
      "tensor([[0.7212],\n",
      "        [0.5106],\n",
      "        [0.6835],\n",
      "        [0.4788],\n",
      "        [0.6003],\n",
      "        [0.6054],\n",
      "        [0.5695],\n",
      "        [0.6115]], device='cuda:0', grad_fn=<AddmmBackward0>)\n",
      "torch.Size([8, 1])\n"
     ]
    },
    {
     "name": "stderr",
     "output_type": "stream",
     "text": [
      "Training Epoch 1/100:   2%|      | 1280/67352 [01:04<55:50, 19.72batch/s, train loss (batch)=0.265]\n"
     ]
    },
    {
     "ename": "KeyboardInterrupt",
     "evalue": "",
     "output_type": "error",
     "traceback": [
      "\u001b[0;31m---------------------------------------------------------------------------\u001b[0m",
      "\u001b[0;31mKeyboardInterrupt\u001b[0m                         Traceback (most recent call last)",
      "\u001b[0;32m/tmp/ipykernel_1259300/4066428602.py\u001b[0m in \u001b[0;36m<module>\u001b[0;34m\u001b[0m\n\u001b[0;32m----> 1\u001b[0;31m \u001b[0mbbb\u001b[0m\u001b[0;34m.\u001b[0m\u001b[0mtraining_loops\u001b[0m\u001b[0;34m.\u001b[0m\u001b[0mrun_training_config\u001b[0m\u001b[0;34m(\u001b[0m\u001b[0mrun_dicts\u001b[0m\u001b[0;34m[\u001b[0m\u001b[0;36m2\u001b[0m\u001b[0;34m]\u001b[0m\u001b[0;34m)\u001b[0m\u001b[0;34m\u001b[0m\u001b[0;34m\u001b[0m\u001b[0m\n\u001b[0m",
      "\u001b[0;32m~/src/NLP-brain-biased-robustness/nlpbbb/training_loops.py\u001b[0m in \u001b[0;36mrun_training_config\u001b[0;34m(config)\u001b[0m\n\u001b[1;32m     47\u001b[0m                         \u001b[0mval_losses\u001b[0m\u001b[0;34m.\u001b[0m\u001b[0mappend\u001b[0m\u001b[0;34m(\u001b[0m\u001b[0mval_loop\u001b[0m\u001b[0;34m(\u001b[0m\u001b[0mconfig\u001b[0m\u001b[0;34m[\u001b[0m\u001b[0;34m\"experiment\"\u001b[0m\u001b[0;34m]\u001b[0m\u001b[0;34m,\u001b[0m \u001b[0mexp\u001b[0m\u001b[0;34m,\u001b[0m \u001b[0mepoch\u001b[0m\u001b[0;34m,\u001b[0m \u001b[0mval_loader\u001b[0m\u001b[0;34m,\u001b[0m \u001b[0mdevice\u001b[0m\u001b[0;34m)\u001b[0m\u001b[0;34m)\u001b[0m\u001b[0;34m\u001b[0m\u001b[0;34m\u001b[0m\u001b[0m\n\u001b[1;32m     48\u001b[0m \u001b[0;34m\u001b[0m\u001b[0m\n\u001b[0;32m---> 49\u001b[0;31m         \u001b[0mtrain_loss\u001b[0m \u001b[0;34m=\u001b[0m \u001b[0mtrain_loop\u001b[0m\u001b[0;34m(\u001b[0m\u001b[0mconfig\u001b[0m\u001b[0;34m[\u001b[0m\u001b[0;34m\"experiment\"\u001b[0m\u001b[0;34m]\u001b[0m\u001b[0;34m,\u001b[0m \u001b[0mexp\u001b[0m\u001b[0;34m,\u001b[0m \u001b[0mepoch\u001b[0m\u001b[0;34m,\u001b[0m \u001b[0mdevice\u001b[0m\u001b[0;34m)\u001b[0m\u001b[0;34m\u001b[0m\u001b[0;34m\u001b[0m\u001b[0m\n\u001b[0m\u001b[1;32m     50\u001b[0m         \u001b[0;31m#save whenever you validate\u001b[0m\u001b[0;34m\u001b[0m\u001b[0;34m\u001b[0m\u001b[0;34m\u001b[0m\u001b[0m\n\u001b[1;32m     51\u001b[0m         \u001b[0;32mif\u001b[0m \u001b[0mepoch\u001b[0m \u001b[0;34m%\u001b[0m \u001b[0mconfig\u001b[0m\u001b[0;34m[\u001b[0m\u001b[0;34m\"experiment\"\u001b[0m\u001b[0;34m]\u001b[0m\u001b[0;34m[\u001b[0m\u001b[0;34m\"val_frequency\"\u001b[0m\u001b[0;34m]\u001b[0m \u001b[0;34m==\u001b[0m \u001b[0;36m0\u001b[0m\u001b[0;34m:\u001b[0m\u001b[0;34m\u001b[0m\u001b[0;34m\u001b[0m\u001b[0m\n",
      "\u001b[0;32m~/src/NLP-brain-biased-robustness/nlpbbb/training_loops.py\u001b[0m in \u001b[0;36mtrain_loop\u001b[0;34m(train_config, exp, epoch, device)\u001b[0m\n\u001b[1;32m     70\u001b[0m             \u001b[0;32mfor\u001b[0m \u001b[0mbatch\u001b[0m \u001b[0;32min\u001b[0m \u001b[0mdataloader\u001b[0m\u001b[0;34m:\u001b[0m \u001b[0;31m#tryin unpacking text from 'labels' as in model development\u001b[0m\u001b[0;34m\u001b[0m\u001b[0;34m\u001b[0m\u001b[0m\n\u001b[1;32m     71\u001b[0m                 \u001b[0mexp\u001b[0m\u001b[0;34m.\u001b[0m\u001b[0moptimizer\u001b[0m\u001b[0;34m.\u001b[0m\u001b[0mzero_grad\u001b[0m\u001b[0;34m(\u001b[0m\u001b[0;34m)\u001b[0m\u001b[0;34m\u001b[0m\u001b[0;34m\u001b[0m\u001b[0m\n\u001b[0;32m---> 72\u001b[0;31m                 \u001b[0mloss\u001b[0m \u001b[0;34m=\u001b[0m \u001b[0mexp\u001b[0m\u001b[0;34m.\u001b[0m\u001b[0mtrain_forward_pass\u001b[0m\u001b[0;34m(\u001b[0m\u001b[0mbatch\u001b[0m\u001b[0;34m,\u001b[0m \u001b[0mdevice\u001b[0m\u001b[0;34m)\u001b[0m\u001b[0;34m\u001b[0m\u001b[0;34m\u001b[0m\u001b[0m\n\u001b[0m\u001b[1;32m     73\u001b[0m                 \u001b[0;31m# standard pytorch backprop\u001b[0m\u001b[0;34m\u001b[0m\u001b[0;34m\u001b[0m\u001b[0;34m\u001b[0m\u001b[0m\n\u001b[1;32m     74\u001b[0m                 \u001b[0mloss\u001b[0m\u001b[0;34m.\u001b[0m\u001b[0mbackward\u001b[0m\u001b[0;34m(\u001b[0m\u001b[0;34m)\u001b[0m\u001b[0;34m\u001b[0m\u001b[0;34m\u001b[0m\u001b[0m\n",
      "\u001b[0;32m~/src/NLP-brain-biased-robustness/nlpbbb/TorchExperiments/SST2Experiment.py\u001b[0m in \u001b[0;36mtrain_forward_pass\u001b[0;34m(self, batch, device)\u001b[0m\n\u001b[1;32m     42\u001b[0m         \u001b[0mbatch\u001b[0m \u001b[0;34m=\u001b[0m \u001b[0;34m{\u001b[0m\u001b[0mk\u001b[0m\u001b[0;34m:\u001b[0m \u001b[0mv\u001b[0m\u001b[0;34m.\u001b[0m\u001b[0mto\u001b[0m\u001b[0;34m(\u001b[0m\u001b[0mdevice\u001b[0m\u001b[0;34m)\u001b[0m \u001b[0;32mfor\u001b[0m \u001b[0mk\u001b[0m\u001b[0;34m,\u001b[0m \u001b[0mv\u001b[0m \u001b[0;32min\u001b[0m \u001b[0mbatch\u001b[0m\u001b[0;34m.\u001b[0m\u001b[0mitems\u001b[0m\u001b[0;34m(\u001b[0m\u001b[0;34m)\u001b[0m\u001b[0;34m}\u001b[0m\u001b[0;34m\u001b[0m\u001b[0;34m\u001b[0m\u001b[0m\n\u001b[1;32m     43\u001b[0m         \u001b[0mfeatures\u001b[0m \u001b[0;34m=\u001b[0m \u001b[0;34m{\u001b[0m\u001b[0mk\u001b[0m\u001b[0;34m:\u001b[0m \u001b[0mv\u001b[0m \u001b[0;32mfor\u001b[0m \u001b[0mk\u001b[0m\u001b[0;34m,\u001b[0m \u001b[0mv\u001b[0m \u001b[0;32min\u001b[0m \u001b[0mbatch\u001b[0m\u001b[0;34m.\u001b[0m\u001b[0mitems\u001b[0m\u001b[0;34m(\u001b[0m\u001b[0;34m)\u001b[0m \u001b[0;32mif\u001b[0m \u001b[0mk\u001b[0m \u001b[0;34m!=\u001b[0m \u001b[0;34m'labels'\u001b[0m\u001b[0;34m}\u001b[0m\u001b[0;34m\u001b[0m\u001b[0;34m\u001b[0m\u001b[0m\n\u001b[0;32m---> 44\u001b[0;31m         \u001b[0mpreds\u001b[0m \u001b[0;34m=\u001b[0m \u001b[0mself\u001b[0m\u001b[0;34m.\u001b[0m\u001b[0mmodel\u001b[0m\u001b[0;34m(\u001b[0m\u001b[0mfeatures\u001b[0m\u001b[0;34m)\u001b[0m\u001b[0;34m\u001b[0m\u001b[0;34m\u001b[0m\u001b[0m\n\u001b[0m\u001b[1;32m     45\u001b[0m         \u001b[0mloss\u001b[0m \u001b[0;34m=\u001b[0m \u001b[0mself\u001b[0m\u001b[0;34m.\u001b[0m\u001b[0mloss_function\u001b[0m\u001b[0;34m(\u001b[0m\u001b[0mpreds\u001b[0m\u001b[0;34m,\u001b[0m \u001b[0mbatch\u001b[0m\u001b[0;34m[\u001b[0m\u001b[0;34m'labels'\u001b[0m\u001b[0;34m]\u001b[0m\u001b[0;34m.\u001b[0m\u001b[0mfloat\u001b[0m\u001b[0;34m(\u001b[0m\u001b[0;34m)\u001b[0m\u001b[0;34m)\u001b[0m\u001b[0;34m\u001b[0m\u001b[0;34m\u001b[0m\u001b[0m\n\u001b[1;32m     46\u001b[0m         \u001b[0;32mreturn\u001b[0m \u001b[0mloss\u001b[0m\u001b[0;34m\u001b[0m\u001b[0;34m\u001b[0m\u001b[0m\n",
      "\u001b[0;32m~/anaconda3/envs/nlpbbb/lib/python3.7/site-packages/torch/nn/modules/module.py\u001b[0m in \u001b[0;36m_call_impl\u001b[0;34m(self, *input, **kwargs)\u001b[0m\n\u001b[1;32m   1108\u001b[0m         if not (self._backward_hooks or self._forward_hooks or self._forward_pre_hooks or _global_backward_hooks\n\u001b[1;32m   1109\u001b[0m                 or _global_forward_hooks or _global_forward_pre_hooks):\n\u001b[0;32m-> 1110\u001b[0;31m             \u001b[0;32mreturn\u001b[0m \u001b[0mforward_call\u001b[0m\u001b[0;34m(\u001b[0m\u001b[0;34m*\u001b[0m\u001b[0minput\u001b[0m\u001b[0;34m,\u001b[0m \u001b[0;34m**\u001b[0m\u001b[0mkwargs\u001b[0m\u001b[0;34m)\u001b[0m\u001b[0;34m\u001b[0m\u001b[0;34m\u001b[0m\u001b[0m\n\u001b[0m\u001b[1;32m   1111\u001b[0m         \u001b[0;31m# Do not call functions when jit is used\u001b[0m\u001b[0;34m\u001b[0m\u001b[0;34m\u001b[0m\u001b[0;34m\u001b[0m\u001b[0m\n\u001b[1;32m   1112\u001b[0m         \u001b[0mfull_backward_hooks\u001b[0m\u001b[0;34m,\u001b[0m \u001b[0mnon_full_backward_hooks\u001b[0m \u001b[0;34m=\u001b[0m \u001b[0;34m[\u001b[0m\u001b[0;34m]\u001b[0m\u001b[0;34m,\u001b[0m \u001b[0;34m[\u001b[0m\u001b[0;34m]\u001b[0m\u001b[0;34m\u001b[0m\u001b[0;34m\u001b[0m\u001b[0m\n",
      "\u001b[0;32m~/src/NLP-brain-biased-robustness/nlpbbb/networks.py\u001b[0m in \u001b[0;36mforward\u001b[0;34m(self, x)\u001b[0m\n\u001b[1;32m     98\u001b[0m         \u001b[0mcls_representation\u001b[0m \u001b[0;34m=\u001b[0m \u001b[0mrepresentations\u001b[0m\u001b[0;34m[\u001b[0m\u001b[0;34m:\u001b[0m\u001b[0;34m,\u001b[0m\u001b[0;36m0\u001b[0m\u001b[0;34m,\u001b[0m\u001b[0;34m:\u001b[0m\u001b[0;34m]\u001b[0m\u001b[0;34m\u001b[0m\u001b[0;34m\u001b[0m\u001b[0m\n\u001b[1;32m     99\u001b[0m         \u001b[0mpred\u001b[0m \u001b[0;34m=\u001b[0m \u001b[0mself\u001b[0m\u001b[0;34m.\u001b[0m\u001b[0mlinear\u001b[0m\u001b[0;34m(\u001b[0m\u001b[0mcls_representation\u001b[0m\u001b[0;34m)\u001b[0m\u001b[0;34m\u001b[0m\u001b[0;34m\u001b[0m\u001b[0m\n\u001b[0;32m--> 100\u001b[0;31m         \u001b[0;32mreturn\u001b[0m \u001b[0mself\u001b[0m\u001b[0;34m.\u001b[0m\u001b[0msigmoid\u001b[0m\u001b[0;34m(\u001b[0m\u001b[0mpred\u001b[0m\u001b[0;34m)\u001b[0m\u001b[0;34m\u001b[0m\u001b[0;34m\u001b[0m\u001b[0m\n\u001b[0m\u001b[1;32m    101\u001b[0m \u001b[0;34m\u001b[0m\u001b[0m\n\u001b[1;32m    102\u001b[0m \u001b[0;34m\u001b[0m\u001b[0m\n",
      "\u001b[0;32m~/anaconda3/envs/nlpbbb/lib/python3.7/site-packages/torch/_tensor.py\u001b[0m in \u001b[0;36m__repr__\u001b[0;34m(self)\u001b[0m\n\u001b[1;32m    303\u001b[0m             \u001b[0;32mreturn\u001b[0m \u001b[0mhandle_torch_function\u001b[0m\u001b[0;34m(\u001b[0m\u001b[0mTensor\u001b[0m\u001b[0;34m.\u001b[0m\u001b[0m__repr__\u001b[0m\u001b[0;34m,\u001b[0m \u001b[0;34m(\u001b[0m\u001b[0mself\u001b[0m\u001b[0;34m,\u001b[0m\u001b[0;34m)\u001b[0m\u001b[0;34m,\u001b[0m \u001b[0mself\u001b[0m\u001b[0;34m)\u001b[0m\u001b[0;34m\u001b[0m\u001b[0;34m\u001b[0m\u001b[0m\n\u001b[1;32m    304\u001b[0m         \u001b[0;31m# All strings are unicode in Python 3.\u001b[0m\u001b[0;34m\u001b[0m\u001b[0;34m\u001b[0m\u001b[0;34m\u001b[0m\u001b[0m\n\u001b[0;32m--> 305\u001b[0;31m         \u001b[0;32mreturn\u001b[0m \u001b[0mtorch\u001b[0m\u001b[0;34m.\u001b[0m\u001b[0m_tensor_str\u001b[0m\u001b[0;34m.\u001b[0m\u001b[0m_str\u001b[0m\u001b[0;34m(\u001b[0m\u001b[0mself\u001b[0m\u001b[0;34m)\u001b[0m\u001b[0;34m\u001b[0m\u001b[0;34m\u001b[0m\u001b[0m\n\u001b[0m\u001b[1;32m    306\u001b[0m \u001b[0;34m\u001b[0m\u001b[0m\n\u001b[1;32m    307\u001b[0m     \u001b[0;32mdef\u001b[0m \u001b[0mbackward\u001b[0m\u001b[0;34m(\u001b[0m\u001b[0mself\u001b[0m\u001b[0;34m,\u001b[0m \u001b[0mgradient\u001b[0m\u001b[0;34m=\u001b[0m\u001b[0;32mNone\u001b[0m\u001b[0;34m,\u001b[0m \u001b[0mretain_graph\u001b[0m\u001b[0;34m=\u001b[0m\u001b[0;32mNone\u001b[0m\u001b[0;34m,\u001b[0m \u001b[0mcreate_graph\u001b[0m\u001b[0;34m=\u001b[0m\u001b[0;32mFalse\u001b[0m\u001b[0;34m,\u001b[0m \u001b[0minputs\u001b[0m\u001b[0;34m=\u001b[0m\u001b[0;32mNone\u001b[0m\u001b[0;34m)\u001b[0m\u001b[0;34m:\u001b[0m\u001b[0;34m\u001b[0m\u001b[0;34m\u001b[0m\u001b[0m\n",
      "\u001b[0;32m~/anaconda3/envs/nlpbbb/lib/python3.7/site-packages/torch/_tensor_str.py\u001b[0m in \u001b[0;36m_str\u001b[0;34m(self)\u001b[0m\n\u001b[1;32m    432\u001b[0m \u001b[0;32mdef\u001b[0m \u001b[0m_str\u001b[0m\u001b[0;34m(\u001b[0m\u001b[0mself\u001b[0m\u001b[0;34m)\u001b[0m\u001b[0;34m:\u001b[0m\u001b[0;34m\u001b[0m\u001b[0;34m\u001b[0m\u001b[0m\n\u001b[1;32m    433\u001b[0m     \u001b[0;32mwith\u001b[0m \u001b[0mtorch\u001b[0m\u001b[0;34m.\u001b[0m\u001b[0mno_grad\u001b[0m\u001b[0;34m(\u001b[0m\u001b[0;34m)\u001b[0m\u001b[0;34m:\u001b[0m\u001b[0;34m\u001b[0m\u001b[0;34m\u001b[0m\u001b[0m\n\u001b[0;32m--> 434\u001b[0;31m         \u001b[0;32mreturn\u001b[0m \u001b[0m_str_intern\u001b[0m\u001b[0;34m(\u001b[0m\u001b[0mself\u001b[0m\u001b[0;34m)\u001b[0m\u001b[0;34m\u001b[0m\u001b[0;34m\u001b[0m\u001b[0m\n\u001b[0m",
      "\u001b[0;32m~/anaconda3/envs/nlpbbb/lib/python3.7/site-packages/torch/_tensor_str.py\u001b[0m in \u001b[0;36m_str_intern\u001b[0;34m(inp)\u001b[0m\n\u001b[1;32m    407\u001b[0m                     \u001b[0mtensor_str\u001b[0m \u001b[0;34m=\u001b[0m \u001b[0m_tensor_str\u001b[0m\u001b[0;34m(\u001b[0m\u001b[0mself\u001b[0m\u001b[0;34m.\u001b[0m\u001b[0mto_dense\u001b[0m\u001b[0;34m(\u001b[0m\u001b[0;34m)\u001b[0m\u001b[0;34m,\u001b[0m \u001b[0mindent\u001b[0m\u001b[0;34m)\u001b[0m\u001b[0;34m\u001b[0m\u001b[0;34m\u001b[0m\u001b[0m\n\u001b[1;32m    408\u001b[0m                 \u001b[0;32melse\u001b[0m\u001b[0;34m:\u001b[0m\u001b[0;34m\u001b[0m\u001b[0;34m\u001b[0m\u001b[0m\n\u001b[0;32m--> 409\u001b[0;31m                     \u001b[0mtensor_str\u001b[0m \u001b[0;34m=\u001b[0m \u001b[0m_tensor_str\u001b[0m\u001b[0;34m(\u001b[0m\u001b[0mself\u001b[0m\u001b[0;34m,\u001b[0m \u001b[0mindent\u001b[0m\u001b[0;34m)\u001b[0m\u001b[0;34m\u001b[0m\u001b[0;34m\u001b[0m\u001b[0m\n\u001b[0m\u001b[1;32m    410\u001b[0m \u001b[0;34m\u001b[0m\u001b[0m\n\u001b[1;32m    411\u001b[0m     \u001b[0;32mif\u001b[0m \u001b[0mself\u001b[0m\u001b[0;34m.\u001b[0m\u001b[0mlayout\u001b[0m \u001b[0;34m!=\u001b[0m \u001b[0mtorch\u001b[0m\u001b[0;34m.\u001b[0m\u001b[0mstrided\u001b[0m\u001b[0;34m:\u001b[0m\u001b[0;34m\u001b[0m\u001b[0;34m\u001b[0m\u001b[0m\n",
      "\u001b[0;32m~/anaconda3/envs/nlpbbb/lib/python3.7/site-packages/torch/_tensor_str.py\u001b[0m in \u001b[0;36m_tensor_str\u001b[0;34m(self, indent)\u001b[0m\n\u001b[1;32m    262\u001b[0m         \u001b[0;32mreturn\u001b[0m \u001b[0m_tensor_str_with_formatter\u001b[0m\u001b[0;34m(\u001b[0m\u001b[0mself\u001b[0m\u001b[0;34m,\u001b[0m \u001b[0mindent\u001b[0m\u001b[0;34m,\u001b[0m \u001b[0msummarize\u001b[0m\u001b[0;34m,\u001b[0m \u001b[0mreal_formatter\u001b[0m\u001b[0;34m,\u001b[0m \u001b[0mimag_formatter\u001b[0m\u001b[0;34m)\u001b[0m\u001b[0;34m\u001b[0m\u001b[0;34m\u001b[0m\u001b[0m\n\u001b[1;32m    263\u001b[0m     \u001b[0;32melse\u001b[0m\u001b[0;34m:\u001b[0m\u001b[0;34m\u001b[0m\u001b[0;34m\u001b[0m\u001b[0m\n\u001b[0;32m--> 264\u001b[0;31m         \u001b[0mformatter\u001b[0m \u001b[0;34m=\u001b[0m \u001b[0m_Formatter\u001b[0m\u001b[0;34m(\u001b[0m\u001b[0mget_summarized_data\u001b[0m\u001b[0;34m(\u001b[0m\u001b[0mself\u001b[0m\u001b[0;34m)\u001b[0m \u001b[0;32mif\u001b[0m \u001b[0msummarize\u001b[0m \u001b[0;32melse\u001b[0m \u001b[0mself\u001b[0m\u001b[0;34m)\u001b[0m\u001b[0;34m\u001b[0m\u001b[0;34m\u001b[0m\u001b[0m\n\u001b[0m\u001b[1;32m    265\u001b[0m         \u001b[0;32mreturn\u001b[0m \u001b[0m_tensor_str_with_formatter\u001b[0m\u001b[0;34m(\u001b[0m\u001b[0mself\u001b[0m\u001b[0;34m,\u001b[0m \u001b[0mindent\u001b[0m\u001b[0;34m,\u001b[0m \u001b[0msummarize\u001b[0m\u001b[0;34m,\u001b[0m \u001b[0mformatter\u001b[0m\u001b[0;34m)\u001b[0m\u001b[0;34m\u001b[0m\u001b[0;34m\u001b[0m\u001b[0m\n\u001b[1;32m    266\u001b[0m \u001b[0;34m\u001b[0m\u001b[0m\n",
      "\u001b[0;32m~/anaconda3/envs/nlpbbb/lib/python3.7/site-packages/torch/_tensor_str.py\u001b[0m in \u001b[0;36m__init__\u001b[0;34m(self, tensor)\u001b[0m\n\u001b[1;32m     98\u001b[0m \u001b[0;34m\u001b[0m\u001b[0m\n\u001b[1;32m     99\u001b[0m         \u001b[0;32melse\u001b[0m\u001b[0;34m:\u001b[0m\u001b[0;34m\u001b[0m\u001b[0;34m\u001b[0m\u001b[0m\n\u001b[0;32m--> 100\u001b[0;31m             \u001b[0mnonzero_finite_vals\u001b[0m \u001b[0;34m=\u001b[0m \u001b[0mtorch\u001b[0m\u001b[0;34m.\u001b[0m\u001b[0mmasked_select\u001b[0m\u001b[0;34m(\u001b[0m\u001b[0mtensor_view\u001b[0m\u001b[0;34m,\u001b[0m \u001b[0mtorch\u001b[0m\u001b[0;34m.\u001b[0m\u001b[0misfinite\u001b[0m\u001b[0;34m(\u001b[0m\u001b[0mtensor_view\u001b[0m\u001b[0;34m)\u001b[0m \u001b[0;34m&\u001b[0m \u001b[0mtensor_view\u001b[0m\u001b[0;34m.\u001b[0m\u001b[0mne\u001b[0m\u001b[0;34m(\u001b[0m\u001b[0;36m0\u001b[0m\u001b[0;34m)\u001b[0m\u001b[0;34m)\u001b[0m\u001b[0;34m\u001b[0m\u001b[0;34m\u001b[0m\u001b[0m\n\u001b[0m\u001b[1;32m    101\u001b[0m \u001b[0;34m\u001b[0m\u001b[0m\n\u001b[1;32m    102\u001b[0m             \u001b[0;32mif\u001b[0m \u001b[0mnonzero_finite_vals\u001b[0m\u001b[0;34m.\u001b[0m\u001b[0mnumel\u001b[0m\u001b[0;34m(\u001b[0m\u001b[0;34m)\u001b[0m \u001b[0;34m==\u001b[0m \u001b[0;36m0\u001b[0m\u001b[0;34m:\u001b[0m\u001b[0;34m\u001b[0m\u001b[0;34m\u001b[0m\u001b[0m\n",
      "\u001b[0;31mKeyboardInterrupt\u001b[0m: "
     ]
    }
   ],
   "source": [
    "bbb.training_loops.run_training_config(run_dicts[3])"
   ]
  }
 ],
 "metadata": {
  "kernelspec": {
   "display_name": "nlpbbb",
   "language": "python",
   "name": "nlpbbb"
  },
  "language_info": {
   "codemirror_mode": {
    "name": "ipython",
    "version": 3
   },
   "file_extension": ".py",
   "mimetype": "text/x-python",
   "name": "python",
   "nbconvert_exporter": "python",
   "pygments_lexer": "ipython3",
   "version": "3.7.5"
  }
 },
 "nbformat": 4,
 "nbformat_minor": 5
}
