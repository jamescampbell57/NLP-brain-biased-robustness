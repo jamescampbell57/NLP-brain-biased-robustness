{
 "cells": [
  {
   "cell_type": "code",
   "execution_count": 1,
   "id": "electric-edition",
   "metadata": {},
   "outputs": [],
   "source": [
    "import nlpbbb as bbb\n",
    "import pprint"
   ]
  },
  {
   "cell_type": "code",
   "execution_count": 2,
   "id": "0999f8c7",
   "metadata": {},
   "outputs": [],
   "source": [
    "settings = {\n",
    "    \"experiment\":{\n",
    "        \"lr\": [0.001]\n",
    "    },\n",
    "    \"misc\": {\n",
    "        \"save\": [True]\n",
    "    }\n",
    "}"
   ]
  },
  {
   "cell_type": "code",
   "execution_count": 3,
   "id": "b97e9b74",
   "metadata": {},
   "outputs": [],
   "source": [
    "config_dicts = bbb.setup.create_gridsearch(settings, default_name=\"HarryPotter_DEFAULT\", merge_default=True)"
   ]
  },
  {
   "cell_type": "code",
   "execution_count": 4,
   "id": "ec406b51",
   "metadata": {},
   "outputs": [
    {
     "name": "stdout",
     "output_type": "stream",
     "text": [
      "[{'dataset': {'seed': 42, 'subjects': ['1']},\n",
      "  'experiment': {'batchsize': 8,\n",
      "                 'epochs': 20,\n",
      "                 'experiment_type': 'HarryPotter',\n",
      "                 'lr': 0.001,\n",
      "                 'model_and_task': 'BrainBiasedBert-HarryPotter',\n",
      "                 'name': 'model_type:BrainBiasedBert/lr:0.001',\n",
      "                 'val_frequency': 5},\n",
      "  'loss': {'name': 'MSE'},\n",
      "  'misc': {'save': True},\n",
      "  'model': {'num_out': 5,\n",
      "            'return_CLS_rep': False,\n",
      "            'sigmoid': False,\n",
      "            'type': 'BrainBiasedBert'}}]\n"
     ]
    }
   ],
   "source": [
    "pprint.pprint(config_dicts)"
   ]
  },
  {
   "cell_type": "code",
   "execution_count": 5,
   "id": "0fa0606e",
   "metadata": {},
   "outputs": [
    {
     "name": "stderr",
     "output_type": "stream",
     "text": [
      "sacct: error: slurm_persist_conn_open_without_init: failed to open persistent connection to host:slurmdbd:6819: Connection timed out\n",
      "sacct: error: Sending PersistInit msg: Connection timed out\n",
      "sacct: error: Problem talking to the database: Connection timed out\n",
      "submitit WARNING (2022-05-16 05:14:09,558) - Call #1 - Bypassing sacct error Command '['sacct', '-o', 'JobID,State,NodeList', '--parsable2', '-j', '571930']' returned non-zero exit status 1., status may be inaccurate.\n"
     ]
    },
    {
     "name": "stdout",
     "output_type": "stream",
     "text": [
      "submitit WARNING (2022-05-16 05:14:09,558) - Call #1 - Bypassing sacct error Command '['sacct', '-o', 'JobID,State,NodeList', '--parsable2', '-j', '571930']' returned non-zero exit status 1., status may be inaccurate.\n"
     ]
    },
    {
     "data": {
      "text/plain": [
       "[SlurmJob<job_id=571930, task_id=0, state=\"UNKNOWN\">]"
      ]
     },
     "execution_count": 5,
     "metadata": {},
     "output_type": "execute_result"
    }
   ],
   "source": [
    "bbb.setup.run_submitit_job_array(config_dicts, timeout=(6 * 60), mem=16)"
   ]
  }
 ],
 "metadata": {
  "kernelspec": {
   "display_name": "nlpbbb",
   "language": "python",
   "name": "nlpbbb"
  },
  "language_info": {
   "codemirror_mode": {
    "name": "ipython",
    "version": 3
   },
   "file_extension": ".py",
   "mimetype": "text/x-python",
   "name": "python",
   "nbconvert_exporter": "python",
   "pygments_lexer": "ipython3",
   "version": "3.7.5"
  }
 },
 "nbformat": 4,
 "nbformat_minor": 5
}
