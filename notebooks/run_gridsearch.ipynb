{
 "cells": [
  {
   "cell_type": "code",
   "execution_count": 1,
   "id": "electric-edition",
   "metadata": {},
   "outputs": [],
   "source": [
    "import nlpbbb as bbb\n",
    "import pprint"
   ]
  },
  {
   "cell_type": "code",
   "execution_count": 2,
   "id": "0999f8c7",
   "metadata": {},
   "outputs": [],
   "source": [
    "settings = {\n",
    "    \"experiment\":{\n",
    "        \"lr\": [0.0001],\n",
    "        \"epochs\": [100],\n",
    "        \"batchsize\": [8]\n",
    "    },\n",
    "    \"model\":{\n",
    "        \"brain_biased\": [False],\n",
    "        \"state_path\": [\"results/models/05.16.22/model_type:BrainBiasedBert$lr:5e-05/epoch:16/train_info\"]\n",
    "    },\n",
    "    \"misc\": {\n",
    "        \"save\": [True]\n",
    "    }\n",
    "}"
   ]
  },
  {
   "cell_type": "code",
   "execution_count": 3,
   "id": "7756db45",
   "metadata": {},
   "outputs": [],
   "source": [
    "base_exps = [\"Amazon_BABY\", \"MNLI_DEFAULT\", \"Yelp_ITALIAN\", \"SST2_DEFAULT2\"]"
   ]
  },
  {
   "cell_type": "code",
   "execution_count": 4,
   "id": "b97e9b74",
   "metadata": {},
   "outputs": [],
   "source": [
    "#config_dicts = bbb.setup.create_gridsearch(settings, default_name=\"HarryPotter_DEFAULT\", merge_default=True)"
   ]
  },
  {
   "cell_type": "code",
   "execution_count": 5,
   "id": "0fa0606e",
   "metadata": {},
   "outputs": [],
   "source": [
    "#run_dicts = []\n",
    "for be in base_exps:\n",
    "    config_dicts = bbb.setup.create_gridsearch(settings, default_name=be, merge_default=True)\n",
    "    #for cd in config_dicts:\n",
    "    #    run_dicts.append(cd)\n",
    "    bbb.setup.run_submitit_job_array(config_dicts, timeout=(12 * 60), mem=16)"
   ]
  },
  {
   "cell_type": "code",
   "execution_count": 6,
   "id": "b7fd04a4",
   "metadata": {},
   "outputs": [],
   "source": [
    "#pprint.pprint(run_dicts[3])"
   ]
  },
  {
   "cell_type": "code",
   "execution_count": 7,
   "id": "1cd8dd1b",
   "metadata": {
    "scrolled": false
   },
   "outputs": [],
   "source": [
    "#bbb.training_loops.run_training_config(run_dicts[3])"
   ]
  }
 ],
 "metadata": {
  "kernelspec": {
   "display_name": "nlpbbb",
   "language": "python",
   "name": "nlpbbb"
  },
  "language_info": {
   "codemirror_mode": {
    "name": "ipython",
    "version": 3
   },
   "file_extension": ".py",
   "mimetype": "text/x-python",
   "name": "python",
   "nbconvert_exporter": "python",
   "pygments_lexer": "ipython3",
   "version": "3.7.5"
  }
 },
 "nbformat": 4,
 "nbformat_minor": 5
}
